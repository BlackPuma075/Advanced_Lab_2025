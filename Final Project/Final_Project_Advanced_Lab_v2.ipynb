{
  "nbformat": 4,
  "nbformat_minor": 0,
  "metadata": {
    "colab": {
      "provenance": [],
      "authorship_tag": "ABX9TyNRdYwULkK8WLC7/aAzYuLo",
      "include_colab_link": true
    },
    "kernelspec": {
      "name": "python3",
      "display_name": "Python 3"
    },
    "language_info": {
      "name": "python"
    }
  },
  "cells": [
    {
      "cell_type": "markdown",
      "metadata": {
        "id": "view-in-github",
        "colab_type": "text"
      },
      "source": [
        "<a href=\"https://colab.research.google.com/github/BlackPuma075/Advanced_Lab_2025/blob/main/Final%20Project/Final_Project_Advanced_Lab_v2.ipynb\" target=\"_parent\"><img src=\"https://colab.research.google.com/assets/colab-badge.svg\" alt=\"Open In Colab\"/></a>"
      ]
    },
    {
      "cell_type": "markdown",
      "source": [
        "**Matter Power Spectrum Catalog**\n",
        "\n",
        "-Class computation of the spectra\n",
        "\n",
        "-Variation on $\\Omega_m$ only\n",
        "\n",
        "-100 spectra catalog"
      ],
      "metadata": {
        "id": "EmC3rLOpb_96"
      }
    },
    {
      "cell_type": "code",
      "execution_count": 3,
      "metadata": {
        "id": "p3H_aZVySg9i"
      },
      "outputs": [],
      "source": [
        "import numpy as np\n",
        "import matplotlib.pyplot as plt"
      ]
    },
    {
      "cell_type": "code",
      "source": [
        "!apt-get install -y gfortran\n",
        "!git clone https://github.com/lesgourg/class_public.git\n",
        "%cd class_public\n",
        "!make\n",
        "\n",
        "# Volver al directorio base\n",
        "%cd python\n",
        "!python3 setup.py install"
      ],
      "metadata": {
        "colab": {
          "base_uri": "https://localhost:8080/"
        },
        "id": "hJyFoS29Srlm",
        "outputId": "f711432b-d8bf-4d65-aebb-9dddbb7152bb"
      },
      "execution_count": 4,
      "outputs": [
        {
          "output_type": "stream",
          "name": "stdout",
          "text": [
            "Reading package lists... Done\n",
            "Building dependency tree... Done\n",
            "Reading state information... Done\n",
            "gfortran is already the newest version (4:11.2.0-1ubuntu1).\n",
            "0 upgraded, 0 newly installed, 0 to remove and 34 not upgraded.\n",
            "Cloning into 'class_public'...\n",
            "remote: Enumerating objects: 31195, done.\u001b[K\n",
            "remote: Total 31195 (delta 0), reused 0 (delta 0), pack-reused 31195 (from 2)\u001b[K\n",
            "Receiving objects: 100% (31195/31195), 772.26 MiB | 29.58 MiB/s, done.\n",
            "Resolving deltas: 100% (21623/21623), done.\n",
            "/content/class_public\n",
            "if ! [ -e /content/class_public/build ]; then mkdir /content/class_public/build ; mkdir /content/class_public/build/lib; fi;\n",
            "touch build/.base\n",
            "cd /content/class_public/build;gcc -O3 -pthread  -g -fPIC -D__CLASSDIR__='\"/content/class_public\"' -DHYREC -I../include -I../external/RecfastCLASS -I../external/heating -I../external/HyRec2020 -I../external/Halofit -I../external/HMcode -c ../tools/growTable.c -o growTable.o\n",
            "cd /content/class_public/build;gcc -O3 -pthread  -g -fPIC -D__CLASSDIR__='\"/content/class_public\"' -DHYREC -I../include -I../external/RecfastCLASS -I../external/heating -I../external/HyRec2020 -I../external/Halofit -I../external/HMcode -c ../tools/dei_rkck.c -o dei_rkck.o\n",
            "cd /content/class_public/build;gcc -O3 -pthread  -g -fPIC -D__CLASSDIR__='\"/content/class_public\"' -DHYREC -I../include -I../external/RecfastCLASS -I../external/heating -I../external/HyRec2020 -I../external/Halofit -I../external/HMcode -c ../tools/sparse.c -o sparse.o\n",
            "cd /content/class_public/build;gcc -O3 -pthread  -g -fPIC -D__CLASSDIR__='\"/content/class_public\"' -DHYREC -I../include -I../external/RecfastCLASS -I../external/heating -I../external/HyRec2020 -I../external/Halofit -I../external/HMcode -c ../tools/evolver_rkck.c -o evolver_rkck.o\n",
            "cd /content/class_public/build;gcc -O3 -pthread  -g -fPIC -D__CLASSDIR__='\"/content/class_public\"' -DHYREC -I../include -I../external/RecfastCLASS -I../external/heating -I../external/HyRec2020 -I../external/Halofit -I../external/HMcode -c ../tools/evolver_ndf15.c -o evolver_ndf15.o\n",
            "cd /content/class_public/build;g++ --std=c++11 -fpermissive -Wno-write-strings -O3 -pthread  -g -fPIC -D__CLASSDIR__='\"/content/class_public\"' -DHYREC -I../include -I../external/RecfastCLASS -I../external/heating -I../external/HyRec2020 -I../external/Halofit -I../external/HMcode -c ../tools/arrays.c -o arrays.opp\n",
            "cd /content/class_public/build;gcc -O3 -pthread  -g -fPIC -D__CLASSDIR__='\"/content/class_public\"' -DHYREC -I../include -I../external/RecfastCLASS -I../external/heating -I../external/HyRec2020 -I../external/Halofit -I../external/HMcode -c ../tools/parser.c -o parser.o\n",
            "cd /content/class_public/build;gcc -O3 -pthread  -g -fPIC -D__CLASSDIR__='\"/content/class_public\"' -DHYREC -I../include -I../external/RecfastCLASS -I../external/heating -I../external/HyRec2020 -I../external/Halofit -I../external/HMcode -c ../tools/quadrature.c -o quadrature.o\n",
            "cd /content/class_public/build;g++ --std=c++11 -fpermissive -Wno-write-strings -O3 -pthread  -g -fPIC -D__CLASSDIR__='\"/content/class_public\"' -DHYREC -I../include -I../external/RecfastCLASS -I../external/heating -I../external/HyRec2020 -I../external/Halofit -I../external/HMcode -c ../tools/hyperspherical.c -o hyperspherical.opp\n",
            "cd /content/class_public/build;gcc -O3 -pthread  -g -fPIC -D__CLASSDIR__='\"/content/class_public\"' -DHYREC -I../include -I../external/RecfastCLASS -I../external/heating -I../external/HyRec2020 -I../external/Halofit -I../external/HMcode -c ../tools/common.c -o common.o\n",
            "cd /content/class_public/build;gcc -O3 -pthread  -g -fPIC -D__CLASSDIR__='\"/content/class_public\"' -DHYREC -I../include -I../external/RecfastCLASS -I../external/heating -I../external/HyRec2020 -I../external/Halofit -I../external/HMcode -c ../tools/trigonometric_integrals.c -o trigonometric_integrals.o\n",
            "cd /content/class_public/build;gcc -O3 -pthread  -g -fPIC -D__CLASSDIR__='\"/content/class_public\"' -DHYREC -I../include -I../external/RecfastCLASS -I../external/heating -I../external/HyRec2020 -I../external/Halofit -I../external/HMcode -c ../source/input.c -o input.o\n",
            "cd /content/class_public/build;gcc -O3 -pthread  -g -fPIC -D__CLASSDIR__='\"/content/class_public\"' -DHYREC -I../include -I../external/RecfastCLASS -I../external/heating -I../external/HyRec2020 -I../external/Halofit -I../external/HMcode -c ../source/background.c -o background.o\n",
            "cd /content/class_public/build;gcc -O3 -pthread  -g -fPIC -D__CLASSDIR__='\"/content/class_public\"' -DHYREC -I../include -I../external/RecfastCLASS -I../external/heating -I../external/HyRec2020 -I../external/Halofit -I../external/HMcode -c ../source/thermodynamics.c -o thermodynamics.o\n",
            "cd /content/class_public/build;g++ --std=c++11 -fpermissive -Wno-write-strings -O3 -pthread  -g -fPIC -D__CLASSDIR__='\"/content/class_public\"' -DHYREC -I../include -I../external/RecfastCLASS -I../external/heating -I../external/HyRec2020 -I../external/Halofit -I../external/HMcode -c ../source/perturbations.c -o perturbations.opp\n",
            "cd /content/class_public/build;g++ --std=c++11 -fpermissive -Wno-write-strings -O3 -pthread  -g -fPIC -D__CLASSDIR__='\"/content/class_public\"' -DHYREC -I../include -I../external/RecfastCLASS -I../external/heating -I../external/HyRec2020 -I../external/Halofit -I../external/HMcode -c ../source/primordial.c -o primordial.opp\n",
            "cd /content/class_public/build;gcc -O3 -pthread  -g -fPIC -D__CLASSDIR__='\"/content/class_public\"' -DHYREC -I../include -I../external/RecfastCLASS -I../external/heating -I../external/HyRec2020 -I../external/Halofit -I../external/HMcode -c ../source/fourier.c -o fourier.o\n",
            "cd /content/class_public/build;g++ --std=c++11 -fpermissive -Wno-write-strings -O3 -pthread  -g -fPIC -D__CLASSDIR__='\"/content/class_public\"' -DHYREC -I../include -I../external/RecfastCLASS -I../external/heating -I../external/HyRec2020 -I../external/Halofit -I../external/HMcode -c ../source/transfer.c -o transfer.opp\n",
            "cd /content/class_public/build;g++ --std=c++11 -fpermissive -Wno-write-strings -O3 -pthread  -g -fPIC -D__CLASSDIR__='\"/content/class_public\"' -DHYREC -I../include -I../external/RecfastCLASS -I../external/heating -I../external/HyRec2020 -I../external/Halofit -I../external/HMcode -c ../source/harmonic.c -o harmonic.opp\n",
            "cd /content/class_public/build;g++ --std=c++11 -fpermissive -Wno-write-strings -O3 -pthread  -g -fPIC -D__CLASSDIR__='\"/content/class_public\"' -DHYREC -I../include -I../external/RecfastCLASS -I../external/heating -I../external/HyRec2020 -I../external/Halofit -I../external/HMcode -c ../source/lensing.c -o lensing.opp\n",
            "cd /content/class_public/build;gcc -O3 -pthread  -g -fPIC -D__CLASSDIR__='\"/content/class_public\"' -DHYREC -I../include -I../external/RecfastCLASS -I../external/heating -I../external/HyRec2020 -I../external/Halofit -I../external/HMcode -c ../source/distortions.c -o distortions.o\n",
            "cd /content/class_public/build;gcc -O3 -pthread  -g -fPIC -D__CLASSDIR__='\"/content/class_public\"' -DHYREC -I../include -I../external/RecfastCLASS -I../external/heating -I../external/HyRec2020 -I../external/Halofit -I../external/HMcode -c ../external/RecfastCLASS/wrap_recfast.c -o wrap_recfast.o\n",
            "cd /content/class_public/build;gcc -O3 -pthread  -g -fPIC -D__CLASSDIR__='\"/content/class_public\"' -DHYREC -I../include -I../external/RecfastCLASS -I../external/heating -I../external/HyRec2020 -I../external/Halofit -I../external/HMcode -c ../external/heating/injection.c -o injection.o\n",
            "cd /content/class_public/build;gcc -O3 -pthread  -g -fPIC -D__CLASSDIR__='\"/content/class_public\"' -DHYREC -I../include -I../external/RecfastCLASS -I../external/heating -I../external/HyRec2020 -I../external/Halofit -I../external/HMcode -c ../external/heating/noninjection.c -o noninjection.o\n",
            "cd /content/class_public/build;gcc -O3 -pthread  -g -fPIC -D__CLASSDIR__='\"/content/class_public\"' -DHYREC -I../include -I../external/RecfastCLASS -I../external/heating -I../external/HyRec2020 -I../external/Halofit -I../external/HMcode -c ../external/HyRec2020/hyrectools.c -o hyrectools.o\n",
            "cd /content/class_public/build;gcc -O3 -pthread  -g -fPIC -D__CLASSDIR__='\"/content/class_public\"' -DHYREC -I../include -I../external/RecfastCLASS -I../external/heating -I../external/HyRec2020 -I../external/Halofit -I../external/HMcode -c ../external/HyRec2020/helium.c -o helium.o\n",
            "cd /content/class_public/build;gcc -O3 -pthread  -g -fPIC -D__CLASSDIR__='\"/content/class_public\"' -DHYREC -I../include -I../external/RecfastCLASS -I../external/heating -I../external/HyRec2020 -I../external/Halofit -I../external/HMcode -c ../external/HyRec2020/hydrogen.c -o hydrogen.o\n",
            "cd /content/class_public/build;gcc -O3 -pthread  -g -fPIC -D__CLASSDIR__='\"/content/class_public\"' -DHYREC -I../include -I../external/RecfastCLASS -I../external/heating -I../external/HyRec2020 -I../external/Halofit -I../external/HMcode -c ../external/HyRec2020/history.c -o history.o\n",
            "cd /content/class_public/build;gcc -O3 -pthread  -g -fPIC -D__CLASSDIR__='\"/content/class_public\"' -DHYREC -I../include -I../external/RecfastCLASS -I../external/heating -I../external/HyRec2020 -I../external/Halofit -I../external/HMcode -c ../external/HyRec2020/wrap_hyrec.c -o wrap_hyrec.o\n",
            "cd /content/class_public/build;gcc -O3 -pthread  -g -fPIC -D__CLASSDIR__='\"/content/class_public\"' -DHYREC -I../include -I../external/RecfastCLASS -I../external/heating -I../external/HyRec2020 -I../external/Halofit -I../external/HMcode -c ../external/HyRec2020/energy_injection.c -o energy_injection.o\n",
            "cd /content/class_public/build;gcc -O3 -pthread  -g -fPIC -D__CLASSDIR__='\"/content/class_public\"' -DHYREC -I../include -I../external/RecfastCLASS -I../external/heating -I../external/HyRec2020 -I../external/Halofit -I../external/HMcode -c ../external/Halofit/halofit.c -o halofit.o\n",
            "cd /content/class_public/build;g++ --std=c++11 -fpermissive -Wno-write-strings -O3 -pthread  -g -fPIC -D__CLASSDIR__='\"/content/class_public\"' -DHYREC -I../include -I../external/RecfastCLASS -I../external/heating -I../external/HyRec2020 -I../external/Halofit -I../external/HMcode -c ../external/HMcode/hmcode.c -o hmcode.opp\n",
            "cd /content/class_public/build;gcc -O3 -pthread  -g -fPIC -D__CLASSDIR__='\"/content/class_public\"' -DHYREC -I../include -I../external/RecfastCLASS -I../external/heating -I../external/HyRec2020 -I../external/Halofit -I../external/HMcode -c ../source/output.c -o output.o\n",
            "cd /content/class_public/build;gcc -O3 -pthread  -g -fPIC -D__CLASSDIR__='\"/content/class_public\"' -DHYREC -I../include -I../external/RecfastCLASS -I../external/heating -I../external/HyRec2020 -I../external/Halofit -I../external/HMcode -c ../main/class.c -o class.o\n",
            "g++ --std=c++11 -fpermissive -Wno-write-strings -O3 -pthread  -g -fPIC -o class build/growTable.o build/dei_rkck.o build/sparse.o build/evolver_rkck.o build/evolver_ndf15.o build/arrays.opp build/parser.o build/quadrature.o build/hyperspherical.opp build/common.o build/trigonometric_integrals.o build/input.o build/background.o build/thermodynamics.o build/perturbations.opp build/primordial.opp build/fourier.o build/transfer.opp build/harmonic.opp build/lensing.opp build/distortions.o build/wrap_recfast.o build/injection.o build/noninjection.o build/hyrectools.o build/helium.o build/hydrogen.o build/history.o build/wrap_hyrec.o build/energy_injection.o build/halofit.o build/hmcode.opp build/output.o build/class.o -lm\n",
            "ar rv  libclass.a build/growTable.o build/dei_rkck.o build/sparse.o build/evolver_rkck.o build/evolver_ndf15.o build/arrays.opp build/parser.o build/quadrature.o build/hyperspherical.opp build/common.o build/trigonometric_integrals.o build/input.o build/background.o build/thermodynamics.o build/perturbations.opp build/primordial.opp build/fourier.o build/transfer.opp build/harmonic.opp build/lensing.opp build/distortions.o build/wrap_recfast.o build/injection.o build/noninjection.o build/hyrectools.o build/helium.o build/hydrogen.o build/history.o build/wrap_hyrec.o build/energy_injection.o build/halofit.o build/hmcode.opp\n",
            "ar: creating libclass.a\n",
            "a - build/growTable.o\n",
            "a - build/dei_rkck.o\n",
            "a - build/sparse.o\n",
            "a - build/evolver_rkck.o\n",
            "a - build/evolver_ndf15.o\n",
            "a - build/arrays.opp\n",
            "a - build/parser.o\n",
            "a - build/quadrature.o\n",
            "a - build/hyperspherical.opp\n",
            "a - build/common.o\n",
            "a - build/trigonometric_integrals.o\n",
            "a - build/input.o\n",
            "a - build/background.o\n",
            "a - build/thermodynamics.o\n",
            "a - build/perturbations.opp\n",
            "a - build/primordial.opp\n",
            "a - build/fourier.o\n",
            "a - build/transfer.opp\n",
            "a - build/harmonic.opp\n",
            "a - build/lensing.opp\n",
            "a - build/distortions.o\n",
            "a - build/wrap_recfast.o\n",
            "a - build/injection.o\n",
            "a - build/noninjection.o\n",
            "a - build/hyrectools.o\n",
            "a - build/helium.o\n",
            "a - build/hydrogen.o\n",
            "a - build/history.o\n",
            "a - build/wrap_hyrec.o\n",
            "a - build/energy_injection.o\n",
            "a - build/halofit.o\n",
            "a - build/hmcode.opp\n",
            "export CC=gcc; output=$(python -m pip install . 2>&1); \\\n",
            "    echo \"$output\"; \\\n",
            "    if echo \"$output\" | grep -q \"ERROR: Cannot uninstall\"; then \\\n",
            "        site_packages=$(python -c \"import distutils.sysconfig; print(distutils.sysconfig.get_python_lib())\" || python -c \"import site; print(site.getsitepackages()[0])\") && \\\n",
            "        echo \"Cleaning up previous installation in: $site_packages\" && \\\n",
            "        rm -rf $site_packages/classy* && \\\n",
            "        python -m pip install .; \\\n",
            "    fi\n",
            "Processing /content/class_public\n",
            "  Preparing metadata (setup.py): started\n",
            "  Preparing metadata (setup.py): finished with status 'done'\n",
            "Building wheels for collected packages: classy\n",
            "  Building wheel for classy (setup.py): started\n",
            "  Building wheel for classy (setup.py): finished with status 'done'\n",
            "  Created wheel for classy: filename=classy-3.3.0.0-cp311-cp311-linux_x86_64.whl size=11639961 sha256=cc1ded63ed5df9e728fafb35e13bb8087fca6620814d3846c625a782c082a3c8\n",
            "  Stored in directory: /tmp/pip-ephem-wheel-cache-l1s4wwbb/wheels/17/44/9e/eec3268e901970208efed3aafa44b2dab91f4de87b4c2472ad\n",
            "Successfully built classy\n",
            "Installing collected packages: classy\n",
            "Successfully installed classy-3.3.0.0\n",
            "/content/class_public/python\n",
            "running install\n",
            "/usr/local/lib/python3.11/dist-packages/setuptools/_distutils/cmd.py:66: SetuptoolsDeprecationWarning: setup.py install is deprecated.\n",
            "!!\n",
            "\n",
            "        ********************************************************************************\n",
            "        Please avoid running ``setup.py`` directly.\n",
            "        Instead, use pypa/build, pypa/installer or other\n",
            "        standards-based tools.\n",
            "\n",
            "        See https://blog.ganssle.io/articles/2021/10/setup-py-deprecated.html for details.\n",
            "        ********************************************************************************\n",
            "\n",
            "!!\n",
            "  self.initialize_options()\n",
            "/usr/local/lib/python3.11/dist-packages/setuptools/_distutils/cmd.py:66: EasyInstallDeprecationWarning: easy_install command is deprecated.\n",
            "!!\n",
            "\n",
            "        ********************************************************************************\n",
            "        Please avoid running ``setup.py`` and ``easy_install``.\n",
            "        Instead, use pypa/build, pypa/installer or other\n",
            "        standards-based tools.\n",
            "\n",
            "        See https://github.com/pypa/setuptools/issues/917 for details.\n",
            "        ********************************************************************************\n",
            "\n",
            "!!\n",
            "  self.initialize_options()\n",
            "running bdist_egg\n",
            "running egg_info\n",
            "creating classy.egg-info\n",
            "writing classy.egg-info/PKG-INFO\n",
            "writing dependency_links to classy.egg-info/dependency_links.txt\n",
            "writing top-level names to classy.egg-info/top_level.txt\n",
            "writing manifest file 'classy.egg-info/SOURCES.txt'\n",
            "reading manifest file 'classy.egg-info/SOURCES.txt'\n",
            "writing manifest file 'classy.egg-info/SOURCES.txt'\n",
            "installing library code to build/bdist.linux-x86_64/egg\n",
            "running install_lib\n",
            "running build_ext\n",
            "building 'classy' extension\n",
            "creating build/temp.linux-x86_64-cpython-311/content/class_public/python/../python\n",
            "x86_64-linux-gnu-g++ -Wsign-compare -DNDEBUG -g -fwrapv -O2 -Wall -g -fstack-protector-strong -Wformat -Werror=format-security -g -fwrapv -O2 -fPIC -I/usr/local/lib/python3.11/dist-packages/numpy/_core/include -I/content/class_public/python/../include -I/content/class_public/python/../external/heating -I/content/class_public/python/../external/RecfastCLASS -I/content/class_public/python/../external/HyRec2020 -I/content/class_public/python/../external/HMcode -I/content/class_public/python/../external/Halofit -I/usr/include/python3.11 -c /content/class_public/python/../python/classy.cpp -o build/temp.linux-x86_64-cpython-311/content/class_public/python/../python/classy.o -std=c++11\n",
            "In file included from \u001b[01m\u001b[K/usr/local/lib/python3.11/dist-packages/numpy/_core/include/numpy/ndarraytypes.h:1909\u001b[m\u001b[K,\n",
            "                 from \u001b[01m\u001b[K/usr/local/lib/python3.11/dist-packages/numpy/_core/include/numpy/ndarrayobject.h:12\u001b[m\u001b[K,\n",
            "                 from \u001b[01m\u001b[K/usr/local/lib/python3.11/dist-packages/numpy/_core/include/numpy/arrayobject.h:5\u001b[m\u001b[K,\n",
            "                 from \u001b[01m\u001b[K/content/class_public/python/../python/classy.cpp:1281\u001b[m\u001b[K:\n",
            "\u001b[01m\u001b[K/usr/local/lib/python3.11/dist-packages/numpy/_core/include/numpy/npy_1_7_deprecated_api.h:17:2:\u001b[m\u001b[K \u001b[01;35m\u001b[Kwarning: \u001b[m\u001b[K#warning \"Using deprecated NumPy API, disable it with \" \"#define NPY_NO_DEPRECATED_API NPY_1_7_API_VERSION\" [\u001b[01;35m\u001b[K\u001b]8;;https://gcc.gnu.org/onlinedocs/gcc/Warning-Options.html#index-Wcpp\u0007-Wcpp\u001b]8;;\u0007\u001b[m\u001b[K]\n",
            "   17 | #\u001b[01;35m\u001b[Kwarning\u001b[m\u001b[K \"Using deprecated NumPy API, disable it with \" \\\n",
            "      |  \u001b[01;35m\u001b[K^~~~~~~\u001b[m\u001b[K\n",
            "creating build/lib.linux-x86_64-cpython-311\n",
            "x86_64-linux-gnu-g++ -Wsign-compare -DNDEBUG -g -fwrapv -O2 -Wall -g -fstack-protector-strong -Wformat -Werror=format-security -g -fwrapv -O2 -shared -Wl,-O1 -Wl,-Bsymbolic-functions build/temp.linux-x86_64-cpython-311/content/class_public/python/../python/classy.o -L/content/class_public/python/.. -L/usr/lib/gcc/x86_64-linux-gnu/11 -L/usr/lib/x86_64-linux-gnu -lclass -lmvec -lm -o build/lib.linux-x86_64-cpython-311/classy.cpython-311-x86_64-linux-gnu.so\n",
            "creating build/bdist.linux-x86_64/egg\n",
            "copying build/lib.linux-x86_64-cpython-311/classy.cpython-311-x86_64-linux-gnu.so -> build/bdist.linux-x86_64/egg\n",
            "creating stub loader for classy.cpython-311-x86_64-linux-gnu.so\n",
            "byte-compiling build/bdist.linux-x86_64/egg/classy.py to classy.cpython-311.pyc\n",
            "creating build/bdist.linux-x86_64/egg/EGG-INFO\n",
            "copying classy.egg-info/PKG-INFO -> build/bdist.linux-x86_64/egg/EGG-INFO\n",
            "copying classy.egg-info/SOURCES.txt -> build/bdist.linux-x86_64/egg/EGG-INFO\n",
            "copying classy.egg-info/dependency_links.txt -> build/bdist.linux-x86_64/egg/EGG-INFO\n",
            "copying classy.egg-info/top_level.txt -> build/bdist.linux-x86_64/egg/EGG-INFO\n",
            "writing build/bdist.linux-x86_64/egg/EGG-INFO/native_libs.txt\n",
            "zip_safe flag not set; analyzing archive contents...\n",
            "__pycache__.classy.cpython-311: module references __file__\n",
            "creating dist\n",
            "creating 'dist/classy-3.3.0-py3.11-linux-x86_64.egg' and adding 'build/bdist.linux-x86_64/egg' to it\n",
            "removing 'build/bdist.linux-x86_64/egg' (and everything under it)\n",
            "Processing classy-3.3.0-py3.11-linux-x86_64.egg\n",
            "creating /usr/local/lib/python3.11/dist-packages/classy-3.3.0-py3.11-linux-x86_64.egg\n",
            "Extracting classy-3.3.0-py3.11-linux-x86_64.egg to /usr/local/lib/python3.11/dist-packages\n",
            "Adding classy 3.3.0 to easy-install.pth file\n",
            "\n",
            "Installed /usr/local/lib/python3.11/dist-packages/classy-3.3.0-py3.11-linux-x86_64.egg\n",
            "Processing dependencies for classy==3.3.0\n",
            "Finished processing dependencies for classy==3.3.0\n"
          ]
        }
      ]
    },
    {
      "cell_type": "code",
      "source": [
        "from classy import Class\n",
        "\n",
        "cosmo = Class()\n",
        "cosmo.set({\n",
        "    'h': 0.67,\n",
        "    'omega_b': 0.022,\n",
        "    'omega_cdm': 0.12,\n",
        "    'A_s': 2.1e-9,\n",
        "    'n_s': 0.96,\n",
        "    'tau_reio': 0.06,\n",
        "    'output': 'mPk',\n",
        "    'P_k_max_1/Mpc': 10.0\n",
        "})\n",
        "cosmo.compute()\n",
        "\n",
        "# Obtener espectro de potencia a z = 0\n",
        "k_vals = [0.01, 0.1, 0.5]\n",
        "for k in k_vals:\n",
        "    print(f\"P(k={k}) = {cosmo.pk(k, 0.0)}\")\n",
        "\n",
        "ks = np.logspace(-3, 1, 100)  # de 0.001 a 10 h/Mpc\n",
        "Pk = [cosmo.pk(k, 0.0) for k in ks]\n",
        "\n",
        "cosmo.struct_cleanup()\n",
        "cosmo.empty()\n"
      ],
      "metadata": {
        "colab": {
          "base_uri": "https://localhost:8080/"
        },
        "id": "Jm88_5ABS5Q-",
        "outputId": "8fb82142-a5f5-463e-c8b5-db91fae2c6df"
      },
      "execution_count": 5,
      "outputs": [
        {
          "output_type": "stream",
          "name": "stdout",
          "text": [
            "P(k=0.01) = 81965.42474078349\n",
            "P(k=0.1) = 10810.547181012911\n",
            "P(k=0.5) = 447.1477181056167\n"
          ]
        }
      ]
    },
    {
      "cell_type": "code",
      "source": [
        "plt.figure(figsize=(8, 6))\n",
        "plt.loglog(ks, Pk, label=r'$P(k)$ at $z=0$', color='cadetblue')\n",
        "plt.xlabel(r'$k\\ [h/\\mathrm{Mpc}]$', fontsize=12)\n",
        "plt.ylabel(r'$P(k)\\ [(\\mathrm{Mpc}/h)^3]$', fontsize=12)\n",
        "plt.title('Matter Power Spectrum from CLASS', fontsize=14)\n",
        "#plt.grid(True, which=\"both\", ls=\"--\", lw=0.5)\n",
        "plt.legend()\n",
        "plt.tight_layout()\n",
        "plt.show()"
      ],
      "metadata": {
        "colab": {
          "base_uri": "https://localhost:8080/",
          "height": 606
        },
        "id": "fnM1E8hXTZ9e",
        "outputId": "47248ad2-6271-4d14-f218-b6a266c2c19e"
      },
      "execution_count": 8,
      "outputs": [
        {
          "output_type": "display_data",
          "data": {
            "text/plain": [
              "<Figure size 800x600 with 1 Axes>"
            ],
            "image/png": "[encoded data removed]"
          },
          "metadata": {}
        }
      ]
    },
    {
      "cell_type": "markdown",
      "source": [
        "**Code snippet to create a catalog of 100 spectra**"
      ],
      "metadata": {
        "id": "Gvq3lhn7YGLu"
      }
    },
    {
      "cell_type": "code",
      "source": [
        "%%time\n",
        "import numpy as np\n",
        "from classy import Class\n",
        "import matplotlib.pyplot as plt\n",
        "\n",
        "# Valores fijos\n",
        "h = 0.67\n",
        "omega_b = 0.022\n",
        "A_s = 2.1e-9\n",
        "n_s = 0.96\n",
        "tau = 0.06\n",
        "z = 0.0\n",
        "ks = np.logspace(-3, 1, 100)  #100 puntos entre 0.001 y 10 h/Mpc\n",
        "\n",
        "#Rango de valores de Omega_m\n",
        "Omega_m_vals = np.linspace(0.2, 0.4, 100)  # 100 valores entre 0.2 y 0.4\n",
        "\n",
        "#Lista para almacenar los espectros\n",
        "spectra = []\n",
        "\n",
        "for Omega_m in Omega_m_vals:\n",
        "    #Calcular omega_cdm necesario para ese Omega_m\n",
        "    omega_cdm = Omega_m * h**2 - omega_b\n",
        "\n",
        "    #Cosmología\n",
        "    cosmo = Class()\n",
        "    cosmo.set({\n",
        "        'h': h,\n",
        "        'omega_b': omega_b,\n",
        "        'omega_cdm': omega_cdm,\n",
        "        'A_s': A_s,\n",
        "        'n_s': n_s,\n",
        "        'tau_reio': tau,\n",
        "        'output': 'mPk',\n",
        "        'P_k_max_1/Mpc': 10.0\n",
        "    })\n",
        "\n",
        "    #Calcular espectro\n",
        "    cosmo.compute()\n",
        "    Pk = [cosmo.pk(k, z) for k in ks]\n",
        "    spectra.append(Pk)\n",
        "\n",
        "    cosmo.struct_cleanup()\n",
        "    cosmo.empty()\n",
        "\n",
        "#'spectra' es una lista de 100 espectros con 100 valores de k cada uno\n"
      ],
      "metadata": {
        "colab": {
          "base_uri": "https://localhost:8080/"
        },
        "id": "rzDjZqJMYNOo",
        "outputId": "44f0e817-f740-4d01-90af-288de93423b1"
      },
      "execution_count": 7,
      "outputs": [
        {
          "output_type": "stream",
          "name": "stdout",
          "text": [
            "CPU times: user 1min 49s, sys: 1.13 s, total: 1min 50s\n",
            "Wall time: 1min 3s\n"
          ]
        }
      ]
    },
    {
      "cell_type": "markdown",
      "source": [
        "Time of execution: 00:01:03"
      ],
      "metadata": {
        "id": "I74S05oLYc2a"
      }
    },
    {
      "cell_type": "markdown",
      "source": [
        "**Neural Network**\n",
        "\n",
        "-Imports\n",
        "\n",
        "-Architechture\n",
        "\n",
        "-Accuracy"
      ],
      "metadata": {
        "id": "z0BRk3nXbv7t"
      }
    },
    {
      "cell_type": "code",
      "source": [
        "#Imports\n",
        "import glob\n",
        "import numpy as np\n",
        "import copy\n",
        "import matplotlib.pyplot as plt\n",
        "import h5py\n",
        "import scipy\n",
        "from PIL import Image\n",
        "from scipy import ndimage\n",
        "from sklearn.linear_model import LogisticRegression\n",
        "from sklearn import preprocessing"
      ],
      "metadata": {
        "id": "W9GvPToGZ3mx"
      },
      "execution_count": 22,
      "outputs": []
    },
    {
      "cell_type": "code",
      "source": [
        "Pks = np.array(spectra) #NN inputs\n",
        "Omm_labels = Omega_m_vals #NN targets"
      ],
      "metadata": {
        "id": "yFM6m9jQb95P"
      },
      "execution_count": 21,
      "outputs": []
    },
    {
      "cell_type": "code",
      "source": [
        "from sklearn.model_selection import train_test_split\n",
        "X_train, X_test, y_train, y_test = train_test_split(Pks, Omm_labels, test_size=0.2, shuffle=True)"
      ],
      "metadata": {
        "id": "V-1bylzqfMZt"
      },
      "execution_count": 39,
      "outputs": []
    },
    {
      "cell_type": "code",
      "source": [
        "X_train.shape, X_test.shape, y_train.shape, y_test.shape #Data shapes are already (nfeatures, nsamples)"
      ],
      "metadata": {
        "colab": {
          "base_uri": "https://localhost:8080/"
        },
        "id": "81wSdSo2fUy7",
        "outputId": "2d71db4d-d96b-4b80-d361-8387c028fe4f"
      },
      "execution_count": 40,
      "outputs": [
        {
          "output_type": "execute_result",
          "data": {
            "text/plain": [
              "((80, 100), (20, 100), (80,), (20,))"
            ]
          },
          "metadata": {},
          "execution_count": 40
        }
      ]
    },
    {
      "cell_type": "code",
      "source": [
        "#Normalization (Necessary?)\n",
        "#scaler=preprocessing.StandardScaler().fit(X_train)\n",
        "#X_scaled = scaler.transform(X_train)\n",
        "#X_scaled.shape"
      ],
      "metadata": {
        "id": "zGiR3nBVfdB8"
      },
      "execution_count": 38,
      "outputs": []
    },
    {
      "cell_type": "code",
      "source": [
        "#Variation in Pk's as Omm varies (Shuffle works)\n",
        "plt.loglog(ks, X_train[0])\n",
        "plt.loglog(ks, X_train[5])\n",
        "plt.loglog(ks, X_train[7])\n",
        "plt.loglog(ks,X_train[10])\n",
        "plt.loglog(ks, X_train[50])"
      ],
      "metadata": {
        "colab": {
          "base_uri": "https://localhost:8080/",
          "height": 451
        },
        "id": "w-EE6sJrgJqe",
        "outputId": "6337c36f-0f31-4d9e-e084-f81367c83a64"
      },
      "execution_count": 41,
      "outputs": [
        {
          "output_type": "execute_result",
          "data": {
            "text/plain": [
              "[<matplotlib.lines.Line2D at 0x7afa0a3ac550>]"
            ]
          },
          "metadata": {},
          "execution_count": 41
        },
        {
          "output_type": "display_data",
          "data": {
            "text/plain": [
              "<Figure size 640x480 with 1 Axes>"
            ],
            "image/png": "[encoded data removed]"
          },
          "metadata": {}
        }
      ]
    },
    {
      "cell_type": "code",
      "source": [
        "import tensorflow as tf\n",
        "from tensorflow.keras.models import Sequential\n",
        "from tensorflow.keras.layers import Dense,Dropout\n",
        "from sklearn.neural_network import MLPRegressor"
      ],
      "metadata": {
        "id": "aPrwqEZBgknH"
      },
      "execution_count": 43,
      "outputs": []
    },
    {
      "cell_type": "code",
      "source": [
        "#Testing multiple architectures at once\n",
        "from sklearn.model_selection import GridSearchCV\n",
        "\n",
        "param_grid = {\n",
        "    'hidden_layer_sizes': [(50,), (100, 50), (200, 100, 50)],\n",
        "    'activation': ['relu', 'tanh'],\n",
        "    'alpha': [1e-4, 1e-3],\n",
        "    'learning_rate_init': [0.001, 0.01]\n",
        "}\n",
        "\n",
        "grid = GridSearchCV(MLPRegressor(max_iter=1000), param_grid, cv=3)\n",
        "grid.fit(X_train, y_train)\n",
        "\n",
        "print(\"Mejor configuración:\", grid.best_params_) #Best fit\n",
        "print(\"Score en test:\", grid.score(X_test, y_test)) #Can be arbitrary worse (negative values)"
      ],
      "metadata": {
        "colab": {
          "base_uri": "https://localhost:8080/"
        },
        "id": "c2gbLxfHiFjo",
        "outputId": "7a6ef17a-d4ea-4708-fbc7-7a6c5b0f9726"
      },
      "execution_count": 45,
      "outputs": [
        {
          "output_type": "stream",
          "name": "stderr",
          "text": [
            "/usr/local/lib/python3.11/dist-packages/sklearn/neural_network/_multilayer_perceptron.py:691: ConvergenceWarning: Stochastic Optimizer: Maximum iterations (1000) reached and the optimization hasn't converged yet.\n",
            "  warnings.warn(\n"
          ]
        },
        {
          "output_type": "stream",
          "name": "stdout",
          "text": [
            "Mejor configuración: {'activation': 'tanh', 'alpha': 0.001, 'hidden_layer_sizes': (200, 100, 50), 'learning_rate_init': 0.001}\n",
            "Score en test: -1.3421075375115845\n"
          ]
        }
      ]
    },
    {
      "cell_type": "code",
      "source": [
        "model = MLPRegressor(\n",
        "    hidden_layer_sizes=(200, 100, 50),  #Arquitectura: 3 capas ocultas con 200, 100 y 50 neuronas\n",
        "    activation='tanh',             #Función de activación: 'relu', 'tanh', 'logistic'\n",
        "    solver='adam',                 #Algoritmo de optimización: 'adam', 'sgd', 'lbfgs'\n",
        "    alpha=1e-4,                    #Regularización (L2 penalty)\n",
        "    learning_rate_init=0.001,      #Tasa de aprendizaje inicial\n",
        "    max_iter=1000,                 #Número máximo de épocas\n",
        "    random_state=42\n",
        ")\n",
        "model.fit(X_train,y_train)\n",
        "\n",
        "#model.predict(X_test[:2])\n",
        "model.score(X_test, y_test)"
      ],
      "metadata": {
        "colab": {
          "base_uri": "https://localhost:8080/"
        },
        "id": "af2tlVPshj7o",
        "outputId": "d5e00b13-345c-4913-92c4-7339cb961120"
      },
      "execution_count": 60,
      "outputs": [
        {
          "output_type": "execute_result",
          "data": {
            "text/plain": [
              "0.7552259898289364"
            ]
          },
          "metadata": {},
          "execution_count": 60
        }
      ]
    },
    {
      "cell_type": "code",
      "source": [
        "print('Prediction: ',model.predict(X_test[4:5]),'True value: ',y_test[4])"
      ],
      "metadata": {
        "colab": {
          "base_uri": "https://localhost:8080/"
        },
        "id": "nZ6bF9XBjSGP",
        "outputId": "203db73d-9828-4ab4-a8d2-0fdb3c034e3a"
      },
      "execution_count": 62,
      "outputs": [
        {
          "output_type": "stream",
          "name": "stdout",
          "text": [
            "Prediction:  [0.25697678] True value:  0.2545454545454546\n"
          ]
        }
      ]
    }
  ]
}