{
  "nbformat": 4,
  "nbformat_minor": 0,
  "metadata": {
    "colab": {
      "provenance": [],
      "authorship_tag": "ABX9TyMeR+/YxnM4vuEFmBHBz5gE",
      "include_colab_link": true
    },
    "kernelspec": {
      "name": "python3",
      "display_name": "Python 3"
    },
    "language_info": {
      "name": "python"
    }
  },
  "cells": [
    {
      "cell_type": "markdown",
      "metadata": {
        "id": "view-in-github",
        "colab_type": "text"
      },
      "source": [
        "<a href=\"https://colab.research.google.com/github/BlackPuma075/Advanced_Lab_2025/blob/main/Final%20Project/Final_Project_Advanced_Lab.ipynb\" target=\"_parent\"><img src=\"https://colab.research.google.com/assets/colab-badge.svg\" alt=\"Open In Colab\"/></a>"
      ]
    },
    {
      "cell_type": "code",
      "execution_count": 1,
      "metadata": {
        "id": "p3H_aZVySg9i"
      },
      "outputs": [],
      "source": [
        "import numpy as np\n",
        "import matplotlib.pyplot as plt"
      ]
    },
    {
      "cell_type": "code",
      "source": [
        "!apt-get install -y gfortran\n",
        "!git clone https://github.com/lesgourg/class_public.git\n",
        "%cd class_public\n",
        "!make\n",
        "\n",
        "# Volver al directorio base\n",
        "%cd python\n",
        "!python3 setup.py install"
      ],
      "metadata": {
        "colab": {
          "base_uri": "https://localhost:8080/"
        },
        "id": "hJyFoS29Srlm",
        "outputId": "1b2f6f34-3f17-4d69-fe4d-4069202facf3"
      },
      "execution_count": 2,
      "outputs": [
        {
          "output_type": "stream",
          "name": "stdout",
          "text": [
            "Reading package lists... Done\n",
            "Building dependency tree... Done\n",
            "Reading state information... Done\n",
            "gfortran is already the newest version (4:11.2.0-1ubuntu1).\n",
            "0 upgraded, 0 newly installed, 0 to remove and 34 not upgraded.\n",
            "Cloning into 'class_public'...\n",
            "remote: Enumerating objects: 31195, done.\u001b[K\n",
            "remote: Total 31195 (delta 0), reused 0 (delta 0), pack-reused 31195 (from 2)\u001b[K\n",
            "Receiving objects: 100% (31195/31195), 772.26 MiB | 20.68 MiB/s, done.\n",
            "Resolving deltas: 100% (21623/21623), done.\n",
            "/content/class_public\n",
            "if ! [ -e /content/class_public/build ]; then mkdir /content/class_public/build ; mkdir /content/class_public/build/lib; fi;\n",
            "touch build/.base\n",
            "cd /content/class_public/build;gcc -O3 -pthread  -g -fPIC -D__CLASSDIR__='\"/content/class_public\"' -DHYREC -I../include -I../external/RecfastCLASS -I../external/heating -I../external/HyRec2020 -I../external/Halofit -I../external/HMcode -c ../tools/growTable.c -o growTable.o\n",
            "cd /content/class_public/build;gcc -O3 -pthread  -g -fPIC -D__CLASSDIR__='\"/content/class_public\"' -DHYREC -I../include -I../external/RecfastCLASS -I../external/heating -I../external/HyRec2020 -I../external/Halofit -I../external/HMcode -c ../tools/dei_rkck.c -o dei_rkck.o\n",
            "cd /content/class_public/build;gcc -O3 -pthread  -g -fPIC -D__CLASSDIR__='\"/content/class_public\"' -DHYREC -I../include -I../external/RecfastCLASS -I../external/heating -I../external/HyRec2020 -I../external/Halofit -I../external/HMcode -c ../tools/sparse.c -o sparse.o\n",
            "cd /content/class_public/build;gcc -O3 -pthread  -g -fPIC -D__CLASSDIR__='\"/content/class_public\"' -DHYREC -I../include -I../external/RecfastCLASS -I../external/heating -I../external/HyRec2020 -I../external/Halofit -I../external/HMcode -c ../tools/evolver_rkck.c -o evolver_rkck.o\n",
            "cd /content/class_public/build;gcc -O3 -pthread  -g -fPIC -D__CLASSDIR__='\"/content/class_public\"' -DHYREC -I../include -I../external/RecfastCLASS -I../external/heating -I../external/HyRec2020 -I../external/Halofit -I../external/HMcode -c ../tools/evolver_ndf15.c -o evolver_ndf15.o\n",
            "cd /content/class_public/build;g++ --std=c++11 -fpermissive -Wno-write-strings -O3 -pthread  -g -fPIC -D__CLASSDIR__='\"/content/class_public\"' -DHYREC -I../include -I../external/RecfastCLASS -I../external/heating -I../external/HyRec2020 -I../external/Halofit -I../external/HMcode -c ../tools/arrays.c -o arrays.opp\n",
            "cd /content/class_public/build;gcc -O3 -pthread  -g -fPIC -D__CLASSDIR__='\"/content/class_public\"' -DHYREC -I../include -I../external/RecfastCLASS -I../external/heating -I../external/HyRec2020 -I../external/Halofit -I../external/HMcode -c ../tools/parser.c -o parser.o\n",
            "cd /content/class_public/build;gcc -O3 -pthread  -g -fPIC -D__CLASSDIR__='\"/content/class_public\"' -DHYREC -I../include -I../external/RecfastCLASS -I../external/heating -I../external/HyRec2020 -I../external/Halofit -I../external/HMcode -c ../tools/quadrature.c -o quadrature.o\n",
            "cd /content/class_public/build;g++ --std=c++11 -fpermissive -Wno-write-strings -O3 -pthread  -g -fPIC -D__CLASSDIR__='\"/content/class_public\"' -DHYREC -I../include -I../external/RecfastCLASS -I../external/heating -I../external/HyRec2020 -I../external/Halofit -I../external/HMcode -c ../tools/hyperspherical.c -o hyperspherical.opp\n",
            "cd /content/class_public/build;gcc -O3 -pthread  -g -fPIC -D__CLASSDIR__='\"/content/class_public\"' -DHYREC -I../include -I../external/RecfastCLASS -I../external/heating -I../external/HyRec2020 -I../external/Halofit -I../external/HMcode -c ../tools/common.c -o common.o\n",
            "cd /content/class_public/build;gcc -O3 -pthread  -g -fPIC -D__CLASSDIR__='\"/content/class_public\"' -DHYREC -I../include -I../external/RecfastCLASS -I../external/heating -I../external/HyRec2020 -I../external/Halofit -I../external/HMcode -c ../tools/trigonometric_integrals.c -o trigonometric_integrals.o\n",
            "cd /content/class_public/build;gcc -O3 -pthread  -g -fPIC -D__CLASSDIR__='\"/content/class_public\"' -DHYREC -I../include -I../external/RecfastCLASS -I../external/heating -I../external/HyRec2020 -I../external/Halofit -I../external/HMcode -c ../source/input.c -o input.o\n",
            "cd /content/class_public/build;gcc -O3 -pthread  -g -fPIC -D__CLASSDIR__='\"/content/class_public\"' -DHYREC -I../include -I../external/RecfastCLASS -I../external/heating -I../external/HyRec2020 -I../external/Halofit -I../external/HMcode -c ../source/background.c -o background.o\n",
            "cd /content/class_public/build;gcc -O3 -pthread  -g -fPIC -D__CLASSDIR__='\"/content/class_public\"' -DHYREC -I../include -I../external/RecfastCLASS -I../external/heating -I../external/HyRec2020 -I../external/Halofit -I../external/HMcode -c ../source/thermodynamics.c -o thermodynamics.o\n",
            "cd /content/class_public/build;g++ --std=c++11 -fpermissive -Wno-write-strings -O3 -pthread  -g -fPIC -D__CLASSDIR__='\"/content/class_public\"' -DHYREC -I../include -I../external/RecfastCLASS -I../external/heating -I../external/HyRec2020 -I../external/Halofit -I../external/HMcode -c ../source/perturbations.c -o perturbations.opp\n",
            "cd /content/class_public/build;g++ --std=c++11 -fpermissive -Wno-write-strings -O3 -pthread  -g -fPIC -D__CLASSDIR__='\"/content/class_public\"' -DHYREC -I../include -I../external/RecfastCLASS -I../external/heating -I../external/HyRec2020 -I../external/Halofit -I../external/HMcode -c ../source/primordial.c -o primordial.opp\n",
            "cd /content/class_public/build;gcc -O3 -pthread  -g -fPIC -D__CLASSDIR__='\"/content/class_public\"' -DHYREC -I../include -I../external/RecfastCLASS -I../external/heating -I../external/HyRec2020 -I../external/Halofit -I../external/HMcode -c ../source/fourier.c -o fourier.o\n",
            "cd /content/class_public/build;g++ --std=c++11 -fpermissive -Wno-write-strings -O3 -pthread  -g -fPIC -D__CLASSDIR__='\"/content/class_public\"' -DHYREC -I../include -I../external/RecfastCLASS -I../external/heating -I../external/HyRec2020 -I../external/Halofit -I../external/HMcode -c ../source/transfer.c -o transfer.opp\n",
            "cd /content/class_public/build;g++ --std=c++11 -fpermissive -Wno-write-strings -O3 -pthread  -g -fPIC -D__CLASSDIR__='\"/content/class_public\"' -DHYREC -I../include -I../external/RecfastCLASS -I../external/heating -I../external/HyRec2020 -I../external/Halofit -I../external/HMcode -c ../source/harmonic.c -o harmonic.opp\n",
            "cd /content/class_public/build;g++ --std=c++11 -fpermissive -Wno-write-strings -O3 -pthread  -g -fPIC -D__CLASSDIR__='\"/content/class_public\"' -DHYREC -I../include -I../external/RecfastCLASS -I../external/heating -I../external/HyRec2020 -I../external/Halofit -I../external/HMcode -c ../source/lensing.c -o lensing.opp\n",
            "cd /content/class_public/build;gcc -O3 -pthread  -g -fPIC -D__CLASSDIR__='\"/content/class_public\"' -DHYREC -I../include -I../external/RecfastCLASS -I../external/heating -I../external/HyRec2020 -I../external/Halofit -I../external/HMcode -c ../source/distortions.c -o distortions.o\n",
            "cd /content/class_public/build;gcc -O3 -pthread  -g -fPIC -D__CLASSDIR__='\"/content/class_public\"' -DHYREC -I../include -I../external/RecfastCLASS -I../external/heating -I../external/HyRec2020 -I../external/Halofit -I../external/HMcode -c ../external/RecfastCLASS/wrap_recfast.c -o wrap_recfast.o\n",
            "cd /content/class_public/build;gcc -O3 -pthread  -g -fPIC -D__CLASSDIR__='\"/content/class_public\"' -DHYREC -I../include -I../external/RecfastCLASS -I../external/heating -I../external/HyRec2020 -I../external/Halofit -I../external/HMcode -c ../external/heating/injection.c -o injection.o\n",
            "cd /content/class_public/build;gcc -O3 -pthread  -g -fPIC -D__CLASSDIR__='\"/content/class_public\"' -DHYREC -I../include -I../external/RecfastCLASS -I../external/heating -I../external/HyRec2020 -I../external/Halofit -I../external/HMcode -c ../external/heating/noninjection.c -o noninjection.o\n",
            "cd /content/class_public/build;gcc -O3 -pthread  -g -fPIC -D__CLASSDIR__='\"/content/class_public\"' -DHYREC -I../include -I../external/RecfastCLASS -I../external/heating -I../external/HyRec2020 -I../external/Halofit -I../external/HMcode -c ../external/HyRec2020/hyrectools.c -o hyrectools.o\n",
            "cd /content/class_public/build;gcc -O3 -pthread  -g -fPIC -D__CLASSDIR__='\"/content/class_public\"' -DHYREC -I../include -I../external/RecfastCLASS -I../external/heating -I../external/HyRec2020 -I../external/Halofit -I../external/HMcode -c ../external/HyRec2020/helium.c -o helium.o\n",
            "cd /content/class_public/build;gcc -O3 -pthread  -g -fPIC -D__CLASSDIR__='\"/content/class_public\"' -DHYREC -I../include -I../external/RecfastCLASS -I../external/heating -I../external/HyRec2020 -I../external/Halofit -I../external/HMcode -c ../external/HyRec2020/hydrogen.c -o hydrogen.o\n",
            "cd /content/class_public/build;gcc -O3 -pthread  -g -fPIC -D__CLASSDIR__='\"/content/class_public\"' -DHYREC -I../include -I../external/RecfastCLASS -I../external/heating -I../external/HyRec2020 -I../external/Halofit -I../external/HMcode -c ../external/HyRec2020/history.c -o history.o\n",
            "cd /content/class_public/build;gcc -O3 -pthread  -g -fPIC -D__CLASSDIR__='\"/content/class_public\"' -DHYREC -I../include -I../external/RecfastCLASS -I../external/heating -I../external/HyRec2020 -I../external/Halofit -I../external/HMcode -c ../external/HyRec2020/wrap_hyrec.c -o wrap_hyrec.o\n",
            "cd /content/class_public/build;gcc -O3 -pthread  -g -fPIC -D__CLASSDIR__='\"/content/class_public\"' -DHYREC -I../include -I../external/RecfastCLASS -I../external/heating -I../external/HyRec2020 -I../external/Halofit -I../external/HMcode -c ../external/HyRec2020/energy_injection.c -o energy_injection.o\n",
            "cd /content/class_public/build;gcc -O3 -pthread  -g -fPIC -D__CLASSDIR__='\"/content/class_public\"' -DHYREC -I../include -I../external/RecfastCLASS -I../external/heating -I../external/HyRec2020 -I../external/Halofit -I../external/HMcode -c ../external/Halofit/halofit.c -o halofit.o\n",
            "cd /content/class_public/build;g++ --std=c++11 -fpermissive -Wno-write-strings -O3 -pthread  -g -fPIC -D__CLASSDIR__='\"/content/class_public\"' -DHYREC -I../include -I../external/RecfastCLASS -I../external/heating -I../external/HyRec2020 -I../external/Halofit -I../external/HMcode -c ../external/HMcode/hmcode.c -o hmcode.opp\n",
            "cd /content/class_public/build;gcc -O3 -pthread  -g -fPIC -D__CLASSDIR__='\"/content/class_public\"' -DHYREC -I../include -I../external/RecfastCLASS -I../external/heating -I../external/HyRec2020 -I../external/Halofit -I../external/HMcode -c ../source/output.c -o output.o\n",
            "cd /content/class_public/build;gcc -O3 -pthread  -g -fPIC -D__CLASSDIR__='\"/content/class_public\"' -DHYREC -I../include -I../external/RecfastCLASS -I../external/heating -I../external/HyRec2020 -I../external/Halofit -I../external/HMcode -c ../main/class.c -o class.o\n",
            "g++ --std=c++11 -fpermissive -Wno-write-strings -O3 -pthread  -g -fPIC -o class build/growTable.o build/dei_rkck.o build/sparse.o build/evolver_rkck.o build/evolver_ndf15.o build/arrays.opp build/parser.o build/quadrature.o build/hyperspherical.opp build/common.o build/trigonometric_integrals.o build/input.o build/background.o build/thermodynamics.o build/perturbations.opp build/primordial.opp build/fourier.o build/transfer.opp build/harmonic.opp build/lensing.opp build/distortions.o build/wrap_recfast.o build/injection.o build/noninjection.o build/hyrectools.o build/helium.o build/hydrogen.o build/history.o build/wrap_hyrec.o build/energy_injection.o build/halofit.o build/hmcode.opp build/output.o build/class.o -lm\n",
            "ar rv  libclass.a build/growTable.o build/dei_rkck.o build/sparse.o build/evolver_rkck.o build/evolver_ndf15.o build/arrays.opp build/parser.o build/quadrature.o build/hyperspherical.opp build/common.o build/trigonometric_integrals.o build/input.o build/background.o build/thermodynamics.o build/perturbations.opp build/primordial.opp build/fourier.o build/transfer.opp build/harmonic.opp build/lensing.opp build/distortions.o build/wrap_recfast.o build/injection.o build/noninjection.o build/hyrectools.o build/helium.o build/hydrogen.o build/history.o build/wrap_hyrec.o build/energy_injection.o build/halofit.o build/hmcode.opp\n",
            "ar: creating libclass.a\n",
            "a - build/growTable.o\n",
            "a - build/dei_rkck.o\n",
            "a - build/sparse.o\n",
            "a - build/evolver_rkck.o\n",
            "a - build/evolver_ndf15.o\n",
            "a - build/arrays.opp\n",
            "a - build/parser.o\n",
            "a - build/quadrature.o\n",
            "a - build/hyperspherical.opp\n",
            "a - build/common.o\n",
            "a - build/trigonometric_integrals.o\n",
            "a - build/input.o\n",
            "a - build/background.o\n",
            "a - build/thermodynamics.o\n",
            "a - build/perturbations.opp\n",
            "a - build/primordial.opp\n",
            "a - build/fourier.o\n",
            "a - build/transfer.opp\n",
            "a - build/harmonic.opp\n",
            "a - build/lensing.opp\n",
            "a - build/distortions.o\n",
            "a - build/wrap_recfast.o\n",
            "a - build/injection.o\n",
            "a - build/noninjection.o\n",
            "a - build/hyrectools.o\n",
            "a - build/helium.o\n",
            "a - build/hydrogen.o\n",
            "a - build/history.o\n",
            "a - build/wrap_hyrec.o\n",
            "a - build/energy_injection.o\n",
            "a - build/halofit.o\n",
            "a - build/hmcode.opp\n",
            "export CC=gcc; output=$(python -m pip install . 2>&1); \\\n",
            "    echo \"$output\"; \\\n",
            "    if echo \"$output\" | grep -q \"ERROR: Cannot uninstall\"; then \\\n",
            "        site_packages=$(python -c \"import distutils.sysconfig; print(distutils.sysconfig.get_python_lib())\" || python -c \"import site; print(site.getsitepackages()[0])\") && \\\n",
            "        echo \"Cleaning up previous installation in: $site_packages\" && \\\n",
            "        rm -rf $site_packages/classy* && \\\n",
            "        python -m pip install .; \\\n",
            "    fi\n",
            "Processing /content/class_public\n",
            "  Preparing metadata (setup.py): started\n",
            "  Preparing metadata (setup.py): finished with status 'done'\n",
            "Building wheels for collected packages: classy\n",
            "  Building wheel for classy (setup.py): started\n",
            "  Building wheel for classy (setup.py): finished with status 'done'\n",
            "  Created wheel for classy: filename=classy-3.3.0.0-cp311-cp311-linux_x86_64.whl size=11639961 sha256=a389632e299964b4e0d47a3dd89c25726de5908bbe585324ceefe21746af9a4d\n",
            "  Stored in directory: /tmp/pip-ephem-wheel-cache-_nzt118j/wheels/17/44/9e/eec3268e901970208efed3aafa44b2dab91f4de87b4c2472ad\n",
            "Successfully built classy\n",
            "Installing collected packages: classy\n",
            "Successfully installed classy-3.3.0.0\n",
            "/content/class_public/python\n",
            "running install\n",
            "/usr/local/lib/python3.11/dist-packages/setuptools/_distutils/cmd.py:66: SetuptoolsDeprecationWarning: setup.py install is deprecated.\n",
            "!!\n",
            "\n",
            "        ********************************************************************************\n",
            "        Please avoid running ``setup.py`` directly.\n",
            "        Instead, use pypa/build, pypa/installer or other\n",
            "        standards-based tools.\n",
            "\n",
            "        See https://blog.ganssle.io/articles/2021/10/setup-py-deprecated.html for details.\n",
            "        ********************************************************************************\n",
            "\n",
            "!!\n",
            "  self.initialize_options()\n",
            "/usr/local/lib/python3.11/dist-packages/setuptools/_distutils/cmd.py:66: EasyInstallDeprecationWarning: easy_install command is deprecated.\n",
            "!!\n",
            "\n",
            "        ********************************************************************************\n",
            "        Please avoid running ``setup.py`` and ``easy_install``.\n",
            "        Instead, use pypa/build, pypa/installer or other\n",
            "        standards-based tools.\n",
            "\n",
            "        See https://github.com/pypa/setuptools/issues/917 for details.\n",
            "        ********************************************************************************\n",
            "\n",
            "!!\n",
            "  self.initialize_options()\n",
            "running bdist_egg\n",
            "running egg_info\n",
            "creating classy.egg-info\n",
            "writing classy.egg-info/PKG-INFO\n",
            "writing dependency_links to classy.egg-info/dependency_links.txt\n",
            "writing top-level names to classy.egg-info/top_level.txt\n",
            "writing manifest file 'classy.egg-info/SOURCES.txt'\n",
            "reading manifest file 'classy.egg-info/SOURCES.txt'\n",
            "writing manifest file 'classy.egg-info/SOURCES.txt'\n",
            "installing library code to build/bdist.linux-x86_64/egg\n",
            "running install_lib\n",
            "running build_ext\n",
            "building 'classy' extension\n",
            "creating build/temp.linux-x86_64-cpython-311/content/class_public/python/../python\n",
            "x86_64-linux-gnu-g++ -Wsign-compare -DNDEBUG -g -fwrapv -O2 -Wall -g -fstack-protector-strong -Wformat -Werror=format-security -g -fwrapv -O2 -fPIC -I/usr/local/lib/python3.11/dist-packages/numpy/_core/include -I/content/class_public/python/../include -I/content/class_public/python/../external/heating -I/content/class_public/python/../external/RecfastCLASS -I/content/class_public/python/../external/HyRec2020 -I/content/class_public/python/../external/HMcode -I/content/class_public/python/../external/Halofit -I/usr/include/python3.11 -c /content/class_public/python/../python/classy.cpp -o build/temp.linux-x86_64-cpython-311/content/class_public/python/../python/classy.o -std=c++11\n",
            "In file included from \u001b[01m\u001b[K/usr/local/lib/python3.11/dist-packages/numpy/_core/include/numpy/ndarraytypes.h:1909\u001b[m\u001b[K,\n",
            "                 from \u001b[01m\u001b[K/usr/local/lib/python3.11/dist-packages/numpy/_core/include/numpy/ndarrayobject.h:12\u001b[m\u001b[K,\n",
            "                 from \u001b[01m\u001b[K/usr/local/lib/python3.11/dist-packages/numpy/_core/include/numpy/arrayobject.h:5\u001b[m\u001b[K,\n",
            "                 from \u001b[01m\u001b[K/content/class_public/python/../python/classy.cpp:1281\u001b[m\u001b[K:\n",
            "\u001b[01m\u001b[K/usr/local/lib/python3.11/dist-packages/numpy/_core/include/numpy/npy_1_7_deprecated_api.h:17:2:\u001b[m\u001b[K \u001b[01;35m\u001b[Kwarning: \u001b[m\u001b[K#warning \"Using deprecated NumPy API, disable it with \" \"#define NPY_NO_DEPRECATED_API NPY_1_7_API_VERSION\" [\u001b[01;35m\u001b[K\u001b]8;;https://gcc.gnu.org/onlinedocs/gcc/Warning-Options.html#index-Wcpp\u0007-Wcpp\u001b]8;;\u0007\u001b[m\u001b[K]\n",
            "   17 | #\u001b[01;35m\u001b[Kwarning\u001b[m\u001b[K \"Using deprecated NumPy API, disable it with \" \\\n",
            "      |  \u001b[01;35m\u001b[K^~~~~~~\u001b[m\u001b[K\n",
            "creating build/lib.linux-x86_64-cpython-311\n",
            "x86_64-linux-gnu-g++ -Wsign-compare -DNDEBUG -g -fwrapv -O2 -Wall -g -fstack-protector-strong -Wformat -Werror=format-security -g -fwrapv -O2 -shared -Wl,-O1 -Wl,-Bsymbolic-functions build/temp.linux-x86_64-cpython-311/content/class_public/python/../python/classy.o -L/content/class_public/python/.. -L/usr/lib/gcc/x86_64-linux-gnu/11 -L/usr/lib/x86_64-linux-gnu -lclass -lmvec -lm -o build/lib.linux-x86_64-cpython-311/classy.cpython-311-x86_64-linux-gnu.so\n",
            "creating build/bdist.linux-x86_64/egg\n",
            "copying build/lib.linux-x86_64-cpython-311/classy.cpython-311-x86_64-linux-gnu.so -> build/bdist.linux-x86_64/egg\n",
            "creating stub loader for classy.cpython-311-x86_64-linux-gnu.so\n",
            "byte-compiling build/bdist.linux-x86_64/egg/classy.py to classy.cpython-311.pyc\n",
            "creating build/bdist.linux-x86_64/egg/EGG-INFO\n",
            "copying classy.egg-info/PKG-INFO -> build/bdist.linux-x86_64/egg/EGG-INFO\n",
            "copying classy.egg-info/SOURCES.txt -> build/bdist.linux-x86_64/egg/EGG-INFO\n",
            "copying classy.egg-info/dependency_links.txt -> build/bdist.linux-x86_64/egg/EGG-INFO\n",
            "copying classy.egg-info/top_level.txt -> build/bdist.linux-x86_64/egg/EGG-INFO\n",
            "writing build/bdist.linux-x86_64/egg/EGG-INFO/native_libs.txt\n",
            "zip_safe flag not set; analyzing archive contents...\n",
            "__pycache__.classy.cpython-311: module references __file__\n",
            "creating dist\n",
            "creating 'dist/classy-3.3.0-py3.11-linux-x86_64.egg' and adding 'build/bdist.linux-x86_64/egg' to it\n",
            "removing 'build/bdist.linux-x86_64/egg' (and everything under it)\n",
            "Processing classy-3.3.0-py3.11-linux-x86_64.egg\n",
            "creating /usr/local/lib/python3.11/dist-packages/classy-3.3.0-py3.11-linux-x86_64.egg\n",
            "Extracting classy-3.3.0-py3.11-linux-x86_64.egg to /usr/local/lib/python3.11/dist-packages\n",
            "Adding classy 3.3.0 to easy-install.pth file\n",
            "\n",
            "Installed /usr/local/lib/python3.11/dist-packages/classy-3.3.0-py3.11-linux-x86_64.egg\n",
            "Processing dependencies for classy==3.3.0\n",
            "Finished processing dependencies for classy==3.3.0\n"
          ]
        }
      ]
    },
    {
      "cell_type": "code",
      "source": [
        "from classy import Class\n",
        "\n",
        "cosmo = Class()\n",
        "cosmo.set({\n",
        "    'h': 0.67,\n",
        "    'omega_b': 0.022,\n",
        "    'omega_cdm': 0.12,\n",
        "    'A_s': 2.1e-9,\n",
        "    'n_s': 0.96,\n",
        "    'tau_reio': 0.06,\n",
        "    'output': 'mPk',\n",
        "    'P_k_max_1/Mpc': 10.0\n",
        "})\n",
        "cosmo.compute()\n",
        "\n",
        "# Obtener espectro de potencia a z = 0\n",
        "k_vals = [0.01, 0.1, 0.5]\n",
        "for k in k_vals:\n",
        "    print(f\"P(k={k}) = {cosmo.pk(k, 0.0)}\")\n",
        "\n",
        "ks = np.logspace(-3, 1, 100)  # de 0.001 a 10 h/Mpc\n",
        "Pk = [cosmo.pk(k, 0.0) for k in ks]\n",
        "\n",
        "cosmo.struct_cleanup()\n",
        "cosmo.empty()\n"
      ],
      "metadata": {
        "colab": {
          "base_uri": "https://localhost:8080/"
        },
        "id": "Jm88_5ABS5Q-",
        "outputId": "ec78ad06-ed67-4966-c335-a6b3659673b2"
      },
      "execution_count": 8,
      "outputs": [
        {
          "output_type": "stream",
          "name": "stdout",
          "text": [
            "P(k=0.01) = 81965.42474078349\n",
            "P(k=0.1) = 10810.547181012911\n",
            "P(k=0.5) = 447.1477181056167\n"
          ]
        }
      ]
    },
    {
      "cell_type": "code",
      "source": [
        "plt.figure(figsize=(8, 6))\n",
        "plt.loglog(ks, Pk, label=r'$P(k)$ at $z=0$', color='royalblue')\n",
        "plt.xlabel(r'$k\\ [h/\\mathrm{Mpc}]$', fontsize=12)\n",
        "plt.ylabel(r'$P(k)\\ [(\\mathrm{Mpc}/h)^3]$', fontsize=12)\n",
        "plt.title('Matter Power Spectrum from CLASS', fontsize=14)\n",
        "#plt.grid(True, which=\"both\", ls=\"--\", lw=0.5)\n",
        "plt.legend()\n",
        "plt.tight_layout()\n",
        "plt.show()"
      ],
      "metadata": {
        "colab": {
          "base_uri": "https://localhost:8080/",
          "height": 606
        },
        "id": "fnM1E8hXTZ9e",
        "outputId": "7bc1863d-89f7-491a-e0f1-33345aed0e39"
      },
      "execution_count": 20,
      "outputs": [
        {
          "output_type": "display_data",
          "data": {
            "text/plain": [
              "<Figure size 800x600 with 1 Axes>"
            ],
            "image/png": "[encoded data removed]"
          },
          "metadata": {}
        }
      ]
    },
    {
      "cell_type": "code",
      "source": [
        "from scipy.integrate import simps\n",
        "rs = np.logspace(-1, 2, 100)  # de 0.1 a 100 Mpc/h\n",
        "xi_r = []\n",
        "\n",
        "for r in rs:\n",
        "    integrand = ks**2 * Pk * np.sinc(ks * r / np.pi)  # np.sinc(x) = sin(pi x)/(pi x)\n",
        "    xi_val = simps(integrand, ks) * (1 / (2 * np.pi**2))\n",
        "    xi_r.append(xi_val)\n",
        "\n",
        "# Graficar\n",
        "plt.figure(figsize=(8, 6))\n",
        "plt.plot(rs, xi_r, label=r'$\\xi(r)$', color='darkred')\n",
        "plt.xscale('log')\n",
        "plt.xlabel(r'$r\\ [\\mathrm{Mpc}/h]$', fontsize=12)\n",
        "plt.ylabel(r'$\\xi(r)$', fontsize=12)\n",
        "plt.title('Correlation Function from Power Spectrum', fontsize=14)\n",
        "plt.grid(True, which=\"both\", ls=\"--\", lw=0.5)\n",
        "plt.legend()\n",
        "plt.tight_layout()\n",
        "plt.show()"
      ],
      "metadata": {
        "colab": {
          "base_uri": "https://localhost:8080/",
          "height": 384
        },
        "id": "Bkz0PVaDVLgC",
        "outputId": "25eaf028-335d-43e0-996f-a5aeac476929"
      },
      "execution_count": 21,
      "outputs": [
        {
          "output_type": "error",
          "ename": "ImportError",
          "evalue": "cannot import name 'simps' from 'scipy.integrate' (/usr/local/lib/python3.11/dist-packages/scipy/integrate/__init__.py)",
          "traceback": [
            "\u001b[0;31m---------------------------------------------------------------------------\u001b[0m",
            "\u001b[0;31mImportError\u001b[0m                               Traceback (most recent call last)",
            "\u001b[0;32m<ipython-input-21-825e27e0ec87>\u001b[0m in \u001b[0;36m<cell line: 0>\u001b[0;34m()\u001b[0m\n\u001b[0;32m----> 1\u001b[0;31m \u001b[0;32mfrom\u001b[0m \u001b[0mscipy\u001b[0m\u001b[0;34m.\u001b[0m\u001b[0mintegrate\u001b[0m \u001b[0;32mimport\u001b[0m \u001b[0msimps\u001b[0m\u001b[0;34m\u001b[0m\u001b[0;34m\u001b[0m\u001b[0m\n\u001b[0m\u001b[1;32m      2\u001b[0m \u001b[0mrs\u001b[0m \u001b[0;34m=\u001b[0m \u001b[0mnp\u001b[0m\u001b[0;34m.\u001b[0m\u001b[0mlogspace\u001b[0m\u001b[0;34m(\u001b[0m\u001b[0;34m-\u001b[0m\u001b[0;36m1\u001b[0m\u001b[0;34m,\u001b[0m \u001b[0;36m2\u001b[0m\u001b[0;34m,\u001b[0m \u001b[0;36m100\u001b[0m\u001b[0;34m)\u001b[0m  \u001b[0;31m# de 0.1 a 100 Mpc/h\u001b[0m\u001b[0;34m\u001b[0m\u001b[0;34m\u001b[0m\u001b[0m\n\u001b[1;32m      3\u001b[0m \u001b[0mxi_r\u001b[0m \u001b[0;34m=\u001b[0m \u001b[0;34m[\u001b[0m\u001b[0;34m]\u001b[0m\u001b[0;34m\u001b[0m\u001b[0;34m\u001b[0m\u001b[0m\n\u001b[1;32m      4\u001b[0m \u001b[0;34m\u001b[0m\u001b[0m\n\u001b[1;32m      5\u001b[0m \u001b[0;32mfor\u001b[0m \u001b[0mr\u001b[0m \u001b[0;32min\u001b[0m \u001b[0mrs\u001b[0m\u001b[0;34m:\u001b[0m\u001b[0;34m\u001b[0m\u001b[0;34m\u001b[0m\u001b[0m\n",
            "\u001b[0;31mImportError\u001b[0m: cannot import name 'simps' from 'scipy.integrate' (/usr/local/lib/python3.11/dist-packages/scipy/integrate/__init__.py)",
            "",
            "\u001b[0;31m---------------------------------------------------------------------------\u001b[0;32m\nNOTE: If your import is failing due to a missing package, you can\nmanually install dependencies using either !pip or !apt.\n\nTo view examples of installing some common dependencies, click the\n\"Open Examples\" button below.\n\u001b[0;31m---------------------------------------------------------------------------\u001b[0m\n"
          ],
          "errorDetails": {
            "actions": [
              {
                "action": "open_url",
                "actionText": "Open Examples",
                "url": "/notebooks/snippets/importing_libraries.ipynb"
              }
            ]
          }
        }
      ]
    }
  ]
}