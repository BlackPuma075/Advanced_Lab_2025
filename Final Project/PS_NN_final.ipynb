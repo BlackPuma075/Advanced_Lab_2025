{
  "cells": [
    {
      "cell_type": "markdown",
      "metadata": {
        "id": "view-in-github",
        "colab_type": "text"
      },
      "source": [
        "<a href=\"https://colab.research.google.com/github/BlackPuma075/Advanced_Lab_2025/blob/main/Final%20Project/PS_NN_final.ipynb\" target=\"_parent\"><img src=\"https://colab.research.google.com/assets/colab-badge.svg\" alt=\"Open In Colab\"/></a>"
      ]
    },
    {
      "cell_type": "markdown",
      "metadata": {
        "id": "vyDT1Kt_MHa-"
      },
      "source": [
        "#**Final project - Advanced Lab 2025**"
      ]
    },
    {
      "cell_type": "markdown",
      "metadata": {
        "id": "UvzpQO4KMTev"
      },
      "source": [
        "Diciembre 2023\n",
        "\n",
        "*Diego González Sandoval (UG)*"
      ]
    },
    {
      "cell_type": "code",
      "execution_count": 3,
      "metadata": {
        "id": "mRcF_6IRI_QV"
      },
      "outputs": [],
      "source": [
        "#Imports\n",
        "\n",
        "import numpy as np\n",
        "import matplotlib.pyplot as plt\n",
        "import matplotlib.pyplot as plt\n",
        "from sklearn.model_selection import train_test_split\n",
        "from sklearn.linear_model import LogisticRegression\n",
        "from sklearn.preprocessing import StandardScaler\n",
        "from sklearn import preprocessing\n",
        "import tensorflow as tf\n",
        "from tensorflow.keras.models import Sequential\n",
        "from tensorflow.keras.layers import Dense,Dropout\n",
        "from tensorflow.keras.callbacks import ReduceLROnPlateau, EarlyStopping\n",
        "from google.colab import files\n",
        "from tensorflow.keras.layers import BatchNormalization\n",
        "from sklearn.metrics import mean_squared_error"
      ]
    },
    {
      "cell_type": "code",
      "execution_count": 4,
      "metadata": {
        "colab": {
          "base_uri": "https://localhost:8080/"
        },
        "id": "Lzw5kPVoNN2B",
        "outputId": "4f485313-e790-4701-e915-fc9cc504a882"
      },
      "outputs": [
        {
          "output_type": "stream",
          "name": "stdout",
          "text": [
            "Reading package lists... Done\n",
            "Building dependency tree... Done\n",
            "Reading state information... Done\n",
            "gfortran is already the newest version (4:11.2.0-1ubuntu1).\n",
            "0 upgraded, 0 newly installed, 0 to remove and 35 not upgraded.\n",
            "Cloning into 'class_public'...\n",
            "remote: Enumerating objects: 31195, done.\u001b[K\n",
            "remote: Total 31195 (delta 0), reused 0 (delta 0), pack-reused 31195 (from 2)\u001b[K\n",
            "Receiving objects: 100% (31195/31195), 772.26 MiB | 21.50 MiB/s, done.\n",
            "Resolving deltas: 100% (21623/21623), done.\n",
            "/content/class_public\n",
            "if ! [ -e /content/class_public/build ]; then mkdir /content/class_public/build ; mkdir /content/class_public/build/lib; fi;\n",
            "touch build/.base\n",
            "cd /content/class_public/build;gcc -O3 -pthread  -g -fPIC -D__CLASSDIR__='\"/content/class_public\"' -DHYREC -I../include -I../external/RecfastCLASS -I../external/heating -I../external/HyRec2020 -I../external/Halofit -I../external/HMcode -c ../tools/growTable.c -o growTable.o\n",
            "cd /content/class_public/build;gcc -O3 -pthread  -g -fPIC -D__CLASSDIR__='\"/content/class_public\"' -DHYREC -I../include -I../external/RecfastCLASS -I../external/heating -I../external/HyRec2020 -I../external/Halofit -I../external/HMcode -c ../tools/dei_rkck.c -o dei_rkck.o\n",
            "cd /content/class_public/build;gcc -O3 -pthread  -g -fPIC -D__CLASSDIR__='\"/content/class_public\"' -DHYREC -I../include -I../external/RecfastCLASS -I../external/heating -I../external/HyRec2020 -I../external/Halofit -I../external/HMcode -c ../tools/sparse.c -o sparse.o\n",
            "cd /content/class_public/build;gcc -O3 -pthread  -g -fPIC -D__CLASSDIR__='\"/content/class_public\"' -DHYREC -I../include -I../external/RecfastCLASS -I../external/heating -I../external/HyRec2020 -I../external/Halofit -I../external/HMcode -c ../tools/evolver_rkck.c -o evolver_rkck.o\n",
            "cd /content/class_public/build;gcc -O3 -pthread  -g -fPIC -D__CLASSDIR__='\"/content/class_public\"' -DHYREC -I../include -I../external/RecfastCLASS -I../external/heating -I../external/HyRec2020 -I../external/Halofit -I../external/HMcode -c ../tools/evolver_ndf15.c -o evolver_ndf15.o\n",
            "cd /content/class_public/build;g++ --std=c++11 -fpermissive -Wno-write-strings -O3 -pthread  -g -fPIC -D__CLASSDIR__='\"/content/class_public\"' -DHYREC -I../include -I../external/RecfastCLASS -I../external/heating -I../external/HyRec2020 -I../external/Halofit -I../external/HMcode -c ../tools/arrays.c -o arrays.opp\n",
            "cd /content/class_public/build;gcc -O3 -pthread  -g -fPIC -D__CLASSDIR__='\"/content/class_public\"' -DHYREC -I../include -I../external/RecfastCLASS -I../external/heating -I../external/HyRec2020 -I../external/Halofit -I../external/HMcode -c ../tools/parser.c -o parser.o\n",
            "cd /content/class_public/build;gcc -O3 -pthread  -g -fPIC -D__CLASSDIR__='\"/content/class_public\"' -DHYREC -I../include -I../external/RecfastCLASS -I../external/heating -I../external/HyRec2020 -I../external/Halofit -I../external/HMcode -c ../tools/quadrature.c -o quadrature.o\n",
            "cd /content/class_public/build;g++ --std=c++11 -fpermissive -Wno-write-strings -O3 -pthread  -g -fPIC -D__CLASSDIR__='\"/content/class_public\"' -DHYREC -I../include -I../external/RecfastCLASS -I../external/heating -I../external/HyRec2020 -I../external/Halofit -I../external/HMcode -c ../tools/hyperspherical.c -o hyperspherical.opp\n",
            "cd /content/class_public/build;gcc -O3 -pthread  -g -fPIC -D__CLASSDIR__='\"/content/class_public\"' -DHYREC -I../include -I../external/RecfastCLASS -I../external/heating -I../external/HyRec2020 -I../external/Halofit -I../external/HMcode -c ../tools/common.c -o common.o\n",
            "cd /content/class_public/build;gcc -O3 -pthread  -g -fPIC -D__CLASSDIR__='\"/content/class_public\"' -DHYREC -I../include -I../external/RecfastCLASS -I../external/heating -I../external/HyRec2020 -I../external/Halofit -I../external/HMcode -c ../tools/trigonometric_integrals.c -o trigonometric_integrals.o\n",
            "cd /content/class_public/build;gcc -O3 -pthread  -g -fPIC -D__CLASSDIR__='\"/content/class_public\"' -DHYREC -I../include -I../external/RecfastCLASS -I../external/heating -I../external/HyRec2020 -I../external/Halofit -I../external/HMcode -c ../source/input.c -o input.o\n",
            "cd /content/class_public/build;gcc -O3 -pthread  -g -fPIC -D__CLASSDIR__='\"/content/class_public\"' -DHYREC -I../include -I../external/RecfastCLASS -I../external/heating -I../external/HyRec2020 -I../external/Halofit -I../external/HMcode -c ../source/background.c -o background.o\n",
            "cd /content/class_public/build;gcc -O3 -pthread  -g -fPIC -D__CLASSDIR__='\"/content/class_public\"' -DHYREC -I../include -I../external/RecfastCLASS -I../external/heating -I../external/HyRec2020 -I../external/Halofit -I../external/HMcode -c ../source/thermodynamics.c -o thermodynamics.o\n",
            "cd /content/class_public/build;g++ --std=c++11 -fpermissive -Wno-write-strings -O3 -pthread  -g -fPIC -D__CLASSDIR__='\"/content/class_public\"' -DHYREC -I../include -I../external/RecfastCLASS -I../external/heating -I../external/HyRec2020 -I../external/Halofit -I../external/HMcode -c ../source/perturbations.c -o perturbations.opp\n",
            "cd /content/class_public/build;g++ --std=c++11 -fpermissive -Wno-write-strings -O3 -pthread  -g -fPIC -D__CLASSDIR__='\"/content/class_public\"' -DHYREC -I../include -I../external/RecfastCLASS -I../external/heating -I../external/HyRec2020 -I../external/Halofit -I../external/HMcode -c ../source/primordial.c -o primordial.opp\n",
            "cd /content/class_public/build;gcc -O3 -pthread  -g -fPIC -D__CLASSDIR__='\"/content/class_public\"' -DHYREC -I../include -I../external/RecfastCLASS -I../external/heating -I../external/HyRec2020 -I../external/Halofit -I../external/HMcode -c ../source/fourier.c -o fourier.o\n",
            "cd /content/class_public/build;g++ --std=c++11 -fpermissive -Wno-write-strings -O3 -pthread  -g -fPIC -D__CLASSDIR__='\"/content/class_public\"' -DHYREC -I../include -I../external/RecfastCLASS -I../external/heating -I../external/HyRec2020 -I../external/Halofit -I../external/HMcode -c ../source/transfer.c -o transfer.opp\n",
            "cd /content/class_public/build;g++ --std=c++11 -fpermissive -Wno-write-strings -O3 -pthread  -g -fPIC -D__CLASSDIR__='\"/content/class_public\"' -DHYREC -I../include -I../external/RecfastCLASS -I../external/heating -I../external/HyRec2020 -I../external/Halofit -I../external/HMcode -c ../source/harmonic.c -o harmonic.opp\n",
            "cd /content/class_public/build;g++ --std=c++11 -fpermissive -Wno-write-strings -O3 -pthread  -g -fPIC -D__CLASSDIR__='\"/content/class_public\"' -DHYREC -I../include -I../external/RecfastCLASS -I../external/heating -I../external/HyRec2020 -I../external/Halofit -I../external/HMcode -c ../source/lensing.c -o lensing.opp\n",
            "cd /content/class_public/build;gcc -O3 -pthread  -g -fPIC -D__CLASSDIR__='\"/content/class_public\"' -DHYREC -I../include -I../external/RecfastCLASS -I../external/heating -I../external/HyRec2020 -I../external/Halofit -I../external/HMcode -c ../source/distortions.c -o distortions.o\n",
            "cd /content/class_public/build;gcc -O3 -pthread  -g -fPIC -D__CLASSDIR__='\"/content/class_public\"' -DHYREC -I../include -I../external/RecfastCLASS -I../external/heating -I../external/HyRec2020 -I../external/Halofit -I../external/HMcode -c ../external/RecfastCLASS/wrap_recfast.c -o wrap_recfast.o\n",
            "cd /content/class_public/build;gcc -O3 -pthread  -g -fPIC -D__CLASSDIR__='\"/content/class_public\"' -DHYREC -I../include -I../external/RecfastCLASS -I../external/heating -I../external/HyRec2020 -I../external/Halofit -I../external/HMcode -c ../external/heating/injection.c -o injection.o\n",
            "cd /content/class_public/build;gcc -O3 -pthread  -g -fPIC -D__CLASSDIR__='\"/content/class_public\"' -DHYREC -I../include -I../external/RecfastCLASS -I../external/heating -I../external/HyRec2020 -I../external/Halofit -I../external/HMcode -c ../external/heating/noninjection.c -o noninjection.o\n",
            "cd /content/class_public/build;gcc -O3 -pthread  -g -fPIC -D__CLASSDIR__='\"/content/class_public\"' -DHYREC -I../include -I../external/RecfastCLASS -I../external/heating -I../external/HyRec2020 -I../external/Halofit -I../external/HMcode -c ../external/HyRec2020/hyrectools.c -o hyrectools.o\n",
            "cd /content/class_public/build;gcc -O3 -pthread  -g -fPIC -D__CLASSDIR__='\"/content/class_public\"' -DHYREC -I../include -I../external/RecfastCLASS -I../external/heating -I../external/HyRec2020 -I../external/Halofit -I../external/HMcode -c ../external/HyRec2020/helium.c -o helium.o\n",
            "cd /content/class_public/build;gcc -O3 -pthread  -g -fPIC -D__CLASSDIR__='\"/content/class_public\"' -DHYREC -I../include -I../external/RecfastCLASS -I../external/heating -I../external/HyRec2020 -I../external/Halofit -I../external/HMcode -c ../external/HyRec2020/hydrogen.c -o hydrogen.o\n",
            "cd /content/class_public/build;gcc -O3 -pthread  -g -fPIC -D__CLASSDIR__='\"/content/class_public\"' -DHYREC -I../include -I../external/RecfastCLASS -I../external/heating -I../external/HyRec2020 -I../external/Halofit -I../external/HMcode -c ../external/HyRec2020/history.c -o history.o\n",
            "cd /content/class_public/build;gcc -O3 -pthread  -g -fPIC -D__CLASSDIR__='\"/content/class_public\"' -DHYREC -I../include -I../external/RecfastCLASS -I../external/heating -I../external/HyRec2020 -I../external/Halofit -I../external/HMcode -c ../external/HyRec2020/wrap_hyrec.c -o wrap_hyrec.o\n",
            "cd /content/class_public/build;gcc -O3 -pthread  -g -fPIC -D__CLASSDIR__='\"/content/class_public\"' -DHYREC -I../include -I../external/RecfastCLASS -I../external/heating -I../external/HyRec2020 -I../external/Halofit -I../external/HMcode -c ../external/HyRec2020/energy_injection.c -o energy_injection.o\n",
            "cd /content/class_public/build;gcc -O3 -pthread  -g -fPIC -D__CLASSDIR__='\"/content/class_public\"' -DHYREC -I../include -I../external/RecfastCLASS -I../external/heating -I../external/HyRec2020 -I../external/Halofit -I../external/HMcode -c ../external/Halofit/halofit.c -o halofit.o\n",
            "cd /content/class_public/build;g++ --std=c++11 -fpermissive -Wno-write-strings -O3 -pthread  -g -fPIC -D__CLASSDIR__='\"/content/class_public\"' -DHYREC -I../include -I../external/RecfastCLASS -I../external/heating -I../external/HyRec2020 -I../external/Halofit -I../external/HMcode -c ../external/HMcode/hmcode.c -o hmcode.opp\n",
            "cd /content/class_public/build;gcc -O3 -pthread  -g -fPIC -D__CLASSDIR__='\"/content/class_public\"' -DHYREC -I../include -I../external/RecfastCLASS -I../external/heating -I../external/HyRec2020 -I../external/Halofit -I../external/HMcode -c ../source/output.c -o output.o\n",
            "cd /content/class_public/build;gcc -O3 -pthread  -g -fPIC -D__CLASSDIR__='\"/content/class_public\"' -DHYREC -I../include -I../external/RecfastCLASS -I../external/heating -I../external/HyRec2020 -I../external/Halofit -I../external/HMcode -c ../main/class.c -o class.o\n",
            "g++ --std=c++11 -fpermissive -Wno-write-strings -O3 -pthread  -g -fPIC -o class build/growTable.o build/dei_rkck.o build/sparse.o build/evolver_rkck.o build/evolver_ndf15.o build/arrays.opp build/parser.o build/quadrature.o build/hyperspherical.opp build/common.o build/trigonometric_integrals.o build/input.o build/background.o build/thermodynamics.o build/perturbations.opp build/primordial.opp build/fourier.o build/transfer.opp build/harmonic.opp build/lensing.opp build/distortions.o build/wrap_recfast.o build/injection.o build/noninjection.o build/hyrectools.o build/helium.o build/hydrogen.o build/history.o build/wrap_hyrec.o build/energy_injection.o build/halofit.o build/hmcode.opp build/output.o build/class.o -lm\n",
            "ar rv  libclass.a build/growTable.o build/dei_rkck.o build/sparse.o build/evolver_rkck.o build/evolver_ndf15.o build/arrays.opp build/parser.o build/quadrature.o build/hyperspherical.opp build/common.o build/trigonometric_integrals.o build/input.o build/background.o build/thermodynamics.o build/perturbations.opp build/primordial.opp build/fourier.o build/transfer.opp build/harmonic.opp build/lensing.opp build/distortions.o build/wrap_recfast.o build/injection.o build/noninjection.o build/hyrectools.o build/helium.o build/hydrogen.o build/history.o build/wrap_hyrec.o build/energy_injection.o build/halofit.o build/hmcode.opp\n",
            "ar: creating libclass.a\n",
            "a - build/growTable.o\n",
            "a - build/dei_rkck.o\n",
            "a - build/sparse.o\n",
            "a - build/evolver_rkck.o\n",
            "a - build/evolver_ndf15.o\n",
            "a - build/arrays.opp\n",
            "a - build/parser.o\n",
            "a - build/quadrature.o\n",
            "a - build/hyperspherical.opp\n",
            "a - build/common.o\n",
            "a - build/trigonometric_integrals.o\n",
            "a - build/input.o\n",
            "a - build/background.o\n",
            "a - build/thermodynamics.o\n",
            "a - build/perturbations.opp\n",
            "a - build/primordial.opp\n",
            "a - build/fourier.o\n",
            "a - build/transfer.opp\n",
            "a - build/harmonic.opp\n",
            "a - build/lensing.opp\n",
            "a - build/distortions.o\n",
            "a - build/wrap_recfast.o\n",
            "a - build/injection.o\n",
            "a - build/noninjection.o\n",
            "a - build/hyrectools.o\n",
            "a - build/helium.o\n",
            "a - build/hydrogen.o\n",
            "a - build/history.o\n",
            "a - build/wrap_hyrec.o\n",
            "a - build/energy_injection.o\n",
            "a - build/halofit.o\n",
            "a - build/hmcode.opp\n",
            "export CC=gcc; output=$(python -m pip install . 2>&1); \\\n",
            "    echo \"$output\"; \\\n",
            "    if echo \"$output\" | grep -q \"ERROR: Cannot uninstall\"; then \\\n",
            "        site_packages=$(python -c \"import distutils.sysconfig; print(distutils.sysconfig.get_python_lib())\" || python -c \"import site; print(site.getsitepackages()[0])\") && \\\n",
            "        echo \"Cleaning up previous installation in: $site_packages\" && \\\n",
            "        rm -rf $site_packages/classy* && \\\n",
            "        python -m pip install .; \\\n",
            "    fi\n",
            "Processing /content/class_public\n",
            "  Preparing metadata (setup.py): started\n",
            "  Preparing metadata (setup.py): finished with status 'done'\n",
            "Building wheels for collected packages: classy\n",
            "  Building wheel for classy (setup.py): started\n",
            "  Building wheel for classy (setup.py): finished with status 'done'\n",
            "  Created wheel for classy: filename=classy-3.3.0.0-cp311-cp311-linux_x86_64.whl size=11639961 sha256=33ec1d0e121522fe4dd2e0524cee2b1cc9254a417d1c9d68628e5ac49675f1ca\n",
            "  Stored in directory: /tmp/pip-ephem-wheel-cache-z7h56k5w/wheels/17/44/9e/eec3268e901970208efed3aafa44b2dab91f4de87b4c2472ad\n",
            "Successfully built classy\n",
            "Installing collected packages: classy\n",
            "Successfully installed classy-3.3.0.0\n",
            "/content/class_public/python\n",
            "running install\n",
            "/usr/local/lib/python3.11/dist-packages/setuptools/_distutils/cmd.py:66: SetuptoolsDeprecationWarning: setup.py install is deprecated.\n",
            "!!\n",
            "\n",
            "        ********************************************************************************\n",
            "        Please avoid running ``setup.py`` directly.\n",
            "        Instead, use pypa/build, pypa/installer or other\n",
            "        standards-based tools.\n",
            "\n",
            "        See https://blog.ganssle.io/articles/2021/10/setup-py-deprecated.html for details.\n",
            "        ********************************************************************************\n",
            "\n",
            "!!\n",
            "  self.initialize_options()\n",
            "/usr/local/lib/python3.11/dist-packages/setuptools/_distutils/cmd.py:66: EasyInstallDeprecationWarning: easy_install command is deprecated.\n",
            "!!\n",
            "\n",
            "        ********************************************************************************\n",
            "        Please avoid running ``setup.py`` and ``easy_install``.\n",
            "        Instead, use pypa/build, pypa/installer or other\n",
            "        standards-based tools.\n",
            "\n",
            "        See https://github.com/pypa/setuptools/issues/917 for details.\n",
            "        ********************************************************************************\n",
            "\n",
            "!!\n",
            "  self.initialize_options()\n",
            "running bdist_egg\n",
            "running egg_info\n",
            "creating classy.egg-info\n",
            "writing classy.egg-info/PKG-INFO\n",
            "writing dependency_links to classy.egg-info/dependency_links.txt\n",
            "writing top-level names to classy.egg-info/top_level.txt\n",
            "writing manifest file 'classy.egg-info/SOURCES.txt'\n",
            "reading manifest file 'classy.egg-info/SOURCES.txt'\n",
            "writing manifest file 'classy.egg-info/SOURCES.txt'\n",
            "installing library code to build/bdist.linux-x86_64/egg\n",
            "running install_lib\n",
            "running build_ext\n",
            "building 'classy' extension\n",
            "creating build/temp.linux-x86_64-cpython-311/content/class_public/python/../python\n",
            "x86_64-linux-gnu-g++ -Wsign-compare -DNDEBUG -g -fwrapv -O2 -Wall -g -fstack-protector-strong -Wformat -Werror=format-security -g -fwrapv -O2 -fPIC -I/usr/local/lib/python3.11/dist-packages/numpy/_core/include -I/content/class_public/python/../include -I/content/class_public/python/../external/heating -I/content/class_public/python/../external/RecfastCLASS -I/content/class_public/python/../external/HyRec2020 -I/content/class_public/python/../external/HMcode -I/content/class_public/python/../external/Halofit -I/usr/include/python3.11 -c /content/class_public/python/../python/classy.cpp -o build/temp.linux-x86_64-cpython-311/content/class_public/python/../python/classy.o -std=c++11\n",
            "In file included from \u001b[01m\u001b[K/usr/local/lib/python3.11/dist-packages/numpy/_core/include/numpy/ndarraytypes.h:1909\u001b[m\u001b[K,\n",
            "                 from \u001b[01m\u001b[K/usr/local/lib/python3.11/dist-packages/numpy/_core/include/numpy/ndarrayobject.h:12\u001b[m\u001b[K,\n",
            "                 from \u001b[01m\u001b[K/usr/local/lib/python3.11/dist-packages/numpy/_core/include/numpy/arrayobject.h:5\u001b[m\u001b[K,\n",
            "                 from \u001b[01m\u001b[K/content/class_public/python/../python/classy.cpp:1281\u001b[m\u001b[K:\n",
            "\u001b[01m\u001b[K/usr/local/lib/python3.11/dist-packages/numpy/_core/include/numpy/npy_1_7_deprecated_api.h:17:2:\u001b[m\u001b[K \u001b[01;35m\u001b[Kwarning: \u001b[m\u001b[K#warning \"Using deprecated NumPy API, disable it with \" \"#define NPY_NO_DEPRECATED_API NPY_1_7_API_VERSION\" [\u001b[01;35m\u001b[K\u001b]8;;https://gcc.gnu.org/onlinedocs/gcc/Warning-Options.html#index-Wcpp\u0007-Wcpp\u001b]8;;\u0007\u001b[m\u001b[K]\n",
            "   17 | #\u001b[01;35m\u001b[Kwarning\u001b[m\u001b[K \"Using deprecated NumPy API, disable it with \" \\\n",
            "      |  \u001b[01;35m\u001b[K^~~~~~~\u001b[m\u001b[K\n",
            "creating build/lib.linux-x86_64-cpython-311\n",
            "x86_64-linux-gnu-g++ -Wsign-compare -DNDEBUG -g -fwrapv -O2 -Wall -g -fstack-protector-strong -Wformat -Werror=format-security -g -fwrapv -O2 -shared -Wl,-O1 -Wl,-Bsymbolic-functions build/temp.linux-x86_64-cpython-311/content/class_public/python/../python/classy.o -L/content/class_public/python/.. -L/usr/lib/gcc/x86_64-linux-gnu/11 -L/usr/lib/x86_64-linux-gnu -lclass -lmvec -lm -o build/lib.linux-x86_64-cpython-311/classy.cpython-311-x86_64-linux-gnu.so\n",
            "creating build/bdist.linux-x86_64/egg\n",
            "copying build/lib.linux-x86_64-cpython-311/classy.cpython-311-x86_64-linux-gnu.so -> build/bdist.linux-x86_64/egg\n",
            "creating stub loader for classy.cpython-311-x86_64-linux-gnu.so\n",
            "byte-compiling build/bdist.linux-x86_64/egg/classy.py to classy.cpython-311.pyc\n",
            "creating build/bdist.linux-x86_64/egg/EGG-INFO\n",
            "copying classy.egg-info/PKG-INFO -> build/bdist.linux-x86_64/egg/EGG-INFO\n",
            "copying classy.egg-info/SOURCES.txt -> build/bdist.linux-x86_64/egg/EGG-INFO\n",
            "copying classy.egg-info/dependency_links.txt -> build/bdist.linux-x86_64/egg/EGG-INFO\n",
            "copying classy.egg-info/top_level.txt -> build/bdist.linux-x86_64/egg/EGG-INFO\n",
            "writing build/bdist.linux-x86_64/egg/EGG-INFO/native_libs.txt\n",
            "zip_safe flag not set; analyzing archive contents...\n",
            "__pycache__.classy.cpython-311: module references __file__\n",
            "creating dist\n",
            "creating 'dist/classy-3.3.0-py3.11-linux-x86_64.egg' and adding 'build/bdist.linux-x86_64/egg' to it\n",
            "removing 'build/bdist.linux-x86_64/egg' (and everything under it)\n",
            "Processing classy-3.3.0-py3.11-linux-x86_64.egg\n",
            "creating /usr/local/lib/python3.11/dist-packages/classy-3.3.0-py3.11-linux-x86_64.egg\n",
            "Extracting classy-3.3.0-py3.11-linux-x86_64.egg to /usr/local/lib/python3.11/dist-packages\n",
            "Adding classy 3.3.0 to easy-install.pth file\n",
            "\n",
            "Installed /usr/local/lib/python3.11/dist-packages/classy-3.3.0-py3.11-linux-x86_64.egg\n",
            "Processing dependencies for classy==3.3.0\n",
            "Finished processing dependencies for classy==3.3.0\n"
          ]
        }
      ],
      "source": [
        "#Class Boltzmann code install\n",
        "\n",
        "!apt-get install -y gfortran\n",
        "!git clone https://github.com/lesgourg/class_public.git\n",
        "%cd class_public\n",
        "!make\n",
        "%cd python\n",
        "!python3 setup.py install\n",
        "\n",
        "from classy import Class"
      ]
    },
    {
      "cell_type": "markdown",
      "metadata": {
        "id": "dMhcFU9bTsfx"
      },
      "source": [
        "#**$\\Omega_m$ free only part**"
      ]
    },
    {
      "cell_type": "code",
      "execution_count": 5,
      "metadata": {
        "id": "2efGnGDMNS41"
      },
      "outputs": [],
      "source": [
        "#100 spectra catalog 1 free parameter (Omm)\n",
        "\n",
        "#Fixed values\n",
        "h = 0.67\n",
        "omega_b = 0.022\n",
        "A_s = 2.1e-9\n",
        "n_s = 0.96\n",
        "tau = 0.06\n",
        "z = 0.0\n",
        "ks = np.logspace(-3, 1, 100)  #100 between 0.001 and 10 h/Mpc\n",
        "\n",
        "#Omm range\n",
        "Omega_m_vals = np.linspace(0.2, 0.4, 100)  #Between 0.2 and 0.4\n",
        "\n",
        "#List to save the spectra\n",
        "spectra = []\n",
        "\n",
        "for Omega_m in Omega_m_vals:\n",
        "\n",
        "    omega_cdm = Omega_m * h**2 - omega_b\n",
        "\n",
        "    #Cosmology\n",
        "    cosmo = Class()\n",
        "    cosmo.set({\n",
        "        'h': h,\n",
        "        'omega_b': omega_b,\n",
        "        'omega_cdm': omega_cdm,\n",
        "        'A_s': A_s,\n",
        "        'n_s': n_s,\n",
        "        'tau_reio': tau,\n",
        "        'output': 'mPk',\n",
        "        'P_k_max_1/Mpc': 10.0\n",
        "    })\n",
        "\n",
        "    #Compute spectrum\n",
        "    cosmo.compute()\n",
        "    Pk = [cosmo.pk(k, z) for k in ks]\n",
        "    spectra.append(Pk)\n",
        "\n",
        "    cosmo.struct_cleanup()\n",
        "    cosmo.empty()\n",
        "\n",
        "#'Spectra' is now the 100 spectra catalog"
      ]
    },
    {
      "cell_type": "code",
      "execution_count": 6,
      "metadata": {
        "id": "cR36dNDKOETN"
      },
      "outputs": [],
      "source": [
        "#Data preprocessing\n",
        "\n",
        "Pks = np.array(spectra) #NN inputs\n",
        "Omm_labels = Omega_m_vals #NN targets\n",
        "\n",
        "X_train, X_test, y_train, y_test = train_test_split(Pks, Omm_labels, test_size=0.2, shuffle=True, random_state=1) #Random state to get the same shuffle every time"
      ]
    },
    {
      "cell_type": "code",
      "execution_count": 7,
      "metadata": {
        "colab": {
          "base_uri": "https://localhost:8080/",
          "height": 451
        },
        "id": "_5vrNGfLOqss",
        "outputId": "5dbe31b4-eddb-49b3-946c-d554b559f149"
      },
      "outputs": [
        {
          "output_type": "execute_result",
          "data": {
            "text/plain": [
              "[<matplotlib.lines.Line2D at 0x7e575e5b4d10>]"
            ]
          },
          "metadata": {},
          "execution_count": 7
        },
        {
          "output_type": "display_data",
          "data": {
            "text/plain": [
              "<Figure size 640x480 with 1 Axes>"
            ],
            "image/png": "[encoded data removed]"
          },
          "metadata": {}
        }
      ],
      "source": [
        "#Variation in Pk's as Omm varies (Shuffle works)\n",
        "plt.loglog(ks, X_train[0])\n",
        "plt.loglog(ks, X_train[5])\n",
        "plt.loglog(ks, X_train[7])\n",
        "plt.loglog(ks,X_train[10])\n",
        "plt.loglog(ks, X_train[50])"
      ]
    },
    {
      "cell_type": "code",
      "execution_count": 8,
      "metadata": {
        "id": "txzv0D2LQyRV"
      },
      "outputs": [],
      "source": [
        "#Normalization\n",
        "\n",
        "scaler_X = StandardScaler().fit(X_train)\n",
        "X_train_scaled = scaler_X.transform(X_train)\n",
        "X_test_scaled  = scaler_X.transform(X_test)\n",
        "\n",
        "scaler_y = StandardScaler().fit(y_train.reshape(-1, 1))\n",
        "y_train_scaled = scaler_y.transform(y_train.reshape(-1, 1))\n",
        "y_test_scaled  = scaler_y.transform(y_test.reshape(-1, 1))"
      ]
    },
    {
      "cell_type": "code",
      "execution_count": 9,
      "metadata": {
        "colab": {
          "base_uri": "https://localhost:8080/",
          "height": 619
        },
        "id": "gRFx34hfPY4f",
        "outputId": "7364dfb7-5aff-4e6f-d830-ffb7878ca992"
      },
      "outputs": [
        {
          "output_type": "display_data",
          "data": {
            "text/plain": [
              "\u001b[1mModel: \"sequential\"\u001b[0m\n"
            ],
            "text/html": [
              "<pre style=\"white-space:pre;overflow-x:auto;line-height:normal;font-family:Menlo,'DejaVu Sans Mono',consolas,'Courier New',monospace\"><span style=\"font-weight: bold\">Model: \"sequential\"</span>\n",
              "</pre>\n"
            ]
          },
          "metadata": {}
        },
        {
          "output_type": "display_data",
          "data": {
            "text/plain": [
              "┏━━━━━━━━━━━━━━━━━━━━━━━━━━━━━━━━━┳━━━━━━━━━━━━━━━━━━━━━━━━┳━━━━━━━━━━━━━━━┓\n",
              "┃\u001b[1m \u001b[0m\u001b[1mLayer (type)                   \u001b[0m\u001b[1m \u001b[0m┃\u001b[1m \u001b[0m\u001b[1mOutput Shape          \u001b[0m\u001b[1m \u001b[0m┃\u001b[1m \u001b[0m\u001b[1m      Param #\u001b[0m\u001b[1m \u001b[0m┃\n",
              "┡━━━━━━━━━━━━━━━━━━━━━━━━━━━━━━━━━╇━━━━━━━━━━━━━━━━━━━━━━━━╇━━━━━━━━━━━━━━━┩\n",
              "│ dense (\u001b[38;5;33mDense\u001b[0m)                   │ (\u001b[38;5;45mNone\u001b[0m, \u001b[38;5;34m100\u001b[0m)            │        \u001b[38;5;34m10,100\u001b[0m │\n",
              "├─────────────────────────────────┼────────────────────────┼───────────────┤\n",
              "│ batch_normalization             │ (\u001b[38;5;45mNone\u001b[0m, \u001b[38;5;34m100\u001b[0m)            │           \u001b[38;5;34m400\u001b[0m │\n",
              "│ (\u001b[38;5;33mBatchNormalization\u001b[0m)            │                        │               │\n",
              "├─────────────────────────────────┼────────────────────────┼───────────────┤\n",
              "│ activation (\u001b[38;5;33mActivation\u001b[0m)         │ (\u001b[38;5;45mNone\u001b[0m, \u001b[38;5;34m100\u001b[0m)            │             \u001b[38;5;34m0\u001b[0m │\n",
              "├─────────────────────────────────┼────────────────────────┼───────────────┤\n",
              "│ dropout (\u001b[38;5;33mDropout\u001b[0m)               │ (\u001b[38;5;45mNone\u001b[0m, \u001b[38;5;34m100\u001b[0m)            │             \u001b[38;5;34m0\u001b[0m │\n",
              "├─────────────────────────────────┼────────────────────────┼───────────────┤\n",
              "│ dense_1 (\u001b[38;5;33mDense\u001b[0m)                 │ (\u001b[38;5;45mNone\u001b[0m, \u001b[38;5;34m100\u001b[0m)            │        \u001b[38;5;34m10,100\u001b[0m │\n",
              "├─────────────────────────────────┼────────────────────────┼───────────────┤\n",
              "│ batch_normalization_1           │ (\u001b[38;5;45mNone\u001b[0m, \u001b[38;5;34m100\u001b[0m)            │           \u001b[38;5;34m400\u001b[0m │\n",
              "│ (\u001b[38;5;33mBatchNormalization\u001b[0m)            │                        │               │\n",
              "├─────────────────────────────────┼────────────────────────┼───────────────┤\n",
              "│ activation_1 (\u001b[38;5;33mActivation\u001b[0m)       │ (\u001b[38;5;45mNone\u001b[0m, \u001b[38;5;34m100\u001b[0m)            │             \u001b[38;5;34m0\u001b[0m │\n",
              "├─────────────────────────────────┼────────────────────────┼───────────────┤\n",
              "│ dropout_1 (\u001b[38;5;33mDropout\u001b[0m)             │ (\u001b[38;5;45mNone\u001b[0m, \u001b[38;5;34m100\u001b[0m)            │             \u001b[38;5;34m0\u001b[0m │\n",
              "├─────────────────────────────────┼────────────────────────┼───────────────┤\n",
              "│ dense_2 (\u001b[38;5;33mDense\u001b[0m)                 │ (\u001b[38;5;45mNone\u001b[0m, \u001b[38;5;34m100\u001b[0m)            │        \u001b[38;5;34m10,100\u001b[0m │\n",
              "├─────────────────────────────────┼────────────────────────┼───────────────┤\n",
              "│ batch_normalization_2           │ (\u001b[38;5;45mNone\u001b[0m, \u001b[38;5;34m100\u001b[0m)            │           \u001b[38;5;34m400\u001b[0m │\n",
              "│ (\u001b[38;5;33mBatchNormalization\u001b[0m)            │                        │               │\n",
              "├─────────────────────────────────┼────────────────────────┼───────────────┤\n",
              "│ activation_2 (\u001b[38;5;33mActivation\u001b[0m)       │ (\u001b[38;5;45mNone\u001b[0m, \u001b[38;5;34m100\u001b[0m)            │             \u001b[38;5;34m0\u001b[0m │\n",
              "├─────────────────────────────────┼────────────────────────┼───────────────┤\n",
              "│ dropout_2 (\u001b[38;5;33mDropout\u001b[0m)             │ (\u001b[38;5;45mNone\u001b[0m, \u001b[38;5;34m100\u001b[0m)            │             \u001b[38;5;34m0\u001b[0m │\n",
              "├─────────────────────────────────┼────────────────────────┼───────────────┤\n",
              "│ dense_3 (\u001b[38;5;33mDense\u001b[0m)                 │ (\u001b[38;5;45mNone\u001b[0m, \u001b[38;5;34m1\u001b[0m)              │           \u001b[38;5;34m101\u001b[0m │\n",
              "└─────────────────────────────────┴────────────────────────┴───────────────┘\n"
            ],
            "text/html": [
              "<pre style=\"white-space:pre;overflow-x:auto;line-height:normal;font-family:Menlo,'DejaVu Sans Mono',consolas,'Courier New',monospace\">┏━━━━━━━━━━━━━━━━━━━━━━━━━━━━━━━━━┳━━━━━━━━━━━━━━━━━━━━━━━━┳━━━━━━━━━━━━━━━┓\n",
              "┃<span style=\"font-weight: bold\"> Layer (type)                    </span>┃<span style=\"font-weight: bold\"> Output Shape           </span>┃<span style=\"font-weight: bold\">       Param # </span>┃\n",
              "┡━━━━━━━━━━━━━━━━━━━━━━━━━━━━━━━━━╇━━━━━━━━━━━━━━━━━━━━━━━━╇━━━━━━━━━━━━━━━┩\n",
              "│ dense (<span style=\"color: #0087ff; text-decoration-color: #0087ff\">Dense</span>)                   │ (<span style=\"color: #00d7ff; text-decoration-color: #00d7ff\">None</span>, <span style=\"color: #00af00; text-decoration-color: #00af00\">100</span>)            │        <span style=\"color: #00af00; text-decoration-color: #00af00\">10,100</span> │\n",
              "├─────────────────────────────────┼────────────────────────┼───────────────┤\n",
              "│ batch_normalization             │ (<span style=\"color: #00d7ff; text-decoration-color: #00d7ff\">None</span>, <span style=\"color: #00af00; text-decoration-color: #00af00\">100</span>)            │           <span style=\"color: #00af00; text-decoration-color: #00af00\">400</span> │\n",
              "│ (<span style=\"color: #0087ff; text-decoration-color: #0087ff\">BatchNormalization</span>)            │                        │               │\n",
              "├─────────────────────────────────┼────────────────────────┼───────────────┤\n",
              "│ activation (<span style=\"color: #0087ff; text-decoration-color: #0087ff\">Activation</span>)         │ (<span style=\"color: #00d7ff; text-decoration-color: #00d7ff\">None</span>, <span style=\"color: #00af00; text-decoration-color: #00af00\">100</span>)            │             <span style=\"color: #00af00; text-decoration-color: #00af00\">0</span> │\n",
              "├─────────────────────────────────┼────────────────────────┼───────────────┤\n",
              "│ dropout (<span style=\"color: #0087ff; text-decoration-color: #0087ff\">Dropout</span>)               │ (<span style=\"color: #00d7ff; text-decoration-color: #00d7ff\">None</span>, <span style=\"color: #00af00; text-decoration-color: #00af00\">100</span>)            │             <span style=\"color: #00af00; text-decoration-color: #00af00\">0</span> │\n",
              "├─────────────────────────────────┼────────────────────────┼───────────────┤\n",
              "│ dense_1 (<span style=\"color: #0087ff; text-decoration-color: #0087ff\">Dense</span>)                 │ (<span style=\"color: #00d7ff; text-decoration-color: #00d7ff\">None</span>, <span style=\"color: #00af00; text-decoration-color: #00af00\">100</span>)            │        <span style=\"color: #00af00; text-decoration-color: #00af00\">10,100</span> │\n",
              "├─────────────────────────────────┼────────────────────────┼───────────────┤\n",
              "│ batch_normalization_1           │ (<span style=\"color: #00d7ff; text-decoration-color: #00d7ff\">None</span>, <span style=\"color: #00af00; text-decoration-color: #00af00\">100</span>)            │           <span style=\"color: #00af00; text-decoration-color: #00af00\">400</span> │\n",
              "│ (<span style=\"color: #0087ff; text-decoration-color: #0087ff\">BatchNormalization</span>)            │                        │               │\n",
              "├─────────────────────────────────┼────────────────────────┼───────────────┤\n",
              "│ activation_1 (<span style=\"color: #0087ff; text-decoration-color: #0087ff\">Activation</span>)       │ (<span style=\"color: #00d7ff; text-decoration-color: #00d7ff\">None</span>, <span style=\"color: #00af00; text-decoration-color: #00af00\">100</span>)            │             <span style=\"color: #00af00; text-decoration-color: #00af00\">0</span> │\n",
              "├─────────────────────────────────┼────────────────────────┼───────────────┤\n",
              "│ dropout_1 (<span style=\"color: #0087ff; text-decoration-color: #0087ff\">Dropout</span>)             │ (<span style=\"color: #00d7ff; text-decoration-color: #00d7ff\">None</span>, <span style=\"color: #00af00; text-decoration-color: #00af00\">100</span>)            │             <span style=\"color: #00af00; text-decoration-color: #00af00\">0</span> │\n",
              "├─────────────────────────────────┼────────────────────────┼───────────────┤\n",
              "│ dense_2 (<span style=\"color: #0087ff; text-decoration-color: #0087ff\">Dense</span>)                 │ (<span style=\"color: #00d7ff; text-decoration-color: #00d7ff\">None</span>, <span style=\"color: #00af00; text-decoration-color: #00af00\">100</span>)            │        <span style=\"color: #00af00; text-decoration-color: #00af00\">10,100</span> │\n",
              "├─────────────────────────────────┼────────────────────────┼───────────────┤\n",
              "│ batch_normalization_2           │ (<span style=\"color: #00d7ff; text-decoration-color: #00d7ff\">None</span>, <span style=\"color: #00af00; text-decoration-color: #00af00\">100</span>)            │           <span style=\"color: #00af00; text-decoration-color: #00af00\">400</span> │\n",
              "│ (<span style=\"color: #0087ff; text-decoration-color: #0087ff\">BatchNormalization</span>)            │                        │               │\n",
              "├─────────────────────────────────┼────────────────────────┼───────────────┤\n",
              "│ activation_2 (<span style=\"color: #0087ff; text-decoration-color: #0087ff\">Activation</span>)       │ (<span style=\"color: #00d7ff; text-decoration-color: #00d7ff\">None</span>, <span style=\"color: #00af00; text-decoration-color: #00af00\">100</span>)            │             <span style=\"color: #00af00; text-decoration-color: #00af00\">0</span> │\n",
              "├─────────────────────────────────┼────────────────────────┼───────────────┤\n",
              "│ dropout_2 (<span style=\"color: #0087ff; text-decoration-color: #0087ff\">Dropout</span>)             │ (<span style=\"color: #00d7ff; text-decoration-color: #00d7ff\">None</span>, <span style=\"color: #00af00; text-decoration-color: #00af00\">100</span>)            │             <span style=\"color: #00af00; text-decoration-color: #00af00\">0</span> │\n",
              "├─────────────────────────────────┼────────────────────────┼───────────────┤\n",
              "│ dense_3 (<span style=\"color: #0087ff; text-decoration-color: #0087ff\">Dense</span>)                 │ (<span style=\"color: #00d7ff; text-decoration-color: #00d7ff\">None</span>, <span style=\"color: #00af00; text-decoration-color: #00af00\">1</span>)              │           <span style=\"color: #00af00; text-decoration-color: #00af00\">101</span> │\n",
              "└─────────────────────────────────┴────────────────────────┴───────────────┘\n",
              "</pre>\n"
            ]
          },
          "metadata": {}
        },
        {
          "output_type": "display_data",
          "data": {
            "text/plain": [
              "\u001b[1m Total params: \u001b[0m\u001b[38;5;34m31,601\u001b[0m (123.44 KB)\n"
            ],
            "text/html": [
              "<pre style=\"white-space:pre;overflow-x:auto;line-height:normal;font-family:Menlo,'DejaVu Sans Mono',consolas,'Courier New',monospace\"><span style=\"font-weight: bold\"> Total params: </span><span style=\"color: #00af00; text-decoration-color: #00af00\">31,601</span> (123.44 KB)\n",
              "</pre>\n"
            ]
          },
          "metadata": {}
        },
        {
          "output_type": "display_data",
          "data": {
            "text/plain": [
              "\u001b[1m Trainable params: \u001b[0m\u001b[38;5;34m31,001\u001b[0m (121.10 KB)\n"
            ],
            "text/html": [
              "<pre style=\"white-space:pre;overflow-x:auto;line-height:normal;font-family:Menlo,'DejaVu Sans Mono',consolas,'Courier New',monospace\"><span style=\"font-weight: bold\"> Trainable params: </span><span style=\"color: #00af00; text-decoration-color: #00af00\">31,001</span> (121.10 KB)\n",
              "</pre>\n"
            ]
          },
          "metadata": {}
        },
        {
          "output_type": "display_data",
          "data": {
            "text/plain": [
              "\u001b[1m Non-trainable params: \u001b[0m\u001b[38;5;34m600\u001b[0m (2.34 KB)\n"
            ],
            "text/html": [
              "<pre style=\"white-space:pre;overflow-x:auto;line-height:normal;font-family:Menlo,'DejaVu Sans Mono',consolas,'Courier New',monospace\"><span style=\"font-weight: bold\"> Non-trainable params: </span><span style=\"color: #00af00; text-decoration-color: #00af00\">600</span> (2.34 KB)\n",
              "</pre>\n"
            ]
          },
          "metadata": {}
        }
      ],
      "source": [
        "#Best NN model\n",
        "\n",
        "tf.random.set_seed(1234)\n",
        "from tensorflow.keras.layers import BatchNormalization\n",
        "\n",
        "model = Sequential([\n",
        "    tf.keras.Input(shape=(X_train_scaled.shape[1],)),\n",
        "\n",
        "    Dense(100, activation=None, kernel_initializer='he_uniform'),\n",
        "    BatchNormalization(),\n",
        "    tf.keras.layers.Activation('relu'),\n",
        "    Dropout(0.1),\n",
        "\n",
        "    Dense(100, activation=None, kernel_initializer='he_uniform'),\n",
        "    BatchNormalization(),\n",
        "    tf.keras.layers.Activation('relu'),\n",
        "    Dropout(0.1),\n",
        "\n",
        "    Dense(100, activation=None, kernel_initializer='he_uniform'),\n",
        "    BatchNormalization(),\n",
        "    tf.keras.layers.Activation('relu'),\n",
        "    Dropout(0.1),\n",
        "\n",
        "    Dense(1, activation='linear', kernel_initializer='he_uniform')\n",
        "])\n",
        "\n",
        "model.summary()\n",
        "model.compile(\n",
        "    loss = tf.keras.losses.MeanSquaredError(),\n",
        "    optimizer='adam',\n",
        "    metrics=['mse']\n",
        ")"
      ]
    },
    {
      "cell_type": "code",
      "execution_count": 10,
      "metadata": {
        "colab": {
          "base_uri": "https://localhost:8080/"
        },
        "id": "XPe1i_7uPlbt",
        "outputId": "1c083c6c-ef5d-40fa-c5ed-c7e7c36bf171"
      },
      "outputs": [
        {
          "output_type": "stream",
          "name": "stdout",
          "text": [
            "Epoch 1/20\n",
            "\u001b[1m3/3\u001b[0m \u001b[32m━━━━━━━━━━━━━━━━━━━━\u001b[0m\u001b[37m\u001b[0m \u001b[1m5s\u001b[0m 276ms/step - loss: 1.7225 - mse: 1.7225 - val_loss: 0.0821 - val_mse: 0.0821 - learning_rate: 0.0010\n",
            "Epoch 2/20\n",
            "\u001b[1m3/3\u001b[0m \u001b[32m━━━━━━━━━━━━━━━━━━━━\u001b[0m\u001b[37m\u001b[0m \u001b[1m0s\u001b[0m 77ms/step - loss: 1.3203 - mse: 1.3203 - val_loss: 0.3343 - val_mse: 0.3343 - learning_rate: 0.0010\n",
            "Epoch 3/20\n",
            "\u001b[1m3/3\u001b[0m \u001b[32m━━━━━━━━━━━━━━━━━━━━\u001b[0m\u001b[37m\u001b[0m \u001b[1m0s\u001b[0m 62ms/step - loss: 0.9772 - mse: 0.9772 - val_loss: 0.2506 - val_mse: 0.2506 - learning_rate: 0.0010\n",
            "Epoch 4/20\n",
            "\u001b[1m3/3\u001b[0m \u001b[32m━━━━━━━━━━━━━━━━━━━━\u001b[0m\u001b[37m\u001b[0m \u001b[1m0s\u001b[0m 78ms/step - loss: 0.7060 - mse: 0.7060 - val_loss: 0.2102 - val_mse: 0.2102 - learning_rate: 0.0010\n",
            "Epoch 5/20\n",
            "\u001b[1m3/3\u001b[0m \u001b[32m━━━━━━━━━━━━━━━━━━━━\u001b[0m\u001b[37m\u001b[0m \u001b[1m0s\u001b[0m 42ms/step - loss: 0.5990 - mse: 0.5990 - val_loss: 0.1611 - val_mse: 0.1611 - learning_rate: 0.0010\n",
            "Epoch 6/20\n",
            "\u001b[1m1/3\u001b[0m \u001b[32m━━━━━━\u001b[0m\u001b[37m━━━━━━━━━━━━━━\u001b[0m \u001b[1m0s\u001b[0m 29ms/step - loss: 0.4303 - mse: 0.4303\n",
            "Epoch 6: ReduceLROnPlateau reducing learning rate to 0.0005000000237487257.\n",
            "\u001b[1m3/3\u001b[0m \u001b[32m━━━━━━━━━━━━━━━━━━━━\u001b[0m\u001b[37m\u001b[0m \u001b[1m0s\u001b[0m 42ms/step - loss: 0.3701 - mse: 0.3701 - val_loss: 0.0915 - val_mse: 0.0915 - learning_rate: 0.0010\n",
            "Epoch 7/20\n",
            "\u001b[1m3/3\u001b[0m \u001b[32m━━━━━━━━━━━━━━━━━━━━\u001b[0m\u001b[37m\u001b[0m \u001b[1m0s\u001b[0m 41ms/step - loss: 0.5586 - mse: 0.5586 - val_loss: 0.1191 - val_mse: 0.1191 - learning_rate: 5.0000e-04\n",
            "Epoch 8/20\n",
            "\u001b[1m3/3\u001b[0m \u001b[32m━━━━━━━━━━━━━━━━━━━━\u001b[0m\u001b[37m\u001b[0m \u001b[1m0s\u001b[0m 48ms/step - loss: 0.4597 - mse: 0.4597 - val_loss: 0.1519 - val_mse: 0.1519 - learning_rate: 5.0000e-04\n",
            "Epoch 9/20\n",
            "\u001b[1m3/3\u001b[0m \u001b[32m━━━━━━━━━━━━━━━━━━━━\u001b[0m\u001b[37m\u001b[0m \u001b[1m0s\u001b[0m 41ms/step - loss: 0.4698 - mse: 0.4698 - val_loss: 0.2221 - val_mse: 0.2221 - learning_rate: 5.0000e-04\n",
            "Epoch 10/20\n",
            "\u001b[1m3/3\u001b[0m \u001b[32m━━━━━━━━━━━━━━━━━━━━\u001b[0m\u001b[37m\u001b[0m \u001b[1m0s\u001b[0m 43ms/step - loss: 0.4533 - mse: 0.4533 - val_loss: 0.3171 - val_mse: 0.3171 - learning_rate: 5.0000e-04\n",
            "Epoch 11/20\n",
            "\u001b[1m1/3\u001b[0m \u001b[32m━━━━━━\u001b[0m\u001b[37m━━━━━━━━━━━━━━\u001b[0m \u001b[1m0s\u001b[0m 32ms/step - loss: 0.3653 - mse: 0.3653\n",
            "Epoch 11: ReduceLROnPlateau reducing learning rate to 0.0002500000118743628.\n",
            "\u001b[1m3/3\u001b[0m \u001b[32m━━━━━━━━━━━━━━━━━━━━\u001b[0m\u001b[37m\u001b[0m \u001b[1m0s\u001b[0m 44ms/step - loss: 0.3520 - mse: 0.3520 - val_loss: 0.3769 - val_mse: 0.3769 - learning_rate: 5.0000e-04\n",
            "Epoch 11: early stopping\n",
            "Restoring model weights from the end of the best epoch: 1.\n",
            "Test MSE: 9.14493e-02\n",
            "\u001b[1m1/1\u001b[0m \u001b[32m━━━━━━━━━━━━━━━━━━━━\u001b[0m\u001b[37m\u001b[0m \u001b[1m0s\u001b[0m 146ms/step\n",
            "Real: [1.08902178], Pred: [1.462189]\n",
            "Real: [1.22435652], Pred: [1.5689003]\n",
            "Real: [-0.50116148], Pred: [-0.08689822]\n",
            "Real: [1.12285547], Pred: [1.4885982]\n",
            "Real: [1.5288597], Pred: [1.7952082]\n"
          ]
        }
      ],
      "source": [
        "#Run fits and prediction test\n",
        "\n",
        "reduce_lr = ReduceLROnPlateau(\n",
        "    monitor='val_loss',\n",
        "    factor=0.5,\n",
        "    patience=5,\n",
        "    verbose=1,\n",
        "    min_lr=1e-6\n",
        ")\n",
        "\n",
        "early_stop = EarlyStopping(\n",
        "    monitor='val_loss',\n",
        "    patience=10,\n",
        "    restore_best_weights=True,\n",
        "    verbose=1\n",
        ")\n",
        "\n",
        "history = model.fit(\n",
        "    X_train_scaled,\n",
        "    y_train_scaled,\n",
        "    epochs=20,\n",
        "    batch_size=32,\n",
        "    validation_split=0.1,\n",
        "    shuffle=True,\n",
        "    callbacks=[reduce_lr, early_stop]\n",
        ")\n",
        "\n",
        "eval_metrics = model.evaluate(X_test_scaled, y_test_scaled, verbose=0)\n",
        "print(f\"Test MSE: {eval_metrics[0]:.5e}\")\n",
        "\n",
        "y_hat_cont = model.predict(X_test_scaled)\n",
        "for i in range(5):\n",
        "    print(f\"Real: {y_test_scaled[i]}, Pred: {y_hat_cont[i]}\")"
      ]
    },
    {
      "cell_type": "code",
      "execution_count": 11,
      "metadata": {
        "colab": {
          "base_uri": "https://localhost:8080/",
          "height": 454
        },
        "id": "s5KVJCVBPt1F",
        "outputId": "d9d06a8a-9f7b-49ee-8621-ce48aa83af67"
      },
      "outputs": [
        {
          "output_type": "display_data",
          "data": {
            "text/plain": [
              "<Figure size 640x480 with 1 Axes>"
            ],
            "image/png": "[encoded data removed]"
          },
          "metadata": {}
        }
      ],
      "source": [
        "#Loss plot\n",
        "\n",
        "plt.plot(history.history['loss'], label='Train loss', color ='cadetblue')\n",
        "plt.plot(history.history['val_mse'], label='Validation loss', color = 'black')\n",
        "plt.legend()\n",
        "plt.title('Loss over epochs ($\\Omega_m$ free)')\n",
        "#plt.savefig('model10_loss')\n",
        "#files.download(\"model10_loss.png\")\n",
        "plt.show()"
      ]
    },
    {
      "cell_type": "code",
      "execution_count": 12,
      "metadata": {
        "colab": {
          "base_uri": "https://localhost:8080/"
        },
        "id": "P0mGVO6zQM4-",
        "outputId": "d9db1c55-b1e9-429e-cf84-d1ef82bf9a54"
      },
      "outputs": [
        {
          "output_type": "stream",
          "name": "stdout",
          "text": [
            "Descaled MSE: 0.0003260404936829458\n",
            "Error: 0.01805659141928359\n"
          ]
        }
      ],
      "source": [
        "#Re-Re Normalizarion (i.e. non-normalized data for the MSE calculation)\n",
        "\n",
        "y_test_real = scaler_y.inverse_transform(y_test_scaled)\n",
        "y_pred_real = scaler_y.inverse_transform(y_hat_cont)\n",
        "from sklearn.metrics import mean_squared_error\n",
        "\n",
        "mse_real = mean_squared_error(y_test_real, y_pred_real)\n",
        "print(f\"Descaled MSE: {mse_real}\")\n",
        "error = np.sqrt(mse_real)\n",
        "print(f'Error: {error}')"
      ]
    },
    {
      "cell_type": "markdown",
      "metadata": {
        "id": "ITzDJsJGUMTM"
      },
      "source": [
        "#**$\\Omega_m$+$n_s$ free part**"
      ]
    },
    {
      "cell_type": "code",
      "execution_count": 13,
      "metadata": {
        "id": "A-vPH8M0USCM"
      },
      "outputs": [],
      "source": [
        "#Fixed values\n",
        "h = 0.67\n",
        "omega_b = 0.022\n",
        "A_s = 2.1e-9\n",
        "#n_s = 0.96 #n_s free here\n",
        "tau = 0.06\n",
        "z = 0.0\n",
        "ks = np.logspace(-3, 1, 100)\n",
        "\n",
        "#Omm & ns ranges\n",
        "Omega_m_vals = np.linspace(0.2, 0.4, 100)\n",
        "ns_vals = np.linspace(0.95, 0.97,100)\n",
        "\n",
        "spectra = []\n",
        "\n",
        "for Omega_m in Omega_m_vals:\n",
        "\n",
        "    omega_cdm = Omega_m * h**2 - omega_b\n",
        "\n",
        "    for n_s in ns_vals: #Now we make the loop over n_s too\n",
        "\n",
        "      #Cosmology\n",
        "      cosmo = Class()\n",
        "      cosmo.set({\n",
        "          'h': h,\n",
        "          'omega_b': omega_b,\n",
        "          'omega_cdm': omega_cdm,\n",
        "          'A_s': A_s,\n",
        "          'n_s': n_s,\n",
        "          'tau_reio': tau,\n",
        "          'output': 'mPk',\n",
        "          'P_k_max_1/Mpc': 10.0\n",
        "      })\n",
        "\n",
        "\n",
        "    cosmo.compute()\n",
        "    Pk = [cosmo.pk(k, z) for k in ks]\n",
        "    spectra.append(Pk)\n",
        "\n",
        "    cosmo.struct_cleanup()\n",
        "    cosmo.empty()"
      ]
    },
    {
      "cell_type": "code",
      "execution_count": 14,
      "metadata": {
        "colab": {
          "base_uri": "https://localhost:8080/"
        },
        "id": "i4Q9Ho0oU3O0",
        "outputId": "9c9dacfa-ea59-418d-8cc0-2e01c216befc"
      },
      "outputs": [
        {
          "data": {
            "text/plain": [
              "((80, 100), (20, 100), (80, 2), (20, 2))"
            ]
          },
          "execution_count": 14,
          "metadata": {},
          "output_type": "execute_result"
        }
      ],
      "source": [
        "#Data preprocessing\n",
        "\n",
        "Pks = np.array(spectra) #NN inputs\n",
        "Labels = np.array([Omega_m_vals,ns_vals]).T #NN targets\n",
        "\n",
        "from sklearn.model_selection import train_test_split\n",
        "X_train, X_test, y_train, y_test = train_test_split(Pks, Labels, test_size=0.2, shuffle=True, random_state=1) #Random state to get the same shuffle every time\n",
        "\n",
        "X_train.shape, X_test.shape, y_train.shape, y_test.shape #Data shapes are already (nfeatures, nsamples)"
      ]
    },
    {
      "cell_type": "code",
      "execution_count": 15,
      "metadata": {
        "id": "u5UFaH5jU5Uo"
      },
      "outputs": [],
      "source": [
        "#Normalization\n",
        "\n",
        "scaler_X = StandardScaler().fit(X_train)\n",
        "X_train_scaled = scaler_X.transform(X_train)\n",
        "X_test_scaled   = scaler_X.transform(X_test)\n",
        "\n",
        "scaler_y = StandardScaler().fit(y_train)\n",
        "y_train_scaled = scaler_y.transform(y_train)\n",
        "y_test_scaled   = scaler_y.transform(y_test)"
      ]
    },
    {
      "cell_type": "code",
      "execution_count": 16,
      "metadata": {
        "colab": {
          "base_uri": "https://localhost:8080/",
          "height": 619
        },
        "id": "DoTPhHS9VKMm",
        "outputId": "1cf7535c-99a8-4a51-c907-356b5a0e2b41"
      },
      "outputs": [
        {
          "output_type": "display_data",
          "data": {
            "text/plain": [
              "\u001b[1mModel: \"sequential_1\"\u001b[0m\n"
            ],
            "text/html": [
              "<pre style=\"white-space:pre;overflow-x:auto;line-height:normal;font-family:Menlo,'DejaVu Sans Mono',consolas,'Courier New',monospace\"><span style=\"font-weight: bold\">Model: \"sequential_1\"</span>\n",
              "</pre>\n"
            ]
          },
          "metadata": {}
        },
        {
          "output_type": "display_data",
          "data": {
            "text/plain": [
              "┏━━━━━━━━━━━━━━━━━━━━━━━━━━━━━━━━━┳━━━━━━━━━━━━━━━━━━━━━━━━┳━━━━━━━━━━━━━━━┓\n",
              "┃\u001b[1m \u001b[0m\u001b[1mLayer (type)                   \u001b[0m\u001b[1m \u001b[0m┃\u001b[1m \u001b[0m\u001b[1mOutput Shape          \u001b[0m\u001b[1m \u001b[0m┃\u001b[1m \u001b[0m\u001b[1m      Param #\u001b[0m\u001b[1m \u001b[0m┃\n",
              "┡━━━━━━━━━━━━━━━━━━━━━━━━━━━━━━━━━╇━━━━━━━━━━━━━━━━━━━━━━━━╇━━━━━━━━━━━━━━━┩\n",
              "│ dense_4 (\u001b[38;5;33mDense\u001b[0m)                 │ (\u001b[38;5;45mNone\u001b[0m, \u001b[38;5;34m100\u001b[0m)            │        \u001b[38;5;34m10,100\u001b[0m │\n",
              "├─────────────────────────────────┼────────────────────────┼───────────────┤\n",
              "│ batch_normalization_3           │ (\u001b[38;5;45mNone\u001b[0m, \u001b[38;5;34m100\u001b[0m)            │           \u001b[38;5;34m400\u001b[0m │\n",
              "│ (\u001b[38;5;33mBatchNormalization\u001b[0m)            │                        │               │\n",
              "├─────────────────────────────────┼────────────────────────┼───────────────┤\n",
              "│ activation_3 (\u001b[38;5;33mActivation\u001b[0m)       │ (\u001b[38;5;45mNone\u001b[0m, \u001b[38;5;34m100\u001b[0m)            │             \u001b[38;5;34m0\u001b[0m │\n",
              "├─────────────────────────────────┼────────────────────────┼───────────────┤\n",
              "│ dropout_3 (\u001b[38;5;33mDropout\u001b[0m)             │ (\u001b[38;5;45mNone\u001b[0m, \u001b[38;5;34m100\u001b[0m)            │             \u001b[38;5;34m0\u001b[0m │\n",
              "├─────────────────────────────────┼────────────────────────┼───────────────┤\n",
              "│ dense_5 (\u001b[38;5;33mDense\u001b[0m)                 │ (\u001b[38;5;45mNone\u001b[0m, \u001b[38;5;34m100\u001b[0m)            │        \u001b[38;5;34m10,100\u001b[0m │\n",
              "├─────────────────────────────────┼────────────────────────┼───────────────┤\n",
              "│ batch_normalization_4           │ (\u001b[38;5;45mNone\u001b[0m, \u001b[38;5;34m100\u001b[0m)            │           \u001b[38;5;34m400\u001b[0m │\n",
              "│ (\u001b[38;5;33mBatchNormalization\u001b[0m)            │                        │               │\n",
              "├─────────────────────────────────┼────────────────────────┼───────────────┤\n",
              "│ activation_4 (\u001b[38;5;33mActivation\u001b[0m)       │ (\u001b[38;5;45mNone\u001b[0m, \u001b[38;5;34m100\u001b[0m)            │             \u001b[38;5;34m0\u001b[0m │\n",
              "├─────────────────────────────────┼────────────────────────┼───────────────┤\n",
              "│ dropout_4 (\u001b[38;5;33mDropout\u001b[0m)             │ (\u001b[38;5;45mNone\u001b[0m, \u001b[38;5;34m100\u001b[0m)            │             \u001b[38;5;34m0\u001b[0m │\n",
              "├─────────────────────────────────┼────────────────────────┼───────────────┤\n",
              "│ dense_6 (\u001b[38;5;33mDense\u001b[0m)                 │ (\u001b[38;5;45mNone\u001b[0m, \u001b[38;5;34m100\u001b[0m)            │        \u001b[38;5;34m10,100\u001b[0m │\n",
              "├─────────────────────────────────┼────────────────────────┼───────────────┤\n",
              "│ batch_normalization_5           │ (\u001b[38;5;45mNone\u001b[0m, \u001b[38;5;34m100\u001b[0m)            │           \u001b[38;5;34m400\u001b[0m │\n",
              "│ (\u001b[38;5;33mBatchNormalization\u001b[0m)            │                        │               │\n",
              "├─────────────────────────────────┼────────────────────────┼───────────────┤\n",
              "│ activation_5 (\u001b[38;5;33mActivation\u001b[0m)       │ (\u001b[38;5;45mNone\u001b[0m, \u001b[38;5;34m100\u001b[0m)            │             \u001b[38;5;34m0\u001b[0m │\n",
              "├─────────────────────────────────┼────────────────────────┼───────────────┤\n",
              "│ dropout_5 (\u001b[38;5;33mDropout\u001b[0m)             │ (\u001b[38;5;45mNone\u001b[0m, \u001b[38;5;34m100\u001b[0m)            │             \u001b[38;5;34m0\u001b[0m │\n",
              "├─────────────────────────────────┼────────────────────────┼───────────────┤\n",
              "│ dense_7 (\u001b[38;5;33mDense\u001b[0m)                 │ (\u001b[38;5;45mNone\u001b[0m, \u001b[38;5;34m2\u001b[0m)              │           \u001b[38;5;34m202\u001b[0m │\n",
              "└─────────────────────────────────┴────────────────────────┴───────────────┘\n"
            ],
            "text/html": [
              "<pre style=\"white-space:pre;overflow-x:auto;line-height:normal;font-family:Menlo,'DejaVu Sans Mono',consolas,'Courier New',monospace\">┏━━━━━━━━━━━━━━━━━━━━━━━━━━━━━━━━━┳━━━━━━━━━━━━━━━━━━━━━━━━┳━━━━━━━━━━━━━━━┓\n",
              "┃<span style=\"font-weight: bold\"> Layer (type)                    </span>┃<span style=\"font-weight: bold\"> Output Shape           </span>┃<span style=\"font-weight: bold\">       Param # </span>┃\n",
              "┡━━━━━━━━━━━━━━━━━━━━━━━━━━━━━━━━━╇━━━━━━━━━━━━━━━━━━━━━━━━╇━━━━━━━━━━━━━━━┩\n",
              "│ dense_4 (<span style=\"color: #0087ff; text-decoration-color: #0087ff\">Dense</span>)                 │ (<span style=\"color: #00d7ff; text-decoration-color: #00d7ff\">None</span>, <span style=\"color: #00af00; text-decoration-color: #00af00\">100</span>)            │        <span style=\"color: #00af00; text-decoration-color: #00af00\">10,100</span> │\n",
              "├─────────────────────────────────┼────────────────────────┼───────────────┤\n",
              "│ batch_normalization_3           │ (<span style=\"color: #00d7ff; text-decoration-color: #00d7ff\">None</span>, <span style=\"color: #00af00; text-decoration-color: #00af00\">100</span>)            │           <span style=\"color: #00af00; text-decoration-color: #00af00\">400</span> │\n",
              "│ (<span style=\"color: #0087ff; text-decoration-color: #0087ff\">BatchNormalization</span>)            │                        │               │\n",
              "├─────────────────────────────────┼────────────────────────┼───────────────┤\n",
              "│ activation_3 (<span style=\"color: #0087ff; text-decoration-color: #0087ff\">Activation</span>)       │ (<span style=\"color: #00d7ff; text-decoration-color: #00d7ff\">None</span>, <span style=\"color: #00af00; text-decoration-color: #00af00\">100</span>)            │             <span style=\"color: #00af00; text-decoration-color: #00af00\">0</span> │\n",
              "├─────────────────────────────────┼────────────────────────┼───────────────┤\n",
              "│ dropout_3 (<span style=\"color: #0087ff; text-decoration-color: #0087ff\">Dropout</span>)             │ (<span style=\"color: #00d7ff; text-decoration-color: #00d7ff\">None</span>, <span style=\"color: #00af00; text-decoration-color: #00af00\">100</span>)            │             <span style=\"color: #00af00; text-decoration-color: #00af00\">0</span> │\n",
              "├─────────────────────────────────┼────────────────────────┼───────────────┤\n",
              "│ dense_5 (<span style=\"color: #0087ff; text-decoration-color: #0087ff\">Dense</span>)                 │ (<span style=\"color: #00d7ff; text-decoration-color: #00d7ff\">None</span>, <span style=\"color: #00af00; text-decoration-color: #00af00\">100</span>)            │        <span style=\"color: #00af00; text-decoration-color: #00af00\">10,100</span> │\n",
              "├─────────────────────────────────┼────────────────────────┼───────────────┤\n",
              "│ batch_normalization_4           │ (<span style=\"color: #00d7ff; text-decoration-color: #00d7ff\">None</span>, <span style=\"color: #00af00; text-decoration-color: #00af00\">100</span>)            │           <span style=\"color: #00af00; text-decoration-color: #00af00\">400</span> │\n",
              "│ (<span style=\"color: #0087ff; text-decoration-color: #0087ff\">BatchNormalization</span>)            │                        │               │\n",
              "├─────────────────────────────────┼────────────────────────┼───────────────┤\n",
              "│ activation_4 (<span style=\"color: #0087ff; text-decoration-color: #0087ff\">Activation</span>)       │ (<span style=\"color: #00d7ff; text-decoration-color: #00d7ff\">None</span>, <span style=\"color: #00af00; text-decoration-color: #00af00\">100</span>)            │             <span style=\"color: #00af00; text-decoration-color: #00af00\">0</span> │\n",
              "├─────────────────────────────────┼────────────────────────┼───────────────┤\n",
              "│ dropout_4 (<span style=\"color: #0087ff; text-decoration-color: #0087ff\">Dropout</span>)             │ (<span style=\"color: #00d7ff; text-decoration-color: #00d7ff\">None</span>, <span style=\"color: #00af00; text-decoration-color: #00af00\">100</span>)            │             <span style=\"color: #00af00; text-decoration-color: #00af00\">0</span> │\n",
              "├─────────────────────────────────┼────────────────────────┼───────────────┤\n",
              "│ dense_6 (<span style=\"color: #0087ff; text-decoration-color: #0087ff\">Dense</span>)                 │ (<span style=\"color: #00d7ff; text-decoration-color: #00d7ff\">None</span>, <span style=\"color: #00af00; text-decoration-color: #00af00\">100</span>)            │        <span style=\"color: #00af00; text-decoration-color: #00af00\">10,100</span> │\n",
              "├─────────────────────────────────┼────────────────────────┼───────────────┤\n",
              "│ batch_normalization_5           │ (<span style=\"color: #00d7ff; text-decoration-color: #00d7ff\">None</span>, <span style=\"color: #00af00; text-decoration-color: #00af00\">100</span>)            │           <span style=\"color: #00af00; text-decoration-color: #00af00\">400</span> │\n",
              "│ (<span style=\"color: #0087ff; text-decoration-color: #0087ff\">BatchNormalization</span>)            │                        │               │\n",
              "├─────────────────────────────────┼────────────────────────┼───────────────┤\n",
              "│ activation_5 (<span style=\"color: #0087ff; text-decoration-color: #0087ff\">Activation</span>)       │ (<span style=\"color: #00d7ff; text-decoration-color: #00d7ff\">None</span>, <span style=\"color: #00af00; text-decoration-color: #00af00\">100</span>)            │             <span style=\"color: #00af00; text-decoration-color: #00af00\">0</span> │\n",
              "├─────────────────────────────────┼────────────────────────┼───────────────┤\n",
              "│ dropout_5 (<span style=\"color: #0087ff; text-decoration-color: #0087ff\">Dropout</span>)             │ (<span style=\"color: #00d7ff; text-decoration-color: #00d7ff\">None</span>, <span style=\"color: #00af00; text-decoration-color: #00af00\">100</span>)            │             <span style=\"color: #00af00; text-decoration-color: #00af00\">0</span> │\n",
              "├─────────────────────────────────┼────────────────────────┼───────────────┤\n",
              "│ dense_7 (<span style=\"color: #0087ff; text-decoration-color: #0087ff\">Dense</span>)                 │ (<span style=\"color: #00d7ff; text-decoration-color: #00d7ff\">None</span>, <span style=\"color: #00af00; text-decoration-color: #00af00\">2</span>)              │           <span style=\"color: #00af00; text-decoration-color: #00af00\">202</span> │\n",
              "└─────────────────────────────────┴────────────────────────┴───────────────┘\n",
              "</pre>\n"
            ]
          },
          "metadata": {}
        },
        {
          "output_type": "display_data",
          "data": {
            "text/plain": [
              "\u001b[1m Total params: \u001b[0m\u001b[38;5;34m31,702\u001b[0m (123.84 KB)\n"
            ],
            "text/html": [
              "<pre style=\"white-space:pre;overflow-x:auto;line-height:normal;font-family:Menlo,'DejaVu Sans Mono',consolas,'Courier New',monospace\"><span style=\"font-weight: bold\"> Total params: </span><span style=\"color: #00af00; text-decoration-color: #00af00\">31,702</span> (123.84 KB)\n",
              "</pre>\n"
            ]
          },
          "metadata": {}
        },
        {
          "output_type": "display_data",
          "data": {
            "text/plain": [
              "\u001b[1m Trainable params: \u001b[0m\u001b[38;5;34m31,102\u001b[0m (121.49 KB)\n"
            ],
            "text/html": [
              "<pre style=\"white-space:pre;overflow-x:auto;line-height:normal;font-family:Menlo,'DejaVu Sans Mono',consolas,'Courier New',monospace\"><span style=\"font-weight: bold\"> Trainable params: </span><span style=\"color: #00af00; text-decoration-color: #00af00\">31,102</span> (121.49 KB)\n",
              "</pre>\n"
            ]
          },
          "metadata": {}
        },
        {
          "output_type": "display_data",
          "data": {
            "text/plain": [
              "\u001b[1m Non-trainable params: \u001b[0m\u001b[38;5;34m600\u001b[0m (2.34 KB)\n"
            ],
            "text/html": [
              "<pre style=\"white-space:pre;overflow-x:auto;line-height:normal;font-family:Menlo,'DejaVu Sans Mono',consolas,'Courier New',monospace\"><span style=\"font-weight: bold\"> Non-trainable params: </span><span style=\"color: #00af00; text-decoration-color: #00af00\">600</span> (2.34 KB)\n",
              "</pre>\n"
            ]
          },
          "metadata": {}
        }
      ],
      "source": [
        "#Best NN model\n",
        "\n",
        "tf.random.set_seed(1234)\n",
        "model = Sequential([\n",
        "    tf.keras.Input(shape=(X_train_scaled.shape[1],)),\n",
        "\n",
        "    Dense(100, activation=None, kernel_initializer='he_uniform'),\n",
        "    BatchNormalization(),\n",
        "    tf.keras.layers.Activation('relu'),\n",
        "    Dropout(0.1),\n",
        "\n",
        "    Dense(100, activation=None, kernel_initializer='he_uniform'),\n",
        "    BatchNormalization(),\n",
        "    tf.keras.layers.Activation('relu'),\n",
        "    Dropout(0.1),\n",
        "\n",
        "    Dense(100, activation=None, kernel_initializer='he_uniform'),\n",
        "    BatchNormalization(),\n",
        "    tf.keras.layers.Activation('relu'),\n",
        "    Dropout(0.1),\n",
        "\n",
        "    Dense(2, activation='linear', kernel_initializer='he_uniform')\n",
        "])\n",
        "\n",
        "model.summary()\n",
        "model.compile(\n",
        "    loss = tf.keras.losses.MeanSquaredError(),\n",
        "    optimizer='adam',\n",
        "    metrics=['mse']\n",
        ")"
      ]
    },
    {
      "cell_type": "code",
      "execution_count": 17,
      "metadata": {
        "colab": {
          "base_uri": "https://localhost:8080/"
        },
        "id": "MP_4tJaDVXwO",
        "outputId": "52f07bab-99e0-435e-dcdf-d23424e0a7da"
      },
      "outputs": [
        {
          "output_type": "stream",
          "name": "stdout",
          "text": [
            "Epoch 1/20\n",
            "\u001b[1m3/3\u001b[0m \u001b[32m━━━━━━━━━━━━━━━━━━━━\u001b[0m\u001b[37m\u001b[0m \u001b[1m4s\u001b[0m 193ms/step - loss: 2.8168 - mse: 2.8168 - val_loss: 1.8416 - val_mse: 1.8416 - learning_rate: 0.0010\n",
            "Epoch 2/20\n",
            "\u001b[1m3/3\u001b[0m \u001b[32m━━━━━━━━━━━━━━━━━━━━\u001b[0m\u001b[37m\u001b[0m \u001b[1m0s\u001b[0m 43ms/step - loss: 1.6259 - mse: 1.6259 - val_loss: 0.9194 - val_mse: 0.9194 - learning_rate: 0.0010\n",
            "Epoch 3/20\n",
            "\u001b[1m3/3\u001b[0m \u001b[32m━━━━━━━━━━━━━━━━━━━━\u001b[0m\u001b[37m\u001b[0m \u001b[1m0s\u001b[0m 44ms/step - loss: 1.3204 - mse: 1.3204 - val_loss: 0.5481 - val_mse: 0.5481 - learning_rate: 0.0010\n",
            "Epoch 4/20\n",
            "\u001b[1m3/3\u001b[0m \u001b[32m━━━━━━━━━━━━━━━━━━━━\u001b[0m\u001b[37m\u001b[0m \u001b[1m0s\u001b[0m 51ms/step - loss: 1.0708 - mse: 1.0708 - val_loss: 0.4684 - val_mse: 0.4684 - learning_rate: 0.0010\n",
            "Epoch 5/20\n",
            "\u001b[1m3/3\u001b[0m \u001b[32m━━━━━━━━━━━━━━━━━━━━\u001b[0m\u001b[37m\u001b[0m \u001b[1m0s\u001b[0m 45ms/step - loss: 1.1302 - mse: 1.1302 - val_loss: 0.3276 - val_mse: 0.3276 - learning_rate: 0.0010\n",
            "Epoch 6/20\n",
            "\u001b[1m3/3\u001b[0m \u001b[32m━━━━━━━━━━━━━━━━━━━━\u001b[0m\u001b[37m\u001b[0m \u001b[1m0s\u001b[0m 49ms/step - loss: 0.8507 - mse: 0.8507 - val_loss: 0.1791 - val_mse: 0.1791 - learning_rate: 0.0010\n",
            "Epoch 7/20\n",
            "\u001b[1m3/3\u001b[0m \u001b[32m━━━━━━━━━━━━━━━━━━━━\u001b[0m\u001b[37m\u001b[0m \u001b[1m0s\u001b[0m 50ms/step - loss: 0.6336 - mse: 0.6336 - val_loss: 0.1107 - val_mse: 0.1107 - learning_rate: 0.0010\n",
            "Epoch 8/20\n",
            "\u001b[1m3/3\u001b[0m \u001b[32m━━━━━━━━━━━━━━━━━━━━\u001b[0m\u001b[37m\u001b[0m \u001b[1m0s\u001b[0m 44ms/step - loss: 0.6697 - mse: 0.6697 - val_loss: 0.0911 - val_mse: 0.0911 - learning_rate: 0.0010\n",
            "Epoch 9/20\n",
            "\u001b[1m3/3\u001b[0m \u001b[32m━━━━━━━━━━━━━━━━━━━━\u001b[0m\u001b[37m\u001b[0m \u001b[1m0s\u001b[0m 44ms/step - loss: 0.6537 - mse: 0.6537 - val_loss: 0.1025 - val_mse: 0.1025 - learning_rate: 0.0010\n",
            "Epoch 10/20\n",
            "\u001b[1m3/3\u001b[0m \u001b[32m━━━━━━━━━━━━━━━━━━━━\u001b[0m\u001b[37m\u001b[0m \u001b[1m0s\u001b[0m 45ms/step - loss: 0.4979 - mse: 0.4979 - val_loss: 0.1448 - val_mse: 0.1448 - learning_rate: 0.0010\n",
            "Epoch 11/20\n",
            "\u001b[1m3/3\u001b[0m \u001b[32m━━━━━━━━━━━━━━━━━━━━\u001b[0m\u001b[37m\u001b[0m \u001b[1m0s\u001b[0m 61ms/step - loss: 0.5385 - mse: 0.5385 - val_loss: 0.2299 - val_mse: 0.2299 - learning_rate: 0.0010\n",
            "Epoch 12/20\n",
            "\u001b[1m3/3\u001b[0m \u001b[32m━━━━━━━━━━━━━━━━━━━━\u001b[0m\u001b[37m\u001b[0m \u001b[1m0s\u001b[0m 53ms/step - loss: 0.5049 - mse: 0.5049 - val_loss: 0.2913 - val_mse: 0.2913 - learning_rate: 0.0010\n",
            "Epoch 13/20\n",
            "\u001b[1m1/3\u001b[0m \u001b[32m━━━━━━\u001b[0m\u001b[37m━━━━━━━━━━━━━━\u001b[0m \u001b[1m0s\u001b[0m 38ms/step - loss: 0.5046 - mse: 0.5046\n",
            "Epoch 13: ReduceLROnPlateau reducing learning rate to 0.0005000000237487257.\n",
            "\u001b[1m3/3\u001b[0m \u001b[32m━━━━━━━━━━━━━━━━━━━━\u001b[0m\u001b[37m\u001b[0m \u001b[1m0s\u001b[0m 50ms/step - loss: 0.4467 - mse: 0.4467 - val_loss: 0.3271 - val_mse: 0.3271 - learning_rate: 0.0010\n",
            "Epoch 14/20\n",
            "\u001b[1m3/3\u001b[0m \u001b[32m━━━━━━━━━━━━━━━━━━━━\u001b[0m\u001b[37m\u001b[0m \u001b[1m0s\u001b[0m 47ms/step - loss: 0.3605 - mse: 0.3605 - val_loss: 0.3063 - val_mse: 0.3063 - learning_rate: 5.0000e-04\n",
            "Epoch 15/20\n",
            "\u001b[1m3/3\u001b[0m \u001b[32m━━━━━━━━━━━━━━━━━━━━\u001b[0m\u001b[37m\u001b[0m \u001b[1m0s\u001b[0m 41ms/step - loss: 0.3805 - mse: 0.3805 - val_loss: 0.2894 - val_mse: 0.2894 - learning_rate: 5.0000e-04\n",
            "Epoch 16/20\n",
            "\u001b[1m3/3\u001b[0m \u001b[32m━━━━━━━━━━━━━━━━━━━━\u001b[0m\u001b[37m\u001b[0m \u001b[1m0s\u001b[0m 43ms/step - loss: 0.3966 - mse: 0.3966 - val_loss: 0.2769 - val_mse: 0.2769 - learning_rate: 5.0000e-04\n",
            "Epoch 17/20\n",
            "\u001b[1m3/3\u001b[0m \u001b[32m━━━━━━━━━━━━━━━━━━━━\u001b[0m\u001b[37m\u001b[0m \u001b[1m0s\u001b[0m 60ms/step - loss: 0.3111 - mse: 0.3111 - val_loss: 0.2499 - val_mse: 0.2499 - learning_rate: 5.0000e-04\n",
            "Epoch 18/20\n",
            "\u001b[1m1/3\u001b[0m \u001b[32m━━━━━━\u001b[0m\u001b[37m━━━━━━━━━━━━━━\u001b[0m \u001b[1m0s\u001b[0m 30ms/step - loss: 0.4147 - mse: 0.4147\n",
            "Epoch 18: ReduceLROnPlateau reducing learning rate to 0.0002500000118743628.\n",
            "\u001b[1m3/3\u001b[0m \u001b[32m━━━━━━━━━━━━━━━━━━━━\u001b[0m\u001b[37m\u001b[0m \u001b[1m0s\u001b[0m 41ms/step - loss: 0.3656 - mse: 0.3656 - val_loss: 0.2234 - val_mse: 0.2234 - learning_rate: 5.0000e-04\n",
            "Epoch 18: early stopping\n",
            "Restoring model weights from the end of the best epoch: 8.\n",
            "Test MSE: 7.40516e-02\n",
            "\u001b[1m1/1\u001b[0m \u001b[32m━━━━━━━━━━━━━━━━━━━━\u001b[0m\u001b[37m\u001b[0m \u001b[1m0s\u001b[0m 150ms/step\n",
            "Real: [1.08902178 1.08902178], Pred: [0.6204339 1.4107672]\n",
            "Real: [1.22435652 1.22435652], Pred: [0.7719641 1.5510497]\n",
            "Real: [-0.50116148 -0.50116148], Pred: [-0.5391304  -0.48044288]\n",
            "Real: [1.12285547 1.12285547], Pred: [0.65581304 1.4462667 ]\n",
            "Real: [1.5288597 1.5288597], Pred: [1.0594512 1.8106158]\n"
          ]
        }
      ],
      "source": [
        "#Run fits & prediction test\n",
        "\n",
        "reduce_lr = ReduceLROnPlateau(\n",
        "    monitor='val_loss',\n",
        "    factor=0.5,\n",
        "    patience=5,\n",
        "    verbose=1,\n",
        "    min_lr=1e-6\n",
        ")\n",
        "\n",
        "early_stop = EarlyStopping(\n",
        "    monitor='val_loss',\n",
        "    patience=10,\n",
        "    restore_best_weights=True,\n",
        "    verbose=1\n",
        ")\n",
        "\n",
        "history = model.fit(\n",
        "    X_train_scaled,\n",
        "    y_train_scaled,\n",
        "    epochs=20,\n",
        "    batch_size=32,\n",
        "    validation_split=0.1,\n",
        "    shuffle=True,\n",
        "    callbacks=[reduce_lr, early_stop]\n",
        ")\n",
        "\n",
        "eval_metrics = model.evaluate(X_test_scaled, y_test_scaled, verbose=0)\n",
        "print(f\"Test MSE: {eval_metrics[0]:.5e}\")\n",
        "\n",
        "y_hat_cont = model.predict(X_test_scaled)\n",
        "for i in range(5):\n",
        "    print(f\"Real: {y_test_scaled[i]}, Pred: {y_hat_cont[i]}\")"
      ]
    },
    {
      "cell_type": "code",
      "execution_count": 18,
      "metadata": {
        "colab": {
          "base_uri": "https://localhost:8080/",
          "height": 454
        },
        "id": "QwE4-YySVjRr",
        "outputId": "385347c7-c43a-467c-d208-79ba5e1086f1"
      },
      "outputs": [
        {
          "output_type": "display_data",
          "data": {
            "text/plain": [
              "<Figure size 640x480 with 1 Axes>"
            ],
            "image/png": "[encoded data removed]"
          },
          "metadata": {}
        }
      ],
      "source": [
        "#Loss func. plot\n",
        "\n",
        "plt.plot(history.history['loss'], label='Train loss', color ='cadetblue')\n",
        "plt.plot(history.history['val_mse'], label='Validation loss', color = 'black')\n",
        "plt.legend()\n",
        "plt.title('Loss over epochs ($\\Omega_n$, $n_s$ free)')\n",
        "plt.show()"
      ]
    },
    {
      "cell_type": "code",
      "execution_count": 19,
      "metadata": {
        "colab": {
          "base_uri": "https://localhost:8080/"
        },
        "id": "irEHu8_mVtnZ",
        "outputId": "45f770c2-313d-48a7-f7b4-acc17518e6d5"
      },
      "outputs": [
        {
          "output_type": "stream",
          "name": "stdout",
          "text": [
            "Descaled MSE: 0.00017393881010548554\n",
            "Error: 0.013188586357357849\n"
          ]
        }
      ],
      "source": [
        "#Re-Re Normalizarion (i.e. non-normalized data for the MSE calculation)\n",
        "\n",
        "y_test_real = scaler_y.inverse_transform(y_test_scaled)\n",
        "y_pred_real = scaler_y.inverse_transform(y_hat_cont)\n",
        "from sklearn.metrics import mean_squared_error\n",
        "\n",
        "mse_real = mean_squared_error(y_test_real, y_pred_real)\n",
        "print(f\"Descaled MSE: {mse_real}\")\n",
        "error = np.sqrt(mse_real)\n",
        "print(f'Error: {error}')"
      ]
    },
    {
      "cell_type": "markdown",
      "source": [
        "#*As we can see the generalization (i.e. varying more parameters), doesn't affect the network performance, from here I'm going to vary all 6 parameters listed below:*"
      ],
      "metadata": {
        "id": "mfwrHinWQHCG"
      }
    },
    {
      "cell_type": "markdown",
      "source": [
        "**$\\omega_b+\\omega_c+A_s+\\tau+n_s+h$ free**"
      ],
      "metadata": {
        "id": "ohqWZDt_PvM2"
      }
    },
    {
      "cell_type": "code",
      "source": [
        "#%%time\n",
        "#import numpy as np\n",
        "#from classy import Class\n",
        "\n",
        "#Parameter ranges\n",
        "#h_vals = np.linspace(0.65, 0.7, 5)\n",
        "#omega_b_vals = np.linspace(0.021, 0.023, 5)\n",
        "#A_s_vals = np.linspace(2.0e-9, 2.2e-9, 5)\n",
        "#n_s_vals = np.linspace(0.95, 0.97, 5)\n",
        "#tau_vals = np.linspace(0.05, 0.07, 5)\n",
        "#Omega_m_vals = np.linspace(0.2, 0.4, 5)\n",
        "\n",
        "#z = 0.0\n",
        "#ks = np.logspace(-3, 1, 100)\n",
        "\n",
        "#spectra = []\n",
        "\n",
        "#for h in h_vals:\n",
        "#    for omega_b in omega_b_vals:\n",
        "#        for A_s in A_s_vals:\n",
        "#            for tau in tau_vals:\n",
        "#                for Omega_m in Omega_m_vals:\n",
        "\n",
        " #                   omega_cdm = Omega_m * h**2 - omega_b\n",
        "\n",
        "#                    for n_s in n_s_vals:\n",
        "\n",
        " #                       cosmo = Class()\n",
        "  #                      cosmo.set({\n",
        "   #                         'h': h,\n",
        "    #                        'omega_b': omega_b,\n",
        "     #                       'omega_cdm': omega_cdm,\n",
        "      #                      'A_s': A_s,\n",
        "       #                     'n_s': n_s,\n",
        "        #                    'tau_reio': tau,\n",
        "         #                   'output': 'mPk',\n",
        "          #                  'P_k_max_1/Mpc': 10.0\n",
        "           #             })\n",
        "#\n",
        " #                       cosmo.compute()\n",
        "  #                      Pk = [cosmo.pk(k, z) for k in ks]\n",
        "   #                     spectra.append(Pk)\n",
        "#\n",
        " #                       cosmo.struct_cleanup()\n",
        "  #                      cosmo.empty()\n"
      ],
      "metadata": {
        "id": "jvP4B87nP-AF"
      },
      "execution_count": 23,
      "outputs": []
    },
    {
      "cell_type": "code",
      "source": [
        "%%time\n",
        "\n",
        "#Ranges for the parameters\n",
        "h_range = (0.65, 0.7)\n",
        "omega_b_range = (0.021, 0.023)\n",
        "A_s_range = (2.0e-9, 2.2e-9)\n",
        "n_s_range = (0.95, 0.97)\n",
        "tau_range = (0.05, 0.07)\n",
        "Omega_m_range = (0.2, 0.4)\n",
        "\n",
        "z = 0.0\n",
        "ks = np.logspace(-3, 1, 100)\n",
        "spectra = []\n",
        "\n",
        "N = 100\n",
        "\n",
        "#Generate N random combinations uniformly sampled in their ranges\n",
        "rng = np.random.default_rng(seed=42)\n",
        "h_vals = rng.uniform(*h_range, N)\n",
        "omega_b_vals = rng.uniform(*omega_b_range, N)\n",
        "A_s_vals = rng.uniform(*A_s_range, N)\n",
        "n_s_vals = rng.uniform(*n_s_range, N)\n",
        "tau_vals = rng.uniform(*tau_range, N)\n",
        "Omega_m_vals = rng.uniform(*Omega_m_range, N)\n",
        "\n",
        "for i in range(N):\n",
        "    h = h_vals[i]\n",
        "    omega_b = omega_b_vals[i]\n",
        "    A_s = A_s_vals[i]\n",
        "    n_s = n_s_vals[i]\n",
        "    tau = tau_vals[i]\n",
        "    Omega_m = Omega_m_vals[i]\n",
        "\n",
        "    omega_cdm = Omega_m * h**2 - omega_b\n",
        "\n",
        "    cosmo = Class()\n",
        "    cosmo.set({\n",
        "        'h': h,\n",
        "        'omega_b': omega_b,\n",
        "        'omega_cdm': omega_cdm,\n",
        "        'A_s': A_s,\n",
        "        'n_s': n_s,\n",
        "        'tau_reio': tau,\n",
        "        'output': 'mPk',\n",
        "        'P_k_max_1/Mpc': 10.0\n",
        "    })\n",
        "\n",
        "    cosmo.compute()\n",
        "    Pk = [cosmo.pk(k, z) for k in ks]\n",
        "    spectra.append(Pk)\n",
        "\n",
        "    cosmo.struct_cleanup()\n",
        "    cosmo.empty()\n"
      ],
      "metadata": {
        "colab": {
          "base_uri": "https://localhost:8080/"
        },
        "id": "IkjYu2OhUXYN",
        "outputId": "6b6f609f-67e3-4a16-910d-6b638081b975"
      },
      "execution_count": 24,
      "outputs": [
        {
          "output_type": "stream",
          "name": "stdout",
          "text": [
            "CPU times: user 2min 46s, sys: 1.07 s, total: 2min 47s\n",
            "Wall time: 1min 42s\n"
          ]
        }
      ]
    },
    {
      "cell_type": "code",
      "source": [
        "#Data preprocessing\n",
        "\n",
        "Pks = np.array(spectra) #NN inputs\n",
        "Labels = np.array([h_vals, omega_b_vals, A_s_vals, n_s_vals, tau_vals, Omega_m_vals]).T #NN targets\n",
        "\n",
        "from sklearn.model_selection import train_test_split\n",
        "X_train, X_test, y_train, y_test = train_test_split(Pks, Labels, test_size=0.2, shuffle=True, random_state=1) #Random state to get the same shuffle every time\n",
        "\n",
        "X_train.shape, X_test.shape, y_train.shape, y_test.shape #Data shapes are already (nfeatures, nsamples)"
      ],
      "metadata": {
        "colab": {
          "base_uri": "https://localhost:8080/"
        },
        "id": "m0vWuY_zQDTC",
        "outputId": "d79cd3bf-249d-4169-e836-e5a7992ecfb1"
      },
      "execution_count": 29,
      "outputs": [
        {
          "output_type": "execute_result",
          "data": {
            "text/plain": [
              "((80, 100), (20, 100), (80, 6), (20, 6))"
            ]
          },
          "metadata": {},
          "execution_count": 29
        }
      ]
    },
    {
      "cell_type": "code",
      "source": [
        "#Normalization\n",
        "\n",
        "scaler_X = StandardScaler().fit(X_train)\n",
        "X_train_scaled = scaler_X.transform(X_train)\n",
        "X_test_scaled   = scaler_X.transform(X_test)\n",
        "\n",
        "scaler_y = StandardScaler().fit(y_train)\n",
        "y_train_scaled = scaler_y.transform(y_train)\n",
        "y_test_scaled   = scaler_y.transform(y_test)"
      ],
      "metadata": {
        "id": "Z2ZymyyVQGMB"
      },
      "execution_count": 30,
      "outputs": []
    },
    {
      "cell_type": "code",
      "source": [
        "#Best NN model\n",
        "\n",
        "tf.random.set_seed(1234)\n",
        "model = Sequential([\n",
        "    tf.keras.Input(shape=(X_train_scaled.shape[1],)),\n",
        "\n",
        "    Dense(100, activation=None, kernel_initializer='he_uniform'),\n",
        "    BatchNormalization(),\n",
        "    tf.keras.layers.Activation('relu'),\n",
        "    Dropout(0.1),\n",
        "\n",
        "    Dense(100, activation=None, kernel_initializer='he_uniform'),\n",
        "    BatchNormalization(),\n",
        "    tf.keras.layers.Activation('relu'),\n",
        "    Dropout(0.1),\n",
        "\n",
        "    Dense(100, activation=None, kernel_initializer='he_uniform'),\n",
        "    BatchNormalization(),\n",
        "    tf.keras.layers.Activation('relu'),\n",
        "    Dropout(0.1),\n",
        "\n",
        "    Dense(6, activation='linear', kernel_initializer='he_uniform')\n",
        "])\n",
        "\n",
        "model.summary()\n",
        "model.compile(\n",
        "    loss = tf.keras.losses.MeanSquaredError(),\n",
        "    optimizer='adam',\n",
        "    metrics=['mse']\n",
        ")"
      ],
      "metadata": {
        "colab": {
          "base_uri": "https://localhost:8080/",
          "height": 619
        },
        "id": "1AZrlYtkQaZh",
        "outputId": "65c9879b-906c-449d-8175-81bb8d755187"
      },
      "execution_count": 31,
      "outputs": [
        {
          "output_type": "display_data",
          "data": {
            "text/plain": [
              "\u001b[1mModel: \"sequential_4\"\u001b[0m\n"
            ],
            "text/html": [
              "<pre style=\"white-space:pre;overflow-x:auto;line-height:normal;font-family:Menlo,'DejaVu Sans Mono',consolas,'Courier New',monospace\"><span style=\"font-weight: bold\">Model: \"sequential_4\"</span>\n",
              "</pre>\n"
            ]
          },
          "metadata": {}
        },
        {
          "output_type": "display_data",
          "data": {
            "text/plain": [
              "┏━━━━━━━━━━━━━━━━━━━━━━━━━━━━━━━━━┳━━━━━━━━━━━━━━━━━━━━━━━━┳━━━━━━━━━━━━━━━┓\n",
              "┃\u001b[1m \u001b[0m\u001b[1mLayer (type)                   \u001b[0m\u001b[1m \u001b[0m┃\u001b[1m \u001b[0m\u001b[1mOutput Shape          \u001b[0m\u001b[1m \u001b[0m┃\u001b[1m \u001b[0m\u001b[1m      Param #\u001b[0m\u001b[1m \u001b[0m┃\n",
              "┡━━━━━━━━━━━━━━━━━━━━━━━━━━━━━━━━━╇━━━━━━━━━━━━━━━━━━━━━━━━╇━━━━━━━━━━━━━━━┩\n",
              "│ dense_16 (\u001b[38;5;33mDense\u001b[0m)                │ (\u001b[38;5;45mNone\u001b[0m, \u001b[38;5;34m100\u001b[0m)            │        \u001b[38;5;34m10,100\u001b[0m │\n",
              "├─────────────────────────────────┼────────────────────────┼───────────────┤\n",
              "│ batch_normalization_12          │ (\u001b[38;5;45mNone\u001b[0m, \u001b[38;5;34m100\u001b[0m)            │           \u001b[38;5;34m400\u001b[0m │\n",
              "│ (\u001b[38;5;33mBatchNormalization\u001b[0m)            │                        │               │\n",
              "├─────────────────────────────────┼────────────────────────┼───────────────┤\n",
              "│ activation_12 (\u001b[38;5;33mActivation\u001b[0m)      │ (\u001b[38;5;45mNone\u001b[0m, \u001b[38;5;34m100\u001b[0m)            │             \u001b[38;5;34m0\u001b[0m │\n",
              "├─────────────────────────────────┼────────────────────────┼───────────────┤\n",
              "│ dropout_12 (\u001b[38;5;33mDropout\u001b[0m)            │ (\u001b[38;5;45mNone\u001b[0m, \u001b[38;5;34m100\u001b[0m)            │             \u001b[38;5;34m0\u001b[0m │\n",
              "├─────────────────────────────────┼────────────────────────┼───────────────┤\n",
              "│ dense_17 (\u001b[38;5;33mDense\u001b[0m)                │ (\u001b[38;5;45mNone\u001b[0m, \u001b[38;5;34m100\u001b[0m)            │        \u001b[38;5;34m10,100\u001b[0m │\n",
              "├─────────────────────────────────┼────────────────────────┼───────────────┤\n",
              "│ batch_normalization_13          │ (\u001b[38;5;45mNone\u001b[0m, \u001b[38;5;34m100\u001b[0m)            │           \u001b[38;5;34m400\u001b[0m │\n",
              "│ (\u001b[38;5;33mBatchNormalization\u001b[0m)            │                        │               │\n",
              "├─────────────────────────────────┼────────────────────────┼───────────────┤\n",
              "│ activation_13 (\u001b[38;5;33mActivation\u001b[0m)      │ (\u001b[38;5;45mNone\u001b[0m, \u001b[38;5;34m100\u001b[0m)            │             \u001b[38;5;34m0\u001b[0m │\n",
              "├─────────────────────────────────┼────────────────────────┼───────────────┤\n",
              "│ dropout_13 (\u001b[38;5;33mDropout\u001b[0m)            │ (\u001b[38;5;45mNone\u001b[0m, \u001b[38;5;34m100\u001b[0m)            │             \u001b[38;5;34m0\u001b[0m │\n",
              "├─────────────────────────────────┼────────────────────────┼───────────────┤\n",
              "│ dense_18 (\u001b[38;5;33mDense\u001b[0m)                │ (\u001b[38;5;45mNone\u001b[0m, \u001b[38;5;34m100\u001b[0m)            │        \u001b[38;5;34m10,100\u001b[0m │\n",
              "├─────────────────────────────────┼────────────────────────┼───────────────┤\n",
              "│ batch_normalization_14          │ (\u001b[38;5;45mNone\u001b[0m, \u001b[38;5;34m100\u001b[0m)            │           \u001b[38;5;34m400\u001b[0m │\n",
              "│ (\u001b[38;5;33mBatchNormalization\u001b[0m)            │                        │               │\n",
              "├─────────────────────────────────┼────────────────────────┼───────────────┤\n",
              "│ activation_14 (\u001b[38;5;33mActivation\u001b[0m)      │ (\u001b[38;5;45mNone\u001b[0m, \u001b[38;5;34m100\u001b[0m)            │             \u001b[38;5;34m0\u001b[0m │\n",
              "├─────────────────────────────────┼────────────────────────┼───────────────┤\n",
              "│ dropout_14 (\u001b[38;5;33mDropout\u001b[0m)            │ (\u001b[38;5;45mNone\u001b[0m, \u001b[38;5;34m100\u001b[0m)            │             \u001b[38;5;34m0\u001b[0m │\n",
              "├─────────────────────────────────┼────────────────────────┼───────────────┤\n",
              "│ dense_19 (\u001b[38;5;33mDense\u001b[0m)                │ (\u001b[38;5;45mNone\u001b[0m, \u001b[38;5;34m6\u001b[0m)              │           \u001b[38;5;34m606\u001b[0m │\n",
              "└─────────────────────────────────┴────────────────────────┴───────────────┘\n"
            ],
            "text/html": [
              "<pre style=\"white-space:pre;overflow-x:auto;line-height:normal;font-family:Menlo,'DejaVu Sans Mono',consolas,'Courier New',monospace\">┏━━━━━━━━━━━━━━━━━━━━━━━━━━━━━━━━━┳━━━━━━━━━━━━━━━━━━━━━━━━┳━━━━━━━━━━━━━━━┓\n",
              "┃<span style=\"font-weight: bold\"> Layer (type)                    </span>┃<span style=\"font-weight: bold\"> Output Shape           </span>┃<span style=\"font-weight: bold\">       Param # </span>┃\n",
              "┡━━━━━━━━━━━━━━━━━━━━━━━━━━━━━━━━━╇━━━━━━━━━━━━━━━━━━━━━━━━╇━━━━━━━━━━━━━━━┩\n",
              "│ dense_16 (<span style=\"color: #0087ff; text-decoration-color: #0087ff\">Dense</span>)                │ (<span style=\"color: #00d7ff; text-decoration-color: #00d7ff\">None</span>, <span style=\"color: #00af00; text-decoration-color: #00af00\">100</span>)            │        <span style=\"color: #00af00; text-decoration-color: #00af00\">10,100</span> │\n",
              "├─────────────────────────────────┼────────────────────────┼───────────────┤\n",
              "│ batch_normalization_12          │ (<span style=\"color: #00d7ff; text-decoration-color: #00d7ff\">None</span>, <span style=\"color: #00af00; text-decoration-color: #00af00\">100</span>)            │           <span style=\"color: #00af00; text-decoration-color: #00af00\">400</span> │\n",
              "│ (<span style=\"color: #0087ff; text-decoration-color: #0087ff\">BatchNormalization</span>)            │                        │               │\n",
              "├─────────────────────────────────┼────────────────────────┼───────────────┤\n",
              "│ activation_12 (<span style=\"color: #0087ff; text-decoration-color: #0087ff\">Activation</span>)      │ (<span style=\"color: #00d7ff; text-decoration-color: #00d7ff\">None</span>, <span style=\"color: #00af00; text-decoration-color: #00af00\">100</span>)            │             <span style=\"color: #00af00; text-decoration-color: #00af00\">0</span> │\n",
              "├─────────────────────────────────┼────────────────────────┼───────────────┤\n",
              "│ dropout_12 (<span style=\"color: #0087ff; text-decoration-color: #0087ff\">Dropout</span>)            │ (<span style=\"color: #00d7ff; text-decoration-color: #00d7ff\">None</span>, <span style=\"color: #00af00; text-decoration-color: #00af00\">100</span>)            │             <span style=\"color: #00af00; text-decoration-color: #00af00\">0</span> │\n",
              "├─────────────────────────────────┼────────────────────────┼───────────────┤\n",
              "│ dense_17 (<span style=\"color: #0087ff; text-decoration-color: #0087ff\">Dense</span>)                │ (<span style=\"color: #00d7ff; text-decoration-color: #00d7ff\">None</span>, <span style=\"color: #00af00; text-decoration-color: #00af00\">100</span>)            │        <span style=\"color: #00af00; text-decoration-color: #00af00\">10,100</span> │\n",
              "├─────────────────────────────────┼────────────────────────┼───────────────┤\n",
              "│ batch_normalization_13          │ (<span style=\"color: #00d7ff; text-decoration-color: #00d7ff\">None</span>, <span style=\"color: #00af00; text-decoration-color: #00af00\">100</span>)            │           <span style=\"color: #00af00; text-decoration-color: #00af00\">400</span> │\n",
              "│ (<span style=\"color: #0087ff; text-decoration-color: #0087ff\">BatchNormalization</span>)            │                        │               │\n",
              "├─────────────────────────────────┼────────────────────────┼───────────────┤\n",
              "│ activation_13 (<span style=\"color: #0087ff; text-decoration-color: #0087ff\">Activation</span>)      │ (<span style=\"color: #00d7ff; text-decoration-color: #00d7ff\">None</span>, <span style=\"color: #00af00; text-decoration-color: #00af00\">100</span>)            │             <span style=\"color: #00af00; text-decoration-color: #00af00\">0</span> │\n",
              "├─────────────────────────────────┼────────────────────────┼───────────────┤\n",
              "│ dropout_13 (<span style=\"color: #0087ff; text-decoration-color: #0087ff\">Dropout</span>)            │ (<span style=\"color: #00d7ff; text-decoration-color: #00d7ff\">None</span>, <span style=\"color: #00af00; text-decoration-color: #00af00\">100</span>)            │             <span style=\"color: #00af00; text-decoration-color: #00af00\">0</span> │\n",
              "├─────────────────────────────────┼────────────────────────┼───────────────┤\n",
              "│ dense_18 (<span style=\"color: #0087ff; text-decoration-color: #0087ff\">Dense</span>)                │ (<span style=\"color: #00d7ff; text-decoration-color: #00d7ff\">None</span>, <span style=\"color: #00af00; text-decoration-color: #00af00\">100</span>)            │        <span style=\"color: #00af00; text-decoration-color: #00af00\">10,100</span> │\n",
              "├─────────────────────────────────┼────────────────────────┼───────────────┤\n",
              "│ batch_normalization_14          │ (<span style=\"color: #00d7ff; text-decoration-color: #00d7ff\">None</span>, <span style=\"color: #00af00; text-decoration-color: #00af00\">100</span>)            │           <span style=\"color: #00af00; text-decoration-color: #00af00\">400</span> │\n",
              "│ (<span style=\"color: #0087ff; text-decoration-color: #0087ff\">BatchNormalization</span>)            │                        │               │\n",
              "├─────────────────────────────────┼────────────────────────┼───────────────┤\n",
              "│ activation_14 (<span style=\"color: #0087ff; text-decoration-color: #0087ff\">Activation</span>)      │ (<span style=\"color: #00d7ff; text-decoration-color: #00d7ff\">None</span>, <span style=\"color: #00af00; text-decoration-color: #00af00\">100</span>)            │             <span style=\"color: #00af00; text-decoration-color: #00af00\">0</span> │\n",
              "├─────────────────────────────────┼────────────────────────┼───────────────┤\n",
              "│ dropout_14 (<span style=\"color: #0087ff; text-decoration-color: #0087ff\">Dropout</span>)            │ (<span style=\"color: #00d7ff; text-decoration-color: #00d7ff\">None</span>, <span style=\"color: #00af00; text-decoration-color: #00af00\">100</span>)            │             <span style=\"color: #00af00; text-decoration-color: #00af00\">0</span> │\n",
              "├─────────────────────────────────┼────────────────────────┼───────────────┤\n",
              "│ dense_19 (<span style=\"color: #0087ff; text-decoration-color: #0087ff\">Dense</span>)                │ (<span style=\"color: #00d7ff; text-decoration-color: #00d7ff\">None</span>, <span style=\"color: #00af00; text-decoration-color: #00af00\">6</span>)              │           <span style=\"color: #00af00; text-decoration-color: #00af00\">606</span> │\n",
              "└─────────────────────────────────┴────────────────────────┴───────────────┘\n",
              "</pre>\n"
            ]
          },
          "metadata": {}
        },
        {
          "output_type": "display_data",
          "data": {
            "text/plain": [
              "\u001b[1m Total params: \u001b[0m\u001b[38;5;34m32,106\u001b[0m (125.41 KB)\n"
            ],
            "text/html": [
              "<pre style=\"white-space:pre;overflow-x:auto;line-height:normal;font-family:Menlo,'DejaVu Sans Mono',consolas,'Courier New',monospace\"><span style=\"font-weight: bold\"> Total params: </span><span style=\"color: #00af00; text-decoration-color: #00af00\">32,106</span> (125.41 KB)\n",
              "</pre>\n"
            ]
          },
          "metadata": {}
        },
        {
          "output_type": "display_data",
          "data": {
            "text/plain": [
              "\u001b[1m Trainable params: \u001b[0m\u001b[38;5;34m31,506\u001b[0m (123.07 KB)\n"
            ],
            "text/html": [
              "<pre style=\"white-space:pre;overflow-x:auto;line-height:normal;font-family:Menlo,'DejaVu Sans Mono',consolas,'Courier New',monospace\"><span style=\"font-weight: bold\"> Trainable params: </span><span style=\"color: #00af00; text-decoration-color: #00af00\">31,506</span> (123.07 KB)\n",
              "</pre>\n"
            ]
          },
          "metadata": {}
        },
        {
          "output_type": "display_data",
          "data": {
            "text/plain": [
              "\u001b[1m Non-trainable params: \u001b[0m\u001b[38;5;34m600\u001b[0m (2.34 KB)\n"
            ],
            "text/html": [
              "<pre style=\"white-space:pre;overflow-x:auto;line-height:normal;font-family:Menlo,'DejaVu Sans Mono',consolas,'Courier New',monospace\"><span style=\"font-weight: bold\"> Non-trainable params: </span><span style=\"color: #00af00; text-decoration-color: #00af00\">600</span> (2.34 KB)\n",
              "</pre>\n"
            ]
          },
          "metadata": {}
        }
      ]
    },
    {
      "cell_type": "code",
      "source": [
        "#Run fits & prediction test\n",
        "\n",
        "reduce_lr = ReduceLROnPlateau(\n",
        "    monitor='val_loss',\n",
        "    factor=0.5,\n",
        "    patience=5,\n",
        "    verbose=1,\n",
        "    min_lr=1e-6\n",
        ")\n",
        "\n",
        "early_stop = EarlyStopping(\n",
        "    monitor='val_loss',\n",
        "    patience=10,\n",
        "    restore_best_weights=True,\n",
        "    verbose=1\n",
        ")\n",
        "\n",
        "history = model.fit(\n",
        "    X_train_scaled,\n",
        "    y_train_scaled,\n",
        "    epochs=20,\n",
        "    batch_size=32,\n",
        "    validation_split=0.1,\n",
        "    shuffle=True,\n",
        "    callbacks=[reduce_lr, early_stop]\n",
        ")\n",
        "\n",
        "eval_metrics = model.evaluate(X_test_scaled, y_test_scaled, verbose=0)\n",
        "print(f\"Test MSE: {eval_metrics[0]:.5e}\")\n",
        "\n",
        "y_hat_cont = model.predict(X_test_scaled)\n",
        "for i in range(5):\n",
        "    print(f\"Real: {y_test_scaled[i]}, Pred: {y_hat_cont[i]}\")"
      ],
      "metadata": {
        "colab": {
          "base_uri": "https://localhost:8080/"
        },
        "id": "q6PsYgQSQdLA",
        "outputId": "cdce70e5-e9ee-421a-f57d-2bf7cdc40b58"
      },
      "execution_count": 32,
      "outputs": [
        {
          "output_type": "stream",
          "name": "stdout",
          "text": [
            "Epoch 1/20\n",
            "\u001b[1m3/3\u001b[0m \u001b[32m━━━━━━━━━━━━━━━━━━━━\u001b[0m\u001b[37m\u001b[0m \u001b[1m4s\u001b[0m 190ms/step - loss: 2.0660 - mse: 2.0660 - val_loss: 2.2708 - val_mse: 2.2708 - learning_rate: 0.0010\n",
            "Epoch 2/20\n",
            "\u001b[1m3/3\u001b[0m \u001b[32m━━━━━━━━━━━━━━━━━━━━\u001b[0m\u001b[37m\u001b[0m \u001b[1m0s\u001b[0m 45ms/step - loss: 1.6397 - mse: 1.6397 - val_loss: 1.6398 - val_mse: 1.6398 - learning_rate: 0.0010\n",
            "Epoch 3/20\n",
            "\u001b[1m3/3\u001b[0m \u001b[32m━━━━━━━━━━━━━━━━━━━━\u001b[0m\u001b[37m\u001b[0m \u001b[1m0s\u001b[0m 68ms/step - loss: 1.2511 - mse: 1.2511 - val_loss: 1.3251 - val_mse: 1.3251 - learning_rate: 0.0010\n",
            "Epoch 4/20\n",
            "\u001b[1m3/3\u001b[0m \u001b[32m━━━━━━━━━━━━━━━━━━━━\u001b[0m\u001b[37m\u001b[0m \u001b[1m0s\u001b[0m 68ms/step - loss: 1.2471 - mse: 1.2471 - val_loss: 1.1547 - val_mse: 1.1547 - learning_rate: 0.0010\n",
            "Epoch 5/20\n",
            "\u001b[1m3/3\u001b[0m \u001b[32m━━━━━━━━━━━━━━━━━━━━\u001b[0m\u001b[37m\u001b[0m \u001b[1m0s\u001b[0m 83ms/step - loss: 1.0832 - mse: 1.0832 - val_loss: 1.1248 - val_mse: 1.1248 - learning_rate: 0.0010\n",
            "Epoch 6/20\n",
            "\u001b[1m3/3\u001b[0m \u001b[32m━━━━━━━━━━━━━━━━━━━━\u001b[0m\u001b[37m\u001b[0m \u001b[1m0s\u001b[0m 71ms/step - loss: 1.0791 - mse: 1.0791 - val_loss: 1.1556 - val_mse: 1.1556 - learning_rate: 0.0010\n",
            "Epoch 7/20\n",
            "\u001b[1m3/3\u001b[0m \u001b[32m━━━━━━━━━━━━━━━━━━━━\u001b[0m\u001b[37m\u001b[0m \u001b[1m0s\u001b[0m 56ms/step - loss: 1.1459 - mse: 1.1459 - val_loss: 1.1962 - val_mse: 1.1962 - learning_rate: 0.0010\n",
            "Epoch 8/20\n",
            "\u001b[1m3/3\u001b[0m \u001b[32m━━━━━━━━━━━━━━━━━━━━\u001b[0m\u001b[37m\u001b[0m \u001b[1m0s\u001b[0m 73ms/step - loss: 1.0640 - mse: 1.0640 - val_loss: 1.2289 - val_mse: 1.2289 - learning_rate: 0.0010\n",
            "Epoch 9/20\n",
            "\u001b[1m3/3\u001b[0m \u001b[32m━━━━━━━━━━━━━━━━━━━━\u001b[0m\u001b[37m\u001b[0m \u001b[1m0s\u001b[0m 59ms/step - loss: 1.0645 - mse: 1.0645 - val_loss: 1.2503 - val_mse: 1.2503 - learning_rate: 0.0010\n",
            "Epoch 10/20\n",
            "\u001b[1m1/3\u001b[0m \u001b[32m━━━━━━\u001b[0m\u001b[37m━━━━━━━━━━━━━━\u001b[0m \u001b[1m0s\u001b[0m 183ms/step - loss: 0.9711 - mse: 0.9711\n",
            "Epoch 10: ReduceLROnPlateau reducing learning rate to 0.0005000000237487257.\n",
            "\u001b[1m3/3\u001b[0m \u001b[32m━━━━━━━━━━━━━━━━━━━━\u001b[0m\u001b[37m\u001b[0m \u001b[1m0s\u001b[0m 85ms/step - loss: 0.9486 - mse: 0.9486 - val_loss: 1.2555 - val_mse: 1.2555 - learning_rate: 0.0010\n",
            "Epoch 11/20\n",
            "\u001b[1m3/3\u001b[0m \u001b[32m━━━━━━━━━━━━━━━━━━━━\u001b[0m\u001b[37m\u001b[0m \u001b[1m0s\u001b[0m 82ms/step - loss: 0.9860 - mse: 0.9860 - val_loss: 1.2146 - val_mse: 1.2146 - learning_rate: 5.0000e-04\n",
            "Epoch 12/20\n",
            "\u001b[1m3/3\u001b[0m \u001b[32m━━━━━━━━━━━━━━━━━━━━\u001b[0m\u001b[37m\u001b[0m \u001b[1m0s\u001b[0m 91ms/step - loss: 0.9365 - mse: 0.9365 - val_loss: 1.1462 - val_mse: 1.1462 - learning_rate: 5.0000e-04\n",
            "Epoch 13/20\n",
            "\u001b[1m3/3\u001b[0m \u001b[32m━━━━━━━━━━━━━━━━━━━━\u001b[0m\u001b[37m\u001b[0m \u001b[1m0s\u001b[0m 47ms/step - loss: 0.9562 - mse: 0.9562 - val_loss: 1.0783 - val_mse: 1.0783 - learning_rate: 5.0000e-04\n",
            "Epoch 14/20\n",
            "\u001b[1m3/3\u001b[0m \u001b[32m━━━━━━━━━━━━━━━━━━━━\u001b[0m\u001b[37m\u001b[0m \u001b[1m0s\u001b[0m 44ms/step - loss: 0.9143 - mse: 0.9143 - val_loss: 1.0109 - val_mse: 1.0109 - learning_rate: 5.0000e-04\n",
            "Epoch 15/20\n",
            "\u001b[1m3/3\u001b[0m \u001b[32m━━━━━━━━━━━━━━━━━━━━\u001b[0m\u001b[37m\u001b[0m \u001b[1m0s\u001b[0m 44ms/step - loss: 0.8706 - mse: 0.8706 - val_loss: 0.9461 - val_mse: 0.9461 - learning_rate: 5.0000e-04\n",
            "Epoch 16/20\n",
            "\u001b[1m3/3\u001b[0m \u001b[32m━━━━━━━━━━━━━━━━━━━━\u001b[0m\u001b[37m\u001b[0m \u001b[1m0s\u001b[0m 43ms/step - loss: 1.0273 - mse: 1.0273 - val_loss: 0.8900 - val_mse: 0.8900 - learning_rate: 5.0000e-04\n",
            "Epoch 17/20\n",
            "\u001b[1m3/3\u001b[0m \u001b[32m━━━━━━━━━━━━━━━━━━━━\u001b[0m\u001b[37m\u001b[0m \u001b[1m0s\u001b[0m 61ms/step - loss: 0.9138 - mse: 0.9138 - val_loss: 0.8446 - val_mse: 0.8446 - learning_rate: 5.0000e-04\n",
            "Epoch 18/20\n",
            "\u001b[1m3/3\u001b[0m \u001b[32m━━━━━━━━━━━━━━━━━━━━\u001b[0m\u001b[37m\u001b[0m \u001b[1m0s\u001b[0m 43ms/step - loss: 0.8497 - mse: 0.8497 - val_loss: 0.8173 - val_mse: 0.8173 - learning_rate: 5.0000e-04\n",
            "Epoch 19/20\n",
            "\u001b[1m3/3\u001b[0m \u001b[32m━━━━━━━━━━━━━━━━━━━━\u001b[0m\u001b[37m\u001b[0m \u001b[1m0s\u001b[0m 56ms/step - loss: 0.9295 - mse: 0.9295 - val_loss: 0.8118 - val_mse: 0.8118 - learning_rate: 5.0000e-04\n",
            "Epoch 20/20\n",
            "\u001b[1m3/3\u001b[0m \u001b[32m━━━━━━━━━━━━━━━━━━━━\u001b[0m\u001b[37m\u001b[0m \u001b[1m0s\u001b[0m 43ms/step - loss: 0.8055 - mse: 0.8055 - val_loss: 0.7999 - val_mse: 0.7999 - learning_rate: 5.0000e-04\n",
            "Restoring model weights from the end of the best epoch: 20.\n",
            "Test MSE: 8.75492e-01\n",
            "\u001b[1m1/1\u001b[0m \u001b[32m━━━━━━━━━━━━━━━━━━━━\u001b[0m\u001b[37m\u001b[0m \u001b[1m0s\u001b[0m 435ms/step\n",
            "Real: [ 0.62917443  1.47031326 -1.42670719  0.16200869 -0.21313279 -0.00640439], Pred: [ 0.63805103 -0.04382423 -0.8750304  -0.07591134  0.23506723  0.23495178]\n",
            "Real: [-1.72142209  1.05032617  0.31899144 -0.4972067  -1.45749067  1.40611139], Pred: [-0.08728844 -0.4950808   0.7803642  -0.52557355  0.45881563  0.99229884]\n",
            "Real: [-0.4474001  -0.45290946  0.40105679  1.31047493  1.2197662   0.47309036], Pred: [ 0.08302271 -0.11258754  0.36149222 -0.3052147  -0.16206683  0.5979493 ]\n",
            "Real: [-0.31577595  1.4796979  -0.97015825  1.59195383 -0.85131325  0.10360129], Pred: [ 0.39593476  0.20706284 -0.52038443 -0.09434664 -0.08116823  0.13664603]\n",
            "Real: [-0.4087065   1.25929506 -1.24266944  0.65876439 -0.52217953  0.32995089], Pred: [ 0.43525624  0.25042632 -0.4947305  -0.08411691 -0.09456309  0.2925677 ]\n"
          ]
        }
      ]
    },
    {
      "cell_type": "code",
      "source": [
        "#Loss func. plot\n",
        "\n",
        "plt.plot(history.history['loss'], label='Train loss', color ='cadetblue')\n",
        "plt.plot(history.history['val_mse'], label='Validation loss', color = 'black')\n",
        "plt.legend()\n",
        "plt.title('Loss over epochs ($\\Omega_n$, $n_s$ free)')\n",
        "plt.savefig('model11_loss')\n",
        "files.download(\"model11o_loss.png\")\n",
        "plt.show()"
      ],
      "metadata": {
        "colab": {
          "base_uri": "https://localhost:8080/",
          "height": 454
        },
        "id": "pkT-7aIvQdiA",
        "outputId": "6d9a78f6-8580-474c-8d49-6cfebfb40efa"
      },
      "execution_count": 35,
      "outputs": [
        {
          "output_type": "display_data",
          "data": {
            "text/plain": [
              "<IPython.core.display.Javascript object>"
            ],
            "application/javascript": [
              "\n",
              "    async function download(id, filename, size) {\n",
              "      if (!google.colab.kernel.accessAllowed) {\n",
              "        return;\n",
              "      }\n",
              "      const div = document.createElement('div');\n",
              "      const label = document.createElement('label');\n",
              "      label.textContent = `Downloading \"${filename}\": `;\n",
              "      div.appendChild(label);\n",
              "      const progress = document.createElement('progress');\n",
              "      progress.max = size;\n",
              "      div.appendChild(progress);\n",
              "      document.body.appendChild(div);\n",
              "\n",
              "      const buffers = [];\n",
              "      let downloaded = 0;\n",
              "\n",
              "      const channel = await google.colab.kernel.comms.open(id);\n",
              "      // Send a message to notify the kernel that we're ready.\n",
              "      channel.send({})\n",
              "\n",
              "      for await (const message of channel.messages) {\n",
              "        // Send a message to notify the kernel that we're ready.\n",
              "        channel.send({})\n",
              "        if (message.buffers) {\n",
              "          for (const buffer of message.buffers) {\n",
              "            buffers.push(buffer);\n",
              "            downloaded += buffer.byteLength;\n",
              "            progress.value = downloaded;\n",
              "          }\n",
              "        }\n",
              "      }\n",
              "      const blob = new Blob(buffers, {type: 'application/binary'});\n",
              "      const a = document.createElement('a');\n",
              "      a.href = window.URL.createObjectURL(blob);\n",
              "      a.download = filename;\n",
              "      div.appendChild(a);\n",
              "      a.click();\n",
              "      div.remove();\n",
              "    }\n",
              "  "
            ]
          },
          "metadata": {}
        },
        {
          "output_type": "display_data",
          "data": {
            "text/plain": [
              "<IPython.core.display.Javascript object>"
            ],
            "application/javascript": [
              "download(\"download_75d20acd-9197-4cb7-b26e-fa32a50c180d\", \"model11_loss.png\", 31790)"
            ]
          },
          "metadata": {}
        },
        {
          "output_type": "display_data",
          "data": {
            "text/plain": [
              "<Figure size 640x480 with 1 Axes>"
            ],
            "image/png": "[encoded data removed]"
          },
          "metadata": {}
        }
      ]
    },
    {
      "cell_type": "code",
      "source": [
        "#Re-Re Normalizarion (i.e. non-normalized data for the MSE calculation)\n",
        "\n",
        "y_test_real = scaler_y.inverse_transform(y_test_scaled)\n",
        "y_pred_real = scaler_y.inverse_transform(y_hat_cont)\n",
        "from sklearn.metrics import mean_squared_error\n",
        "\n",
        "mse_real = mean_squared_error(y_test_real, y_pred_real)\n",
        "print(f\"Descaled MSE: {mse_real}\")\n",
        "error = np.sqrt(mse_real)\n",
        "print(f'Error: {error}')"
      ],
      "metadata": {
        "colab": {
          "base_uri": "https://localhost:8080/"
        },
        "id": "HMeYZetPQh63",
        "outputId": "d085694f-d904-45db-d357-c7b2a5c2075f"
      },
      "execution_count": 34,
      "outputs": [
        {
          "output_type": "stream",
          "name": "stdout",
          "text": [
            "Descaled MSE: 0.00012902832543201822\n",
            "Error: 0.011359063580771886\n"
          ]
        }
      ]
    },
    {
      "cell_type": "markdown",
      "source": [],
      "metadata": {
        "id": "b0zn9oanQiV8"
      }
    }
  ],
  "metadata": {
    "colab": {
      "provenance": [],
      "authorship_tag": "ABX9TyP9Uemsyr7kbWO27GpyepaZ",
      "include_colab_link": true
    },
    "kernelspec": {
      "display_name": "Python 3",
      "name": "python3"
    },
    "language_info": {
      "name": "python"
    }
  },
  "nbformat": 4,
  "nbformat_minor": 0
}