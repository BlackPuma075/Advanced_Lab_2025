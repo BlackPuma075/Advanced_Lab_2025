{
  "nbformat": 4,
  "nbformat_minor": 0,
  "metadata": {
    "colab": {
      "provenance": []
    },
    "kernelspec": {
      "name": "python3",
      "display_name": "Python 3"
    },
    "language_info": {
      "name": "python"
    }
  },
  "cells": [
    {
      "cell_type": "code",
      "execution_count": null,
      "metadata": {
        "id": "lDVq5HL4KFRQ"
      },
      "outputs": [],
      "source": [
        "import glob\n",
        "import numpy as np\n",
        "import matplotlib.pyplot as plt\n",
        "from PIL import Image\n",
        "%matplotlib inline"
      ]
    },
    {
      "cell_type": "code",
      "source": [
        "from google.colab import drive\n",
        "drive.mount('/content/drive')"
      ],
      "metadata": {
        "colab": {
          "base_uri": "https://localhost:8080/"
        },
        "id": "IytAl_t21V5m",
        "outputId": "7fff7408-4777-4ee9-95a7-077e6c1e5104"
      },
      "execution_count": null,
      "outputs": [
        {
          "output_type": "stream",
          "name": "stdout",
          "text": [
            "Mounted at /content/drive\n"
          ]
        }
      ]
    },
    {
      "cell_type": "code",
      "source": [
        "#Los datos corresponden a un subset del dataset cats vs dogs de https://www.kaggle.com/c/dogs-vs-cats\n",
        "files=glob.glob('/content/drive/MyDrive/Machine_Learning/CATS_DOGS/*.jpg')"
      ],
      "metadata": {
        "id": "avBbDc__Kx7p"
      },
      "execution_count": null,
      "outputs": []
    },
    {
      "cell_type": "code",
      "source": [
        "print(files[:10])"
      ],
      "metadata": {
        "colab": {
          "base_uri": "https://localhost:8080/"
        },
        "id": "C6wpO6LZBUoy",
        "outputId": "7379f33c-edb0-4e9c-8b1d-5e49092fc674"
      },
      "execution_count": null,
      "outputs": [
        {
          "output_type": "stream",
          "name": "stdout",
          "text": [
            "['/content/drive/MyDrive/Machine_Learning/CATS_DOGS/cat.9249.jpg', '/content/drive/MyDrive/Machine_Learning/CATS_DOGS/cat.8745.jpg', '/content/drive/MyDrive/Machine_Learning/CATS_DOGS/cat.9261.jpg', '/content/drive/MyDrive/Machine_Learning/CATS_DOGS/cat.8787.jpg', '/content/drive/MyDrive/Machine_Learning/CATS_DOGS/cat.9467.jpg', '/content/drive/MyDrive/Machine_Learning/CATS_DOGS/cat.9315.jpg', '/content/drive/MyDrive/Machine_Learning/CATS_DOGS/cat.8802.jpg', '/content/drive/MyDrive/Machine_Learning/CATS_DOGS/cat.9458.jpg', '/content/drive/MyDrive/Machine_Learning/CATS_DOGS/cat.8630.jpg', '/content/drive/MyDrive/Machine_Learning/CATS_DOGS/cat.8751.jpg']\n"
          ]
        }
      ]
    },
    {
      "cell_type": "markdown",
      "source": [
        "**Training dataset**"
      ],
      "metadata": {
        "id": "2AzeFJ-lLcyI"
      }
    },
    {
      "cell_type": "code",
      "source": [
        "size = 64\n",
        "\n",
        "train_data = np.array([\n",
        "    np.asarray(Image.open(file).resize((size, size)))\n",
        "    for file in files[:200]\n",
        "])\n",
        "\n",
        "train_label = np.array([\n",
        "    1 if 'dog' in file else 0\n",
        "    for file in files[:200]\n",
        "])\n",
        "\n",
        "test_label = np.array([\n",
        "    1 if 'dog' in file else 0\n",
        "    for file in files[200:]\n",
        "])\n",
        "\n",
        "test_data = np.array([\n",
        "    np.asarray(Image.open(file).resize((size, size)))\n",
        "    for file in files[200:]\n",
        "])"
      ],
      "metadata": {
        "id": "jEXLqLMqK6fG"
      },
      "execution_count": null,
      "outputs": []
    },
    {
      "cell_type": "code",
      "source": [
        "train_data_flatten = train_data.reshape(train_data.shape[0], -1).T\n",
        "train_set_label=train_label.reshape((1,train_label.shape[0]))\n",
        "test_set_label=test_label.reshape((1,test_label.shape[0]))\n",
        "test_data_flatten = test_data.reshape(test_data.shape[0], -1).T"
      ],
      "metadata": {
        "id": "JGQCkgraLF-W"
      },
      "execution_count": null,
      "outputs": []
    },
    {
      "cell_type": "code",
      "source": [
        "test_data_flatten.shape"
      ],
      "metadata": {
        "colab": {
          "base_uri": "https://localhost:8080/"
        },
        "id": "iXPXiz2io8UE",
        "outputId": "077b505c-4e4d-409a-eef6-bdee1bdf3db6"
      },
      "execution_count": null,
      "outputs": [
        {
          "output_type": "execute_result",
          "data": {
            "text/plain": [
              "(12288, 1617)"
            ]
          },
          "metadata": {},
          "execution_count": 64
        }
      ]
    },
    {
      "cell_type": "code",
      "source": [
        "np.max(train_data_flatten)"
      ],
      "metadata": {
        "colab": {
          "base_uri": "https://localhost:8080/"
        },
        "id": "ptbJCjaUqinx",
        "outputId": "88efa1ad-8516-4607-f1ae-dee67b0fe7ca"
      },
      "execution_count": null,
      "outputs": [
        {
          "output_type": "execute_result",
          "data": {
            "text/plain": [
              "np.uint8(255)"
            ]
          },
          "metadata": {},
          "execution_count": 7
        }
      ]
    },
    {
      "cell_type": "markdown",
      "source": [
        "**Normalization**"
      ],
      "metadata": {
        "id": "J0AQL3yRLQog"
      }
    },
    {
      "cell_type": "code",
      "source": [
        "train_set_data= train_data_flatten/255\n",
        "test_set_data = test_data_flatten/np.max(test_data_flatten)"
      ],
      "metadata": {
        "id": "M4XX__NWLJP_"
      },
      "execution_count": null,
      "outputs": []
    },
    {
      "cell_type": "code",
      "source": [
        "train_set_data.shape, test_set_data.shape"
      ],
      "metadata": {
        "colab": {
          "base_uri": "https://localhost:8080/"
        },
        "id": "nFqjjEN0dj0t",
        "outputId": "f814df5e-72f5-4921-b09e-3ecbc58afbc0"
      },
      "execution_count": null,
      "outputs": [
        {
          "output_type": "execute_result",
          "data": {
            "text/plain": [
              "((12288, 200), (12288, 1617))"
            ]
          },
          "metadata": {},
          "execution_count": 79
        }
      ]
    },
    {
      "cell_type": "markdown",
      "source": [
        "**Sigmoid function:**\n",
        "\n",
        "$a = \\sigma(z)=\\frac{1}{1+e^{-z}}$\n",
        "\n",
        "where\n",
        "\n",
        "$z = \\omega_{0} x + \\omega_{1}$"
      ],
      "metadata": {
        "id": "5eD8GZBT-gvF"
      }
    },
    {
      "cell_type": "code",
      "source": [
        "def sigmoid(z):\n",
        "  a = 1/(1+np.exp(-z))\n",
        "  return a"
      ],
      "metadata": {
        "id": "fqMgN4BtZjY3"
      },
      "execution_count": null,
      "outputs": []
    },
    {
      "cell_type": "code",
      "source": [
        "w,b = np.zeros((len(train_set_data),1)),0\n",
        "l = sigmoid(np.matmul(w.T,train_set_data)+b)\n",
        "l.shape"
      ],
      "metadata": {
        "colab": {
          "base_uri": "https://localhost:8080/"
        },
        "id": "OR8_1l9nx6up",
        "outputId": "6270bdb7-383a-4d8b-cb65-a67fdaddd71e"
      },
      "execution_count": null,
      "outputs": [
        {
          "output_type": "execute_result",
          "data": {
            "text/plain": [
              "(1, 200)"
            ]
          },
          "metadata": {},
          "execution_count": 11
        }
      ]
    },
    {
      "cell_type": "markdown",
      "source": [
        "**Cost function:**\n",
        "\n",
        "$J(w,b)= -\\frac{1}{m}\\sum{[y^{(i)}\\log{\\hat{y}^{(i)}}+(1-y^{(i)})\\log{(1-\\hat{y}^{(i)}})]}$\n",
        "\n",
        "$\\omega =  \\omega -\\frac{1}{m}\\alpha [X\\cdot(a-y)]$\n",
        "\n",
        "$b = b - \\frac{1}{m}\\alpha(a-y)$"
      ],
      "metadata": {
        "id": "k4tkiDO6_DRM"
      }
    },
    {
      "cell_type": "code",
      "source": [
        "def grad(x,y,w,b, iteraciones, alpha):\n",
        "  m = x.shape[1]\n",
        "  w,b = np.zeros((len(train_set_data),1)),0 #Inicializamos los pesos en cero\n",
        "  for i in range(iteraciones):\n",
        "    suma = 0 #Defino la variable donde guardaré el valor de la sumatoria para el cálculo del costo\n",
        "    a = sigmoid(np.matmul(w.T,x)+b) #Calcula la función de activación con w,b iguales a cero en principio\n",
        "    w = w-alpha*(1/m)*np.matmul(x,(a-y).T) #Actualizamos w usando dw\n",
        "    db = np.mean(a - y)\n",
        "    b = b - alpha * db #Actualizamos b usando db\n",
        "    #b = b-alpha*(1/m)*(a-y) #Actualizamos b usando db\n",
        "    for j in range(a.shape[1]): #Hacemos el cálculo del costo con el w,b iniciales\n",
        "      suma += y[:1,j]*np.log(a[:1,j])+(1-y[:1,j])*np.log(1-(a[:1,j]))\n",
        "    J = -(1/m)*sum(suma) #Calculamos el costo\n",
        "    f = i%100\n",
        "    if f == 0:\n",
        "      print('J en la ',i,'-ésima iteracion:', J) #Imprimimos el costo en cada iteración\n",
        "  return w, b, J"
      ],
      "metadata": {
        "id": "9v5F5wnVafbo"
      },
      "execution_count": null,
      "outputs": []
    },
    {
      "cell_type": "code",
      "source": [
        "w, b, J = grad(x=train_set_data, y=train_set_label, w=w,b=b, iteraciones=1000, alpha=0.01) #Realizo el grad. desc. con el conjunto de entrenamiento"
      ],
      "metadata": {
        "colab": {
          "base_uri": "https://localhost:8080/"
        },
        "id": "97EjRUWiepQi",
        "outputId": "41d43fdd-7551-4867-ce11-c47cbe31b286"
      },
      "execution_count": null,
      "outputs": [
        {
          "output_type": "stream",
          "name": "stdout",
          "text": [
            "J en la  0 -ésima iteracion: 0.6931471805599465\n",
            "J en la  100 -ésima iteracion: 3.7545638575209317\n",
            "J en la  200 -ésima iteracion: 0.35837671027775114\n",
            "J en la  300 -ésima iteracion: 0.3548329944029582\n",
            "J en la  400 -ésima iteracion: 0.5779058286679104\n",
            "J en la  500 -ésima iteracion: 0.6002544608715724\n",
            "J en la  600 -ésima iteracion: 0.4734175801340802\n",
            "J en la  700 -ésima iteracion: 0.13124266654501412\n",
            "J en la  800 -ésima iteracion: 0.10720760336046664\n",
            "J en la  900 -ésima iteracion: 0.09672796037480971\n"
          ]
        }
      ]
    },
    {
      "cell_type": "code",
      "source": [
        "def binary(x, y, w, b ,imagen):\n",
        "  p = sigmoid(np.matmul(w.T, x)+b)\n",
        "  ytst = np.matmul(w.T, x)+b\n",
        "  ytst = -(ytst/100) #Usamos la función de activación con los pesos finales\n",
        "  if ytst[:1,imagen]< 0.5:\n",
        "    ytst[:1,imagen]=0 #Evaluamos en la imagen específica\n",
        "    print('La imagen ',imagen,' es un perro')\n",
        "  if ytst[:1,imagen] > 0.5:\n",
        "    ytst[:1,imagen]=1\n",
        "    print('La imagen ',imagen,' es un gato')\n",
        "  return ytst"
      ],
      "metadata": {
        "id": "twe7_ZnkidPM"
      },
      "execution_count": null,
      "outputs": []
    },
    {
      "cell_type": "code",
      "source": [
        "twst2 = binary(train_set_data, train_set_label, r[0], r[1], 75) #Calcula todas las predicciones del dataset, pero solo imprime la que se pasa en el último arg."
      ],
      "metadata": {
        "colab": {
          "base_uri": "https://localhost:8080/"
        },
        "id": "ToGvUsS1kftC",
        "outputId": "5335d796-4014-422e-a057-7caff907e9a4"
      },
      "execution_count": null,
      "outputs": [
        {
          "output_type": "stream",
          "name": "stdout",
          "text": [
            "La imagen  75  es un perro\n"
          ]
        }
      ]
    },
    {
      "cell_type": "code",
      "source": [
        "twst2 = binary(train_set_data, train_set_label, r[0], r[1], 79)"
      ],
      "metadata": {
        "colab": {
          "base_uri": "https://localhost:8080/"
        },
        "id": "Qb27WI8ulbgD",
        "outputId": "0eef88b3-7367-4bb0-b2b3-873d77726826"
      },
      "execution_count": null,
      "outputs": [
        {
          "output_type": "stream",
          "name": "stdout",
          "text": [
            "La imagen  79  es un perro\n"
          ]
        }
      ]
    },
    {
      "cell_type": "code",
      "source": [
        "#plt.imshow(train_data[79])"
      ],
      "metadata": {
        "id": "guUwtFmPlfK2"
      },
      "execution_count": null,
      "outputs": []
    },
    {
      "cell_type": "code",
      "source": [
        "testing_precission = binary(test_set_data, test_label, w, b, 1) #Aunque solo imprime la imagen seleccionada en el último argumento de la función\n",
        "                                                                #Realmente está calculando la predicción en todas las imágenes del dataset"
      ],
      "metadata": {
        "colab": {
          "base_uri": "https://localhost:8080/"
        },
        "id": "nfoEhINpok94",
        "outputId": "f31790a9-bb25-4207-d94c-2755249d412f"
      },
      "execution_count": null,
      "outputs": [
        {
          "output_type": "stream",
          "name": "stdout",
          "text": [
            "La imagen  1  es un perro\n"
          ]
        }
      ]
    },
    {
      "cell_type": "code",
      "source": [
        "def precission(data, labels):\n",
        "  y_test = np.zeros_like(data[0])\n",
        "  for i in range(len(testing_precission[0].shape)):\n",
        "    if testing_precission[0, i] > 0.5:\n",
        "      y_test[i]=1\n",
        "    else:\n",
        "      y_test[i]=0\n",
        "\n",
        "  from sklearn.metrics import accuracy_score\n",
        "\n",
        "  accuracy = accuracy_score(y_test, labels)\n",
        "  print('La precisión es del ',accuracy,'%')\n",
        "\n",
        "  return accuracy"
      ],
      "metadata": {
        "id": "463jdNX1syHX"
      },
      "execution_count": null,
      "outputs": []
    },
    {
      "cell_type": "code",
      "source": [
        "precission = precission(testing_precission, test_label)"
      ],
      "metadata": {
        "colab": {
          "base_uri": "https://localhost:8080/"
        },
        "id": "jfsCrtE5uSQ6",
        "outputId": "e92ba894-c0a2-4613-9dbf-4a232c444330"
      },
      "execution_count": null,
      "outputs": [
        {
          "output_type": "stream",
          "name": "stdout",
          "text": [
            "La precisión es del  0.505256648113791 %\n"
          ]
        }
      ]
    }
  ]
}