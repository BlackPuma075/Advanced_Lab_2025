{
  "nbformat": 4,
  "nbformat_minor": 0,
  "metadata": {
    "colab": {
      "provenance": []
    },
    "kernelspec": {
      "name": "python3",
      "display_name": "Python 3"
    },
    "language_info": {
      "name": "python"
    }
  },
  "cells": [
    {
      "cell_type": "code",
      "execution_count": null,
      "metadata": {
        "id": "fKwe7TLWwc6K"
      },
      "outputs": [],
      "source": [
        "import glob\n",
        "import numpy as np\n",
        "import matplotlib.pyplot as plt\n",
        "from PIL import Image\n",
        "%matplotlib inline"
      ]
    },
    {
      "cell_type": "code",
      "source": [
        "from google.colab import drive\n",
        "drive.mount('/content/drive')"
      ],
      "metadata": {
        "id": "GOvNe78lwkBt"
      },
      "execution_count": null,
      "outputs": []
    },
    {
      "cell_type": "code",
      "source": [
        "#Los datos corresponden a un subset del dataset cats vs dogs de https://www.kaggle.com/c/dogs-vs-cats\n",
        "files=glob.glob('/content/drive/MyDrive/Machine_Learning/CATS_DOGS/*.jpg')"
      ],
      "metadata": {
        "id": "dsUMuJTPwmij"
      },
      "execution_count": null,
      "outputs": []
    },
    {
      "cell_type": "code",
      "source": [
        "size = 64\n",
        "\n",
        "train_data = np.array([\n",
        "    np.asarray(Image.open(file).resize((size, size)))\n",
        "    for file in files[:200]\n",
        "])\n",
        "\n",
        "train_label = np.array([\n",
        "    1 if 'dog' in file else 0\n",
        "    for file in files[:200]\n",
        "])\n",
        "\n",
        "test_label = np.array([\n",
        "    1 if 'dog' in file else 0\n",
        "    for file in files[200:]\n",
        "])\n",
        "\n",
        "test_data = np.array([\n",
        "    np.asarray(Image.open(file).resize((size, size)))\n",
        "    for file in files[200:]\n",
        "])"
      ],
      "metadata": {
        "id": "P15O8RgHwpO4"
      },
      "execution_count": null,
      "outputs": []
    },
    {
      "cell_type": "code",
      "source": [
        "train_data_flatten = train_data.reshape(train_data.shape[0], -1).T\n",
        "train_set_label=train_label.reshape((1,train_label.shape[0]))\n",
        "test_set_label=test_label.reshape((1,test_label.shape[0]))\n",
        "test_data_flatten = test_data.reshape(test_data.shape[0], -1).T"
      ],
      "metadata": {
        "id": "9hxyDblLwrHl"
      },
      "execution_count": null,
      "outputs": []
    },
    {
      "cell_type": "code",
      "source": [
        "#Normalization\n",
        "train_set_data= train_data_flatten/255\n",
        "test_set_data = test_data_flatten/np.max(test_data_flatten)"
      ],
      "metadata": {
        "id": "Lap2DwI9wsv0"
      },
      "execution_count": null,
      "outputs": []
    },
    {
      "cell_type": "code",
      "source": [
        "def sigmoid(z):\n",
        "  a = 1/(1+np.exp(-z))\n",
        "  return a\n",
        "\n",
        "def tanh(z):\n",
        "  a = np.tanh(z)\n",
        "  return a\n",
        "\n",
        "def tanh_grad(x, y, iteraciones, alpha):\n",
        "  w, b = np.zeros((len(train_set_data), 1)), 0\n",
        "  for i in range(iteraciones):\n",
        "    m = x.shape[1]\n",
        "    dz = (a - y) * 1 - a**2\n",
        "    dw = (1/m) * np.dot(x, dz.T)\n",
        "    db = (1/m) * np.sum(dz)\n",
        "\n",
        "  return\n",
        "\n",
        "def sigmoid_grad(x,y,w,b, iteraciones, alpha):\n",
        "  m = x.shape[1]\n",
        "  w,b = np.zeros((len(train_set_data),1)),0 #Inicializamos los pesos en cero\n",
        "  for i in range(iteraciones):\n",
        "    suma = 0 #Defino la variable donde guardaré el valor de la sumatoria para el cálculo del costo\n",
        "    a = sigmoid(np.matmul(w.T,x)+b) #Calcula la función de activación con w,b iguales a cero en principio\n",
        "    w = w-alpha*(1/m)*np.matmul(x,(a-y).T) #Actualizamos w usando dw\n",
        "    db = np.mean(a - y)\n",
        "    b = b - alpha * db #Actualizamos b usando db\n",
        "    #b = b-alpha*(1/m)*(a-y) #Actualizamos b usando db\n",
        "    for j in range(a.shape[1]): #Hacemos el cálculo del costo con el w,b iniciales\n",
        "      suma += y[:1,j]*np.log(a[:1,j])+(1-y[:1,j])*np.log(1-(a[:1,j]))\n",
        "    J = -(1/m)*sum(suma) #Calculamos el costo\n",
        "    f = i%100\n",
        "    if f == 0:\n",
        "      print('J en la ',i,'-ésima iteracion:', J) #Imprimimos el costo en cada iteración\n",
        "  return w, b, J\n",
        "\n",
        "def binary(x, y, w, b ,imagen):\n",
        "  p = sigmoid(np.matmul(w.T, x)+b)\n",
        "  ytst = np.matmul(w.T, x)+b\n",
        "  ytst = -(ytst/100) #Usamos la función de activación con los pesos finales\n",
        "  if ytst[:1,imagen]< 0.5:\n",
        "    ytst[:1,imagen]=0 #Evaluamos en la imagen específica\n",
        "    print('La imagen ',imagen,' es un perro')\n",
        "  if ytst[:1,imagen] > 0.5:\n",
        "    ytst[:1,imagen]=1\n",
        "    print('La imagen ',imagen,' es un gato')\n",
        "  return ytst\n",
        "\n",
        "def precission(data, labels):\n",
        "  y_test = np.zeros_like(data[0])\n",
        "  for i in range(len(testing_precission[0].shape)):\n",
        "    if testing_precission[0, i] > 0.5:\n",
        "      y_test[i]=1\n",
        "    else:\n",
        "      y_test[i]=0\n",
        "\n",
        "  from sklearn.metrics import accuracy_score\n",
        "\n",
        "  accuracy = accuracy_score(y_test, labels)\n",
        "  print('La precisión es del ',accuracy,'%')\n",
        "\n",
        "  return accuracy"
      ],
      "metadata": {
        "id": "MKG-DZRlwwPQ"
      },
      "execution_count": null,
      "outputs": []
    }
  ]
}