{
  "nbformat": 4,
  "nbformat_minor": 0,
  "metadata": {
    "colab": {
      "provenance": []
    },
    "kernelspec": {
      "name": "python3",
      "display_name": "Python 3"
    },
    "language_info": {
      "name": "python"
    }
  },
  "cells": [
    {
      "cell_type": "code",
      "execution_count": 1,
      "metadata": {
        "id": "lDVq5HL4KFRQ"
      },
      "outputs": [],
      "source": [
        "import glob\n",
        "import numpy as np\n",
        "import matplotlib.pyplot as plt\n",
        "from PIL import Image\n",
        "%matplotlib inline"
      ]
    },
    {
      "cell_type": "code",
      "source": [
        "from google.colab import drive\n",
        "drive.mount('/content/drive')"
      ],
      "metadata": {
        "colab": {
          "base_uri": "https://localhost:8080/"
        },
        "id": "IytAl_t21V5m",
        "outputId": "85f2f5da-f14d-4e08-a5de-02ab612a730f"
      },
      "execution_count": 2,
      "outputs": [
        {
          "output_type": "stream",
          "name": "stdout",
          "text": [
            "Mounted at /content/drive\n"
          ]
        }
      ]
    },
    {
      "cell_type": "code",
      "source": [
        "#Los datos corresponden a un subset del dataset cats vs dogs de https://www.kaggle.com/c/dogs-vs-cats\n",
        "files=glob.glob('/content/drive/MyDrive/Machine_Learning/CATS_DOGS/*.jpg')"
      ],
      "metadata": {
        "id": "avBbDc__Kx7p"
      },
      "execution_count": 3,
      "outputs": []
    },
    {
      "cell_type": "code",
      "source": [
        "print(files[:10])"
      ],
      "metadata": {
        "colab": {
          "base_uri": "https://localhost:8080/"
        },
        "id": "C6wpO6LZBUoy",
        "outputId": "1c38e653-943c-406a-fb3d-0ba86d33e09e"
      },
      "execution_count": 4,
      "outputs": [
        {
          "output_type": "stream",
          "name": "stdout",
          "text": [
            "['/content/drive/MyDrive/Machine_Learning/CATS_DOGS/cat.9249.jpg', '/content/drive/MyDrive/Machine_Learning/CATS_DOGS/cat.8745.jpg', '/content/drive/MyDrive/Machine_Learning/CATS_DOGS/cat.9261.jpg', '/content/drive/MyDrive/Machine_Learning/CATS_DOGS/cat.8787.jpg', '/content/drive/MyDrive/Machine_Learning/CATS_DOGS/cat.9467.jpg', '/content/drive/MyDrive/Machine_Learning/CATS_DOGS/cat.9315.jpg', '/content/drive/MyDrive/Machine_Learning/CATS_DOGS/cat.8802.jpg', '/content/drive/MyDrive/Machine_Learning/CATS_DOGS/cat.9458.jpg', '/content/drive/MyDrive/Machine_Learning/CATS_DOGS/cat.8630.jpg', '/content/drive/MyDrive/Machine_Learning/CATS_DOGS/cat.8751.jpg']\n"
          ]
        }
      ]
    },
    {
      "cell_type": "markdown",
      "source": [
        "**Training dataset**"
      ],
      "metadata": {
        "id": "2AzeFJ-lLcyI"
      }
    },
    {
      "cell_type": "code",
      "source": [
        "size = 64\n",
        "\n",
        "train_data = np.array([\n",
        "    np.asarray(Image.open(file).resize((size, size)))\n",
        "    for file in files[:200]\n",
        "])\n",
        "\n",
        "train_label = np.array([\n",
        "    1 if 'dog' in file else 0\n",
        "    for file in files[:200]\n",
        "])\n",
        "\n",
        "test_label = np.array([\n",
        "    1 if 'dog' in file else 0\n",
        "    for file in files[200:]\n",
        "])\n",
        "\n",
        "test_data = np.array([\n",
        "    np.asarray(Image.open(file).resize((size, size)))\n",
        "    for file in files[200:]\n",
        "])"
      ],
      "metadata": {
        "id": "jEXLqLMqK6fG"
      },
      "execution_count": 5,
      "outputs": []
    },
    {
      "cell_type": "code",
      "source": [
        "train_data_flatten = train_data.reshape(train_data.shape[0], -1).T\n",
        "train_set_label=train_label.reshape((1,train_label.shape[0]))\n",
        "test_set_label=test_label.reshape((1,test_label.shape[0]))\n",
        "test_data_flatten = test_data.reshape(test_data.shape[0], -1).T"
      ],
      "metadata": {
        "id": "JGQCkgraLF-W"
      },
      "execution_count": 6,
      "outputs": []
    },
    {
      "cell_type": "code",
      "source": [
        "test_data_flatten.shape"
      ],
      "metadata": {
        "colab": {
          "base_uri": "https://localhost:8080/"
        },
        "id": "iXPXiz2io8UE",
        "outputId": "e7f858da-6d26-412d-b102-bc01bfdb3130"
      },
      "execution_count": 7,
      "outputs": [
        {
          "output_type": "execute_result",
          "data": {
            "text/plain": [
              "(12288, 1617)"
            ]
          },
          "metadata": {},
          "execution_count": 7
        }
      ]
    },
    {
      "cell_type": "code",
      "source": [
        "np.max(train_data_flatten)"
      ],
      "metadata": {
        "colab": {
          "base_uri": "https://localhost:8080/"
        },
        "id": "ptbJCjaUqinx",
        "outputId": "fbb920db-12b9-4780-b21a-f90ac7860b39"
      },
      "execution_count": 8,
      "outputs": [
        {
          "output_type": "execute_result",
          "data": {
            "text/plain": [
              "np.uint8(255)"
            ]
          },
          "metadata": {},
          "execution_count": 8
        }
      ]
    },
    {
      "cell_type": "markdown",
      "source": [
        "**Normalization**"
      ],
      "metadata": {
        "id": "J0AQL3yRLQog"
      }
    },
    {
      "cell_type": "code",
      "source": [
        "train_set_data= train_data_flatten/255\n",
        "test_set_data = test_data_flatten/np.max(test_data_flatten)"
      ],
      "metadata": {
        "id": "M4XX__NWLJP_"
      },
      "execution_count": 9,
      "outputs": []
    },
    {
      "cell_type": "code",
      "source": [
        "train_set_data.shape, test_set_data.shape"
      ],
      "metadata": {
        "colab": {
          "base_uri": "https://localhost:8080/"
        },
        "id": "nFqjjEN0dj0t",
        "outputId": "a4ce9078-39ba-4077-f337-be55ca5b5d3f"
      },
      "execution_count": 10,
      "outputs": [
        {
          "output_type": "execute_result",
          "data": {
            "text/plain": [
              "((12288, 200), (12288, 1617))"
            ]
          },
          "metadata": {},
          "execution_count": 10
        }
      ]
    },
    {
      "cell_type": "markdown",
      "source": [
        "**Sigmoid function:**\n",
        "\n",
        "$a = \\sigma(z)=\\frac{1}{1+e^{-z}}$\n",
        "\n",
        "where\n",
        "\n",
        "$z = \\omega_{0} x + \\omega_{1}$"
      ],
      "metadata": {
        "id": "5eD8GZBT-gvF"
      }
    },
    {
      "cell_type": "code",
      "source": [
        "def sigmoid(z):\n",
        "  a = 1/(1+np.exp(-z))\n",
        "  return a"
      ],
      "metadata": {
        "id": "fqMgN4BtZjY3"
      },
      "execution_count": 11,
      "outputs": []
    },
    {
      "cell_type": "code",
      "source": [
        "w,b = np.zeros((len(train_set_data),1)),0\n",
        "l = sigmoid(np.matmul(w.T,train_set_data)+b)\n",
        "l.shape"
      ],
      "metadata": {
        "colab": {
          "base_uri": "https://localhost:8080/"
        },
        "id": "OR8_1l9nx6up",
        "outputId": "fa6d631f-ee03-4edf-d953-a3ad29675979"
      },
      "execution_count": 12,
      "outputs": [
        {
          "output_type": "execute_result",
          "data": {
            "text/plain": [
              "(1, 200)"
            ]
          },
          "metadata": {},
          "execution_count": 12
        }
      ]
    },
    {
      "cell_type": "markdown",
      "source": [
        "**Cost function:**\n",
        "\n",
        "$J(w,b)= -\\frac{1}{m}\\sum{[y^{(i)}\\log{\\hat{y}^{(i)}}+(1-y^{(i)})\\log{(1-\\hat{y}^{(i)}})]}$\n",
        "\n",
        "$\\omega =  \\omega -\\frac{1}{m}\\alpha [X\\cdot(a-y)]$\n",
        "\n",
        "$b = b - \\frac{1}{m}\\alpha(a-y)$"
      ],
      "metadata": {
        "id": "k4tkiDO6_DRM"
      }
    },
    {
      "cell_type": "code",
      "source": [
        "def grad(x,y,w,b, iteraciones, alpha):\n",
        "  m = x.shape[1]\n",
        "  w,b = np.zeros((len(train_set_data),1)),0 #Inicializamos los pesos en cero\n",
        "  for i in range(iteraciones):\n",
        "    suma = 0 #Defino la variable donde guardaré el valor de la sumatoria para el cálculo del costo\n",
        "    a = sigmoid(np.matmul(w.T,x)+b) #Calcula la función de activación con w,b iguales a cero en principio\n",
        "    #print(a.shape)\n",
        "    w = w-alpha*(1/m)*np.matmul(x,(a-y).T) #Actualizamos w usando dw\n",
        "    db = np.mean(a - y)\n",
        "    b = b - alpha * db #Actualizamos b usando db\n",
        "    #b = b-alpha*(1/m)*(a-y) #Actualizamos b usando db\n",
        "    for j in range(a.shape[1]): #Hacemos el cálculo del costo con el w,b iniciales\n",
        "      suma += y[:1,j]*np.log(a[:1,j])+(1-y[:1,j])*np.log(1-(a[:1,j]))\n",
        "    J = -(1/m)*sum(suma) #Calculamos el costo\n",
        "    f = i%(iteraciones/10)\n",
        "    if f == 0:\n",
        "      print('J en la ',i,'-ésima iteracion:', J) #Imprimimos el costo en cada iteración\n",
        "  return w, b, J"
      ],
      "metadata": {
        "id": "9v5F5wnVafbo"
      },
      "execution_count": 13,
      "outputs": []
    },
    {
      "cell_type": "code",
      "source": [
        "w, b, J = grad(x=train_set_data, y=train_set_label, w=w,b=b, iteraciones=100, alpha=0.01) #Realizo el grad. desc. con el conjunto de entrenamiento"
      ],
      "metadata": {
        "colab": {
          "base_uri": "https://localhost:8080/"
        },
        "id": "97EjRUWiepQi",
        "outputId": "f95d518f-700c-4ea5-c3cc-f6b4233f94e8"
      },
      "execution_count": 14,
      "outputs": [
        {
          "output_type": "stream",
          "name": "stdout",
          "text": [
            "J en la  0 -ésima iteracion: 0.6931471805599465\n",
            "J en la  10 -ésima iteracion: 0.710268813660428\n",
            "J en la  20 -ésima iteracion: 2.8926264860972437\n",
            "J en la  30 -ésima iteracion: 4.241779711317313\n",
            "J en la  40 -ésima iteracion: 0.724206335518679\n",
            "J en la  50 -ésima iteracion: 1.8101018272204936\n",
            "J en la  60 -ésima iteracion: 2.2378324436264454\n",
            "J en la  70 -ésima iteracion: 0.5963814601246341\n",
            "J en la  80 -ésima iteracion: 3.278922590723895\n",
            "J en la  90 -ésima iteracion: 1.3027945112618138\n"
          ]
        }
      ]
    },
    {
      "cell_type": "code",
      "source": [
        "def binary(x, y, w, b ,imagen):\n",
        "  p = sigmoid(np.matmul(w.T, x)+b)\n",
        "  ytst = np.matmul(w.T, x)+b\n",
        "  ytst = -(ytst/100) #Usamos la función de activación con los pesos finales\n",
        "  if ytst[:1,imagen]< 0.5:\n",
        "    ytst[:1,imagen]=0 #Evaluamos en la imagen específica\n",
        "    print('La imagen ',imagen,' es un perro')\n",
        "  if ytst[:1,imagen] > 0.5:\n",
        "    ytst[:1,imagen]=1\n",
        "    print('La imagen ',imagen,' es un gato')\n",
        "  return ytst"
      ],
      "metadata": {
        "id": "twe7_ZnkidPM"
      },
      "execution_count": 15,
      "outputs": []
    },
    {
      "cell_type": "code",
      "source": [
        "twst2 = binary(train_set_data, train_set_label, w, b, 75) #Calcula todas las predicciones del dataset, pero solo imprime la que se pasa en el último arg."
      ],
      "metadata": {
        "colab": {
          "base_uri": "https://localhost:8080/"
        },
        "id": "ToGvUsS1kftC",
        "outputId": "096a0b93-3c4e-498f-e5d4-e49ef4e5fa05"
      },
      "execution_count": 16,
      "outputs": [
        {
          "output_type": "stream",
          "name": "stdout",
          "text": [
            "La imagen  75  es un perro\n"
          ]
        }
      ]
    },
    {
      "cell_type": "code",
      "source": [
        "twst2 = binary(train_set_data, train_set_label, w, b, 79)"
      ],
      "metadata": {
        "colab": {
          "base_uri": "https://localhost:8080/"
        },
        "id": "Qb27WI8ulbgD",
        "outputId": "339c8a15-4cc1-42fa-dc7d-0774575f3a0d"
      },
      "execution_count": 17,
      "outputs": [
        {
          "output_type": "stream",
          "name": "stdout",
          "text": [
            "La imagen  79  es un perro\n"
          ]
        }
      ]
    },
    {
      "cell_type": "code",
      "source": [
        "#plt.imshow(train_data[79])"
      ],
      "metadata": {
        "id": "guUwtFmPlfK2"
      },
      "execution_count": 18,
      "outputs": []
    },
    {
      "cell_type": "code",
      "source": [
        "testing_precission = binary(test_set_data, test_label, w, b, 1) #Aunque solo imprime la imagen seleccionada en el último argumento de la función\n",
        "                                                                #Realmente está calculando la predicción en todas las imágenes del dataset"
      ],
      "metadata": {
        "colab": {
          "base_uri": "https://localhost:8080/"
        },
        "id": "nfoEhINpok94",
        "outputId": "ecb12f73-9079-4553-b4c2-43713cc2ac33"
      },
      "execution_count": 19,
      "outputs": [
        {
          "output_type": "stream",
          "name": "stdout",
          "text": [
            "La imagen  1  es un perro\n"
          ]
        }
      ]
    },
    {
      "cell_type": "code",
      "source": [
        "def precission(data, labels):\n",
        "  y_test = np.zeros_like(data[0])\n",
        "  for i in range(len(data[0].shape)):\n",
        "    if data[0, i] > 0.5:\n",
        "      y_test[i]=1\n",
        "    else:\n",
        "      y_test[i]=0\n",
        "\n",
        "  from sklearn.metrics import accuracy_score\n",
        "\n",
        "  accuracy = accuracy_score(y_test, labels)\n",
        "  print('La precisión es del ',accuracy*100,'%')\n",
        "\n",
        "  return accuracy"
      ],
      "metadata": {
        "id": "463jdNX1syHX"
      },
      "execution_count": 43,
      "outputs": []
    },
    {
      "cell_type": "code",
      "source": [
        "precission = precission(testing_precission, test_label)"
      ],
      "metadata": {
        "colab": {
          "base_uri": "https://localhost:8080/"
        },
        "id": "jfsCrtE5uSQ6",
        "outputId": "8b6d19e9-a08f-43b2-d28d-853b595a3eeb"
      },
      "execution_count": 44,
      "outputs": [
        {
          "output_type": "stream",
          "name": "stdout",
          "text": [
            "La precisión es del  50.5256648113791 %\n"
          ]
        }
      ]
    },
    {
      "cell_type": "code",
      "source": [
        "import glob\n",
        "import numpy as np\n",
        "import copy\n",
        "import matplotlib.pyplot as plt\n",
        "import h5py\n",
        "import scipy\n",
        "from PIL import Image\n",
        "from scipy import ndimage\n",
        "from sklearn.linear_model import LogisticRegression\n",
        "from sklearn import preprocessing\n",
        "%matplotlib inline"
      ],
      "metadata": {
        "id": "VZ-RzX2b9A6e"
      },
      "execution_count": 22,
      "outputs": []
    },
    {
      "cell_type": "code",
      "source": [
        "all_data = np.array([\n",
        "    np.asarray(Image.open(file).resize((size, size)))\n",
        "    for file in files\n",
        "])\n",
        "\n",
        "all_label = np.array([\n",
        "    1 if 'dog' in file else 0\n",
        "    for file in files\n",
        "])"
      ],
      "metadata": {
        "id": "S18CIyUo9WI4"
      },
      "execution_count": 23,
      "outputs": []
    },
    {
      "cell_type": "code",
      "source": [
        "all_data_flatten = all_data.reshape(all_data.shape[0], -1).T\n",
        "#all_set_label=all_label.reshape((1,all_label.shape[0])) #Unnecesary"
      ],
      "metadata": {
        "id": "PizdM9R29wPD"
      },
      "execution_count": 31,
      "outputs": []
    },
    {
      "cell_type": "code",
      "source": [
        "all_data_flatten.shape, all_label.shape"
      ],
      "metadata": {
        "colab": {
          "base_uri": "https://localhost:8080/"
        },
        "id": "_iuTN5Ua94zH",
        "outputId": "222c5c74-b45d-48d1-f152-c87d43a40d68"
      },
      "execution_count": 29,
      "outputs": [
        {
          "output_type": "execute_result",
          "data": {
            "text/plain": [
              "((12288, 1817), (1817,))"
            ]
          },
          "metadata": {},
          "execution_count": 29
        }
      ]
    },
    {
      "cell_type": "code",
      "source": [
        "scaler=preprocessing.StandardScaler().fit(all_data_flatten)\n",
        "scaled_data = scaler.transform(all_data_flatten)\n",
        "scaled_data.shape"
      ],
      "metadata": {
        "colab": {
          "base_uri": "https://localhost:8080/"
        },
        "id": "S0EzyEV698UD",
        "outputId": "aea991d8-52e7-476d-9e56-93e8e6084c53"
      },
      "execution_count": 37,
      "outputs": [
        {
          "output_type": "execute_result",
          "data": {
            "text/plain": [
              "(12288, 1817)"
            ]
          },
          "metadata": {},
          "execution_count": 37
        }
      ]
    },
    {
      "cell_type": "code",
      "source": [
        "from sklearn.model_selection import train_test_split\n",
        "x_train_test, x_val, y_train_test, y_val = train_test_split(scaled_data.T,all_label, test_size=0.10, random_state=42,shuffle= True)"
      ],
      "metadata": {
        "id": "bRPSx8tC-GHu"
      },
      "execution_count": 38,
      "outputs": []
    },
    {
      "cell_type": "code",
      "source": [
        "import tensorflow as tf\n",
        "from tensorflow.keras.models import Sequential\n",
        "from tensorflow.keras.layers import Dense,Dropout"
      ],
      "metadata": {
        "id": "UtTpmm73-Imv"
      },
      "execution_count": 39,
      "outputs": []
    },
    {
      "cell_type": "code",
      "source": [
        "tf.random.set_seed(1234)  # applied to achieve reproducible results\n",
        "model = Sequential(\n",
        "    [\n",
        "        tf.keras.Input(shape=(x_train_test.shape[1],)),\n",
        "        Dense(1, activation='sigmoid', name = 'layer1'),\n",
        "     ]\n",
        ")\n",
        "\n",
        "model.summary()"
      ],
      "metadata": {
        "colab": {
          "base_uri": "https://localhost:8080/",
          "height": 168
        },
        "id": "-fcsvvux-b2m",
        "outputId": "56f795f4-0c4c-49cd-f7a5-ae0e22bf9b6a"
      },
      "execution_count": 40,
      "outputs": [
        {
          "output_type": "display_data",
          "data": {
            "text/plain": [
              "\u001b[1mModel: \"sequential_1\"\u001b[0m\n"
            ],
            "text/html": [
              "<pre style=\"white-space:pre;overflow-x:auto;line-height:normal;font-family:Menlo,'DejaVu Sans Mono',consolas,'Courier New',monospace\"><span style=\"font-weight: bold\">Model: \"sequential_1\"</span>\n",
              "</pre>\n"
            ]
          },
          "metadata": {}
        },
        {
          "output_type": "display_data",
          "data": {
            "text/plain": [
              "┏━━━━━━━━━━━━━━━━━━━━━━━━━━━━━━━━━┳━━━━━━━━━━━━━━━━━━━━━━━━┳━━━━━━━━━━━━━━━┓\n",
              "┃\u001b[1m \u001b[0m\u001b[1mLayer (type)                   \u001b[0m\u001b[1m \u001b[0m┃\u001b[1m \u001b[0m\u001b[1mOutput Shape          \u001b[0m\u001b[1m \u001b[0m┃\u001b[1m \u001b[0m\u001b[1m      Param #\u001b[0m\u001b[1m \u001b[0m┃\n",
              "┡━━━━━━━━━━━━━━━━━━━━━━━━━━━━━━━━━╇━━━━━━━━━━━━━━━━━━━━━━━━╇━━━━━━━━━━━━━━━┩\n",
              "│ layer1 (\u001b[38;5;33mDense\u001b[0m)                  │ (\u001b[38;5;45mNone\u001b[0m, \u001b[38;5;34m1\u001b[0m)              │        \u001b[38;5;34m12,289\u001b[0m │\n",
              "└─────────────────────────────────┴────────────────────────┴───────────────┘\n"
            ],
            "text/html": [
              "<pre style=\"white-space:pre;overflow-x:auto;line-height:normal;font-family:Menlo,'DejaVu Sans Mono',consolas,'Courier New',monospace\">┏━━━━━━━━━━━━━━━━━━━━━━━━━━━━━━━━━┳━━━━━━━━━━━━━━━━━━━━━━━━┳━━━━━━━━━━━━━━━┓\n",
              "┃<span style=\"font-weight: bold\"> Layer (type)                    </span>┃<span style=\"font-weight: bold\"> Output Shape           </span>┃<span style=\"font-weight: bold\">       Param # </span>┃\n",
              "┡━━━━━━━━━━━━━━━━━━━━━━━━━━━━━━━━━╇━━━━━━━━━━━━━━━━━━━━━━━━╇━━━━━━━━━━━━━━━┩\n",
              "│ layer1 (<span style=\"color: #0087ff; text-decoration-color: #0087ff\">Dense</span>)                  │ (<span style=\"color: #00d7ff; text-decoration-color: #00d7ff\">None</span>, <span style=\"color: #00af00; text-decoration-color: #00af00\">1</span>)              │        <span style=\"color: #00af00; text-decoration-color: #00af00\">12,289</span> │\n",
              "└─────────────────────────────────┴────────────────────────┴───────────────┘\n",
              "</pre>\n"
            ]
          },
          "metadata": {}
        },
        {
          "output_type": "display_data",
          "data": {
            "text/plain": [
              "\u001b[1m Total params: \u001b[0m\u001b[38;5;34m12,289\u001b[0m (48.00 KB)\n"
            ],
            "text/html": [
              "<pre style=\"white-space:pre;overflow-x:auto;line-height:normal;font-family:Menlo,'DejaVu Sans Mono',consolas,'Courier New',monospace\"><span style=\"font-weight: bold\"> Total params: </span><span style=\"color: #00af00; text-decoration-color: #00af00\">12,289</span> (48.00 KB)\n",
              "</pre>\n"
            ]
          },
          "metadata": {}
        },
        {
          "output_type": "display_data",
          "data": {
            "text/plain": [
              "\u001b[1m Trainable params: \u001b[0m\u001b[38;5;34m12,289\u001b[0m (48.00 KB)\n"
            ],
            "text/html": [
              "<pre style=\"white-space:pre;overflow-x:auto;line-height:normal;font-family:Menlo,'DejaVu Sans Mono',consolas,'Courier New',monospace\"><span style=\"font-weight: bold\"> Trainable params: </span><span style=\"color: #00af00; text-decoration-color: #00af00\">12,289</span> (48.00 KB)\n",
              "</pre>\n"
            ]
          },
          "metadata": {}
        },
        {
          "output_type": "display_data",
          "data": {
            "text/plain": [
              "\u001b[1m Non-trainable params: \u001b[0m\u001b[38;5;34m0\u001b[0m (0.00 B)\n"
            ],
            "text/html": [
              "<pre style=\"white-space:pre;overflow-x:auto;line-height:normal;font-family:Menlo,'DejaVu Sans Mono',consolas,'Courier New',monospace\"><span style=\"font-weight: bold\"> Non-trainable params: </span><span style=\"color: #00af00; text-decoration-color: #00af00\">0</span> (0.00 B)\n",
              "</pre>\n"
            ]
          },
          "metadata": {}
        }
      ]
    },
    {
      "cell_type": "code",
      "source": [
        "model.compile(\n",
        "    loss = tf.keras.losses.BinaryCrossentropy(),\n",
        "    optimizer='sgd',\n",
        "    metrics=[tf.keras.metrics.BinaryAccuracy()]\n",
        ")"
      ],
      "metadata": {
        "id": "nRzehoGn-fbJ"
      },
      "execution_count": 41,
      "outputs": []
    },
    {
      "cell_type": "code",
      "source": [
        "model.fit(\n",
        "    x_train_test,y_train_test,\n",
        "    batch_size=20,\n",
        "    epochs=10,\n",
        "    validation_split=0.1\n",
        ")\n",
        "\n",
        "y_pred_test = model.predict(x_val)\n",
        "y_pred_test = (y_pred_test >= 0.5).astype(int)\n",
        "print(\"Accuracy: {}%\".format(100 - np.mean(np.abs(y_pred_test - y_val)) * 100))"
      ],
      "metadata": {
        "colab": {
          "base_uri": "https://localhost:8080/"
        },
        "id": "Rj0L2pXE-nva",
        "outputId": "4c764994-e157-4493-b7f9-451ded779ce9"
      },
      "execution_count": 42,
      "outputs": [
        {
          "output_type": "stream",
          "name": "stdout",
          "text": [
            "Epoch 1/10\n",
            "\u001b[1m74/74\u001b[0m \u001b[32m━━━━━━━━━━━━━━━━━━━━\u001b[0m\u001b[37m\u001b[0m \u001b[1m1s\u001b[0m 7ms/step - binary_accuracy: 0.5427 - loss: 1.3850 - val_binary_accuracy: 0.5488 - val_loss: 1.6108\n",
            "Epoch 2/10\n",
            "\u001b[1m74/74\u001b[0m \u001b[32m━━━━━━━━━━━━━━━━━━━━\u001b[0m\u001b[37m\u001b[0m \u001b[1m0s\u001b[0m 5ms/step - binary_accuracy: 0.5996 - loss: 1.3013 - val_binary_accuracy: 0.5061 - val_loss: 2.4773\n",
            "Epoch 3/10\n",
            "\u001b[1m74/74\u001b[0m \u001b[32m━━━━━━━━━━━━━━━━━━━━\u001b[0m\u001b[37m\u001b[0m \u001b[1m1s\u001b[0m 4ms/step - binary_accuracy: 0.6581 - loss: 1.0558 - val_binary_accuracy: 0.4939 - val_loss: 2.5846\n",
            "Epoch 4/10\n",
            "\u001b[1m74/74\u001b[0m \u001b[32m━━━━━━━━━━━━━━━━━━━━\u001b[0m\u001b[37m\u001b[0m \u001b[1m1s\u001b[0m 4ms/step - binary_accuracy: 0.6816 - loss: 0.9038 - val_binary_accuracy: 0.4939 - val_loss: 1.8713\n",
            "Epoch 5/10\n",
            "\u001b[1m74/74\u001b[0m \u001b[32m━━━━━━━━━━━━━━━━━━━━\u001b[0m\u001b[37m\u001b[0m \u001b[1m0s\u001b[0m 4ms/step - binary_accuracy: 0.7106 - loss: 0.7909 - val_binary_accuracy: 0.5244 - val_loss: 1.9599\n",
            "Epoch 6/10\n",
            "\u001b[1m74/74\u001b[0m \u001b[32m━━━━━━━━━━━━━━━━━━━━\u001b[0m\u001b[37m\u001b[0m \u001b[1m1s\u001b[0m 4ms/step - binary_accuracy: 0.7472 - loss: 0.6766 - val_binary_accuracy: 0.4939 - val_loss: 1.8768\n",
            "Epoch 7/10\n",
            "\u001b[1m74/74\u001b[0m \u001b[32m━━━━━━━━━━━━━━━━━━━━\u001b[0m\u001b[37m\u001b[0m \u001b[1m1s\u001b[0m 6ms/step - binary_accuracy: 0.7583 - loss: 0.6246 - val_binary_accuracy: 0.5000 - val_loss: 1.9295\n",
            "Epoch 8/10\n",
            "\u001b[1m74/74\u001b[0m \u001b[32m━━━━━━━━━━━━━━━━━━━━\u001b[0m\u001b[37m\u001b[0m \u001b[1m1s\u001b[0m 5ms/step - binary_accuracy: 0.7897 - loss: 0.5379 - val_binary_accuracy: 0.4756 - val_loss: 2.0380\n",
            "Epoch 9/10\n",
            "\u001b[1m74/74\u001b[0m \u001b[32m━━━━━━━━━━━━━━━━━━━━\u001b[0m\u001b[37m\u001b[0m \u001b[1m1s\u001b[0m 4ms/step - binary_accuracy: 0.7957 - loss: 0.4957 - val_binary_accuracy: 0.4817 - val_loss: 2.1043\n",
            "Epoch 10/10\n",
            "\u001b[1m74/74\u001b[0m \u001b[32m━━━━━━━━━━━━━━━━━━━━\u001b[0m\u001b[37m\u001b[0m \u001b[1m0s\u001b[0m 4ms/step - binary_accuracy: 0.8233 - loss: 0.4432 - val_binary_accuracy: 0.5000 - val_loss: 1.9890\n",
            "\u001b[1m6/6\u001b[0m \u001b[32m━━━━━━━━━━━━━━━━━━━━\u001b[0m\u001b[37m\u001b[0m \u001b[1m0s\u001b[0m 10ms/step\n",
            "Accuracy: 50.289820070039845%\n"
          ]
        }
      ]
    }
  ]
}