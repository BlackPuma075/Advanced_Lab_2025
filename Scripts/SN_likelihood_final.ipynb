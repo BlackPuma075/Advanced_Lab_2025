{
 "cells": [
  {
   "cell_type": "markdown",
   "id": "8b91050d-92d8-48cb-b00e-9999c89490e2",
   "metadata": {},
   "source": [
    "Model:\n",
    "\n",
    "$\\mu = m_B^{*}-\\left(M_B-\\alpha\\times X_1 +\\beta\\times C\\right)$\n",
    "\n",
    "$\\mu$: distance modulus\n",
    "\n",
    "$m_B^{*}$: peak magnitude in rest frame\n",
    "\n",
    "$M_B$: absolute magnitude\n",
    "\n",
    "$\\alpha, \\beta$: bias parameters\n",
    "\n",
    "$C$: color"
   ]
  },
  {
   "cell_type": "code",
   "execution_count": 19,
   "id": "30128a0b-3ff4-4286-908e-5020c8ee29da",
   "metadata": {},
   "outputs": [],
   "source": [
    "import glob\n",
    "from astropy.io import fits\n",
    "import matplotlib.pyplot as plt\n",
    "import numpy as np\n",
    "from astropy.cosmology import FlatLambdaCDM\n",
    "import emcee\n",
    "from astropy import units as u\n",
    "import seaborn as sns"
   ]
  },
  {
   "cell_type": "code",
   "execution_count": 26,
   "id": "bc1cade7-be43-4273-84d5-2a57283f516a",
   "metadata": {},
   "outputs": [],
   "source": [
    "def c_stat(n): #Número de SN\n",
    "    c00 = loadsqmat('jla_v0_covmatrix.dat')\n",
    "    c11 = loadsqmat('jla_va_covmatrix.dat')\n",
    "    c22 = loadsqmat('jla_vb_covmatrix.dat')\n",
    "    c01 = loadsqmat('jla_v0a_covmatrix.dat')\n",
    "    c02 = loadsqmat('jla_v0b_covmatrix.dat')\n",
    "    c12 = loadsqmat('jla_vab_covmatrix.dat')\n",
    "    c = np.zeros((3 * n, 3 * n))\n",
    "    \n",
    "    for i in range(n):\n",
    "        for j in range(n):\n",
    "            c[3 * i + 2, 3 * j + 2] = c00[i, j]\n",
    "            c[3 * i + 1, 3 * j + 1] = c11[i, j]\n",
    "            c[3 * i, 3 * j] = c22[i, j]\n",
    "    \n",
    "            c[3 * i + 2, 3 * j + 1] = c01[i, j]\n",
    "            c[3 * i + 2, 3 * j] = c02[i, j]\n",
    "            c[3 * i, 3 * j + 1] = c12[i, j]\n",
    "    \n",
    "            c[3 * j + 1, 3 * i + 2] = c01[i, j]\n",
    "            c[3 * j, 3 * i + 2] = c02[i, j]\n",
    "            c[3 * j + 1, 3 * i] = c12[i, j]\n",
    "\n",
    "    return c\n",
    "\n",
    "def mu_cov(alpha, beta,Ceta):\n",
    "    Cmu = np.zeros_like(Ceta[::3, ::3])\n",
    "    \n",
    "    coefficients = [1., alpha, -beta]\n",
    "    for i, coef1 in enumerate(coefficients):\n",
    "        for j, coef2 in enumerate(coefficients):\n",
    "            Cmu += (coef1 * coef2) * Ceta[i::3, j::3]\n",
    "    \n",
    "    sigma = np.loadtxt('./sigma_mu.txt')\n",
    "    sigma_pecvel = (5 * 150 / 3e5) / (np.log(10.) * sigma[:, 2])\n",
    "    Cmu[np.diag_indices_from(Cmu)] += sigma[:, 0] ** 2 + sigma[:, 1] ** 2 + sigma_pecvel ** 2\n",
    "    \n",
    "    return Cmu\n",
    "\n",
    "\n",
    "\n",
    "def A_matrix(alpha,beta):\n",
    "    I = np.identity(740)\n",
    "    a_vec = (1,alpha,-beta)\n",
    "    A = np.tensordot(I,a_vec,axes=0).reshape((740,2220))\n",
    "\n",
    "    return A\n",
    "\n",
    "def eta_matrix(X_1,C,m_b):\n",
    "    eta = np.zeros((3*740))\n",
    "    for i in range(740):\n",
    "        eta[3*i] = X_1[i]\n",
    "        eta[3*i +1] = C[i]\n",
    "        eta[3*i +2] = m_b[i]\n",
    "    return eta\n",
    "\n",
    "\n",
    "def lumdist(z, Om):\n",
    "    cosmo = FlatLambdaCDM(H0=70, Om0=Om, Tcmb0=2.725)\n",
    "\n",
    "    return  cosmo.luminosity_distance(z)\n",
    "\n",
    "def lumvec(stellar_mass):\n",
    "    dM_B = np.ones_like(stellar_mass)\n",
    "    for i in range(len(stellar_mass)):\n",
    "        if stellar_mass[i]<10:\n",
    "            dM_B[i] = 0\n",
    "        \n",
    "    return dM_B     \n",
    "\n",
    "def log_likelihood(theta, lumvec, eta, z,C_eta):\n",
    "    M_B, dM_B, alpha, beta, Om = theta #Varied parameters\n",
    "    A = A_matrix(alpha,beta)\n",
    "    cov = mu_cov(alpha,beta,C_eta)\n",
    "    covariance = cov\n",
    "    model =np.matmul(A,eta)-(M_B * np.ones(740)+ dM_B * lumvec) #Model\n",
    "    mu = 5 * np.log10(lumdist(z, Om).to_value(u.Mpc)) + 25\n",
    "    vec = (model - mu) #Data vector\n",
    "    Xi = vec.T @ np.linalg.solve(np.linalg.inv(cov), vec)  \n",
    "    \n",
    "    return -0.5*Xi\n",
    "\n",
    "def log_prior(theta):\n",
    "    M_B, dM_B, alpha, beta, Om = theta\n",
    "    if -20 < M_B < -18 and -1.0 < dM_B < 0 and 0 < alpha < 0.5 and 2.0 < beta < 4.0 and 0.25 < Om < 0.35: #priors based on https://arxiv.org/pdf/1401.4064 best fit values\n",
    "        return 0.0\n",
    "    return -np.inf\n",
    "\n",
    "def log_probability(theta,lumvec, eta, z,C_eta):\n",
    "    lp = log_prior(theta)\n",
    "    if not np.isfinite(lp):\n",
    "        return -np.inf\n",
    "    return lp + log_likelihood(theta, lumvec, eta, z,C_eta)\n"
   ]
  },
  {
   "cell_type": "code",
   "execution_count": 21,
   "id": "9de4dd27-5a76-40e2-8a32-24440e4d3184",
   "metadata": {},
   "outputs": [],
   "source": [
    "#Data\n",
    "import pandas as pd\n",
    "data = pd.read_csv('jla_likelihood_v6/jla_likelihood_v6/data/jla_lcparams.txt', sep='\\s+')\n",
    "C_eta = sum([fits.getdata(mat) for mat in glob.glob('C*.fits')])\n",
    "luvec = lumvec(data['3rdvar']) #Vector de \\Delta{M_B}\n",
    "eta = eta_matrix(data['x1'],data['color'],data['mb'])\n",
    "z = data['zcmb']"
   ]
  },
  {
   "cell_type": "code",
   "execution_count": 43,
   "id": "43dad392-804d-4743-b1dd-44a4ebafa7a3",
   "metadata": {},
   "outputs": [
    {
     "name": "stderr",
     "output_type": "stream",
     "text": [
      "100%|██████████| 10/10 [01:23<00:00,  8.32s/it]"
     ]
    },
    {
     "name": "stdout",
     "output_type": "stream",
     "text": [
      "CPU times: total: 1min 22s\n",
      "Wall time: 1min 32s\n"
     ]
    },
    {
     "name": "stderr",
     "output_type": "stream",
     "text": [
      "\n"
     ]
    }
   ],
   "source": [
    "ndim = 5\n",
    "nwalkers = 50\n",
    "p0 = np.zeros((20,5))\n",
    "\n",
    "mean =[-19,-0.05,0.1,3,0.3]\n",
    "std = [0.01,0.01, 0.01, 0.01, 0.01]  \n",
    "p0 = np.random.normal(mean, std, size=(nwalkers, ndim))\n",
    "\n",
    "sampler = emcee.EnsembleSampler(nwalkers, ndim, log_probability, args=[luvec, eta, z,C_eta])\n",
    "%time state = sampler.run_mcmc(p0, 10, progress=True)\n",
    "sampler.reset()"
   ]
  },
  {
   "cell_type": "code",
   "execution_count": 44,
   "id": "fc5cae46-944f-4a20-a347-7b36fe1edf8b",
   "metadata": {},
   "outputs": [
    {
     "name": "stderr",
     "output_type": "stream",
     "text": [
      "100%|██████████| 100/100 [11:05<00:00,  6.65s/it]"
     ]
    },
    {
     "name": "stdout",
     "output_type": "stream",
     "text": [
      "CPU times: total: 9min 58s\n",
      "Wall time: 11min 14s\n"
     ]
    },
    {
     "name": "stderr",
     "output_type": "stream",
     "text": [
      "\n"
     ]
    }
   ],
   "source": [
    "%time sampler.run_mcmc(state.coords, 100, progress=True)\n",
    "chain = sampler.get_chain()\n",
    "np.save(\"100_steps_50_walkers.npy\", chain)"
   ]
  }
 ],
 "metadata": {
  "kernelspec": {
   "display_name": "Python 3 (ipykernel)",
   "language": "python",
   "name": "python3"
  },
  "language_info": {
   "codemirror_mode": {
    "name": "ipython",
    "version": 3
   },
   "file_extension": ".py",
   "mimetype": "text/x-python",
   "name": "python",
   "nbconvert_exporter": "python",
   "pygments_lexer": "ipython3",
   "version": "3.10.13"
  }
 },
 "nbformat": 4,
 "nbformat_minor": 5
}
