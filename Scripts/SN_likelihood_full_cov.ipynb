{
 "cells": [
  {
   "cell_type": "markdown",
   "id": "8b91050d-92d8-48cb-b00e-9999c89490e2",
   "metadata": {},
   "source": [
    "Model:\n",
    "\n",
    "$\\mu = m_B^{*}-\\left(M_B-\\alpha\\times X_1 +\\beta\\times C\\right)$\n",
    "\n",
    "$\\mu$: distance modulus\n",
    "\n",
    "$m_B^{*}$: peak magnitude in rest frame\n",
    "\n",
    "$M_B$: absolute magnitude\n",
    "\n",
    "$\\alpha, \\beta$: bias parameters\n",
    "\n",
    "$C$: color"
   ]
  },
  {
   "cell_type": "code",
   "execution_count": 24,
   "id": "30128a0b-3ff4-4286-908e-5020c8ee29da",
   "metadata": {},
   "outputs": [],
   "source": [
    "import numpy as np\n",
    "from astropy.cosmology import FlatLambdaCDM\n",
    "import emcee\n",
    "from astropy import units as u"
   ]
  },
  {
   "cell_type": "code",
   "execution_count": 46,
   "id": "bc1cade7-be43-4273-84d5-2a57283f516a",
   "metadata": {},
   "outputs": [],
   "source": [
    "def Covariance(C_eta, alpha, beta):\n",
    "    I = np.identity(740)\n",
    "    a_vec = (1,alpha,beta)\n",
    "    A = np.tensordot(I,a_vec,axes=0).reshape((740,2220))\n",
    "    covariance = np.matmul(A.T,np.matmul(C_eta,A))\n",
    "    \n",
    "    return covariance, A\n",
    "\n",
    "def A_matrix(alpha,beta):\n",
    "    I = np.identity(740)\n",
    "    a_vec = (1,alpha,beta)\n",
    "    A = np.tensordot(I,a_vec,axes=0).reshape((740,2220))\n",
    "\n",
    "    return A\n",
    "\n",
    "def eta_matrix(X_1,C,m_b):\n",
    "    eta = np.zeros((3*740))\n",
    "    for i in range(740):\n",
    "        eta[3*i] = X_1[i]\n",
    "        eta[3*i +1] = C[i]\n",
    "        eta[3*i +2] = m_b[i]\n",
    "    return eta\n",
    "\n",
    "\n",
    "def lumdist(z, Om,H0):\n",
    "    cosmo = FlatLambdaCDM(H0=H0, Om0=Om, Tcmb0=2.725)\n",
    "\n",
    "    return  cosmo.luminosity_distance(z)\n",
    "\n",
    "def lumvec(stellar_mass):\n",
    "    dM_B = np.ones_like(stellar_mass)\n",
    "    for i in range(len(stellar_mass)):\n",
    "        if stellar_mass[i]<10:\n",
    "            dM_B[i] = 0\n",
    "        \n",
    "    return dM_B     \n",
    "\n",
    "def log_likelihood(theta, cov, lumvec, eta, z):\n",
    "    M_B, dM_B, alpha, beta, Om, H0 = theta #Varied parameters\n",
    "    #covariance, A = Covariance(cov, alpha, beta)\n",
    "    #cov = np.linalg.pinv(covariance) #Covariance matrix\n",
    "    A = A_matrix(alpha, beta)\n",
    "    a_vec = np.tile([1, alpha, beta], 2220//3)\n",
    "    covariance = np.matmul(A.T,np.matmul(cov,A))\n",
    "    model =a_vec*eta-(M_B*np.ones(2220)+dM_B*np.tile(lumvec,3)) #Model\n",
    "    mu = lumdist(z, Om, H0)\n",
    "    mu = mu.to_value(u.Mpc)\n",
    "    vec = (model - mu) #Data vector\n",
    "    Xi = np.matmul(np.matmul(vec, covariance),vec.T) #computation of the xi_sqrd\n",
    "    \n",
    "    return -0.5*Xi\n",
    "\n",
    "def log_prior(theta):\n",
    "    M_B, dM_B, alpha, beta, Om,H0 = theta\n",
    "    if -30 < M_B < 0 and -1.0 < dM_B < 1.0 and -1.0 < alpha < 1.0 and 0.0 < beta < 5.0 and 0.0 < Om < 0.5 and 65 < H0 < 75: #priors based on https://arxiv.org/pdf/1401.4064 best fit values\n",
    "        return 0.0\n",
    "    return -np.inf\n",
    "\n",
    "def log_probability(theta, cov, lumvec, eta, z):\n",
    "    lp = log_prior(theta)\n",
    "    if not np.isfinite(lp):\n",
    "        return -np.inf\n",
    "    return lp + log_likelihood(theta, cov, lumvec, eta, z)\n"
   ]
  },
  {
   "cell_type": "code",
   "execution_count": 47,
   "id": "9de4dd27-5a76-40e2-8a32-24440e4d3184",
   "metadata": {},
   "outputs": [],
   "source": [
    "#Data\n",
    "import pandas as pd\n",
    "data = pd.read_csv('jla_likelihood_v6/jla_likelihood_v6/data/jla_lcparams.txt', sep='\\s+')\n",
    "C_eta = np.load('C_eta.npy')\n",
    "luvec = lumvec(data['3rdvar']) #Vector de \\Delta{M_B}\n",
    "eta = eta_matrix(data['x1'],data['color'],data['mb'])\n",
    "z = np.repeat(data['zcmb'],3)"
   ]
  },
  {
   "cell_type": "code",
   "execution_count": 48,
   "id": "43dad392-804d-4743-b1dd-44a4ebafa7a3",
   "metadata": {},
   "outputs": [],
   "source": [
    "ndim = 6\n",
    "nwalkers = 12\n",
    "p0 = np.zeros((12,6))\n",
    "\n",
    "for i in range(6):\n",
    "    for j in range(12):\n",
    "        mean =[-20,0,0,2,0.3,70.]\n",
    "        std = [0.01,0.01, 0.01, 0.01, 0.01, 0.01]  \n",
    "        p0[j,i] = np.random.normal(mean[i], std[i])"
   ]
  },
  {
   "cell_type": "code",
   "execution_count": 49,
   "id": "7b1823b4-f293-437d-bf9a-9d7bd783285f",
   "metadata": {},
   "outputs": [],
   "source": [
    "sampler = emcee.EnsembleSampler(nwalkers, ndim, log_probability, args=[C_eta, luvec, eta, z])"
   ]
  },
  {
   "cell_type": "code",
   "execution_count": 50,
   "id": "5acc1d13-80e2-4354-aecf-86a504f58942",
   "metadata": {},
   "outputs": [
    {
     "name": "stdout",
     "output_type": "stream",
     "text": [
      "CPU times: total: 2min 14s\n",
      "Wall time: 30.8 s\n"
     ]
    }
   ],
   "source": [
    "%time state = sampler.run_mcmc(p0, 10)\n",
    "sampler.reset()"
   ]
  },
  {
   "cell_type": "code",
   "execution_count": null,
   "id": "1746d826-db34-4c65-b30f-5e75453b5330",
   "metadata": {},
   "outputs": [],
   "source": [
    "%time sampler.run_mcmc(state, 500);\n",
    "chain = sampler.get_chain()\n",
    "np.save(\"chain_test_full_cov.npy\", chain)  # Guarda la cadena en un archivo .npy"
   ]
  }
 ],
 "metadata": {
  "kernelspec": {
   "display_name": "Python 3 (ipykernel)",
   "language": "python",
   "name": "python3"
  },
  "language_info": {
   "codemirror_mode": {
    "name": "ipython",
    "version": 3
   },
   "file_extension": ".py",
   "mimetype": "text/x-python",
   "name": "python",
   "nbconvert_exporter": "python",
   "pygments_lexer": "ipython3",
   "version": "3.10.13"
  }
 },
 "nbformat": 4,
 "nbformat_minor": 5
}
